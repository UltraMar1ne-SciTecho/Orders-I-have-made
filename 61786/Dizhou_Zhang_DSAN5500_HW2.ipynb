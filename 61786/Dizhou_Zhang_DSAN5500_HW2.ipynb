{
 "nbformat": 4,
 "nbformat_minor": 0,
 "metadata": {
  "colab": {
   "provenance": []
  },
  "kernelspec": {
   "name": "python3",
   "language": "python",
   "display_name": "Python 3 (ipykernel)"
  },
  "language_info": {
   "name": "python"
  }
 },
 "cells": [
  {
   "cell_type": "code",
   "source": [
    "# # @title Run Cell to Submit for Autograding!\n",
    "# from google.colab import auth\n",
    "# auth.authenticate_user()\n",
    "# import requests\n",
    "# gcloud_token = !gcloud auth print-access-token\n",
    "# token_base = gcloud_token[0]\n",
    "# base_url = \"https://us-east4-dsan5500.cloudfunctions.net/grade-sub-sandbox\"\n",
    "# ag_params = {'t': token_base, 'course': 'DSAN5500', 'assignment': 'HW2'}\n",
    "# response = requests.get(base_url, params=ag_params)\n",
    "# print(response.text)"
   ],
   "metadata": {
    "cellView": "form",
    "id": "rzYiIWikoss0",
    "colab": {
     "base_uri": "https://localhost:8080/"
    },
    "outputId": "2b418ada-3ec7-4398-e416-77ab51baccec",
    "ExecuteTime": {
     "end_time": "2024-02-23T13:42:08.979242900Z",
     "start_time": "2024-02-23T13:42:08.699248500Z"
    }
   },
   "execution_count": 10,
   "outputs": []
  },
  {
   "cell_type": "code",
   "source": [
    "# @title Assignment Corrections (Run Cell to Fetch / Refresh)\n",
    "import base64\n",
    "import datetime\n",
    "import json\n",
    "from urllib.request import urlopen\n",
    "from IPython.display import Markdown\n",
    "exec_tz = datetime.datetime.now().astimezone().tzinfo\n",
    "exec_timestamp = datetime.datetime.now(tz=exec_tz).strftime(\"%Y-%m-%d %H:%M:%S %Z\")\n",
    "gh_url = \"https://api.github.com/repos/jpowerj/dsan-corrections/contents/2024-spr-dsan5500/DSAN5500_HW2_Corrections.md?ref=main\"\n",
    "md_data = json.load(urlopen(gh_url))\n",
    "md_content_b64 = md_data['content']\n",
    "md_content = base64.b64decode(md_content_b64).decode('utf-8')\n",
    "corrections_content = md_content + f\"\\n\\nLast fetched: {exec_timestamp}\"\n",
    "Markdown(corrections_content)"
   ],
   "metadata": {
    "id": "4jfkC_jNV33G",
    "colab": {
     "base_uri": "https://localhost:8080/",
     "height": 284
    },
    "outputId": "603301b2-ee3e-4354-dfe5-ca6bbb390881",
    "ExecuteTime": {
     "end_time": "2024-02-23T13:42:09.294090100Z",
     "start_time": "2024-02-23T13:42:08.981189500Z"
    }
   },
   "execution_count": 11,
   "outputs": [
    {
     "data": {
      "text/plain": "<IPython.core.display.Markdown object>",
      "text/markdown": "**DSAN 5500 HW2 Corrections:** (If you are working in Colab, your notebook has been auto-updated to reflect these corrections)\n\n* *(2024-02-21, 11pm EST)* For Part 5, in lines 21 and 22 of the cell titled `define-alpha-hasher-2`, `AlphaHasher2` should be changed to just `self`: `first_letter_pos = self.compute_position_in_alphabet(first_letter)` (line 21), `second_letter_pos = self.compute_position_in_alphabet(second_letter)` (line 22). *(Thank you to Yanfeng for finding this fix!)*\n* *(2024-02-20, 8pm EST)* I have added a `__len__()` function to the provided `BinarySearchTree` and `BSTNode` classes, to make it easier for you to implement the `__len__()` function in `LogarithmicHashTable` (Q4.1), since you can now use `len()` to find the number of items in any slot containing a `BinarySearchTree`. *(Thank you to Yanfeng for suggesting this!)*\n* *(2024-02-19, 7pm EST)* Within the starter code for Question 1.1 (so, the cell titled `Q1.1-response`), in line 33, the call to `self.hasher.compute_letter_for_index(i)` should be changed to `self.hasher.compute_key_for_index(i)`. *(Thank you to Yifan for finding this!)*\n* *(2024-02-19, 7pm EST)* Within the cell titled `define-linked-list`, line 84 should be changed from `if self.content == item or self.content.item_name == item:` to `if self.content == item or self.content[0] == item`, since `self.content` should be of type `tuple`. *(Thank you to Yanfeng for finding this one!)*\n* *(2024-02-18, 11pm EST)* Within the cell titled `define-alpha-hasher`, line 40 should be changed from `return AlphaHasher.compute_position_in_alphabet(first_letter)` to `return self.compute_position_in_alphabet(first_letter)`. *(Thank you to Yifan for finding this!)*\n\n\nLast fetched: 2024-02-23 22:42:08 东京标准时间"
     },
     "execution_count": 11,
     "metadata": {},
     "output_type": "execute_result"
    }
   ]
  },
  {
   "cell_type": "markdown",
   "source": [
    "# DSAN 5500 Homework 2: Data Structures, Algorithms, and Complexity\n",
    "\n",
    "**Due Friday, February 23, 5:59pm EST**\n",
    "\n",
    "Since we've now covered the Hash Table, and since you now have experience with the basics of how a Linked List is implemented, the goal of this homework is to **bring these two pieces of your knowledge together** by showing how:\n",
    "\n",
    "1. \"Naïve\" Hash Tables, until they are **paired** with some minimally-efficient method for handling **collisions**, are not very useful on their own (Part 1)\n",
    "2. However, since we now know about Linked Lists, we can **use a Linked List structure within our Hash Table implementation** to achieve an actually-useful (non-naïve) Hash Table achieving $O(1 + \\epsilon n)$ runtime (Part 2)\n",
    "3. Once you've seen how these two can be put together, we'll look at a **simple modification** we can make to the Linked List structure to create a **Binary Search Tree** structure, which can store and retrieve elements in $O(\\log_2(n))$ time, faster than the $O(n)$ runtime of the Linked List (Part 3)\n",
    "4. Then, once we've seen this Binary Search Tree Structure, we can return to our Hash Tables from Part 2 and **replace the Linked List structure being used to handle collisions** with a **Binary Search Tree structure instead**, to transform the Hash Table's runtime from $O(1 + \\epsilon n)$ to $O(1 + \\epsilon \\log_2(n))$ (Part 4)\n",
    "5. Finally, we will make one simple modification to our LogarithmicHashTable, using the first **two** letters of each key as the hash code (instead of just the first letter), which will bring us yet closer to full-on $O(1)$ time. This improvement illustrates how, by increasing the **memory** allocated for the fixed-length array in our hash table, we can get **arbitrarily close** to $O(1)$! (Part 5)"
   ],
   "metadata": {
    "id": "1tHHwxMqCp9V"
   }
  },
  {
   "cell_type": "markdown",
   "source": [
    "## Part 1: Naïve Hash Tables (Without Collision Handling)\n",
    "\n",
    "Of all the parts on this assignment, this is the only one where you'll be making a structure that you would **not** want to use in real life! It's incredibly important for learning, however, since\n",
    "\n",
    "* (a) we'll see why a hash table **on its own**---that is, without any reasonably-efficient way to handle **collisions**---is not really a data structure at all (since it **loses information** that was previously added to it). However,\n",
    "* (b) we'll be able to use the code for our non-useful Naïve Hash Table as the basis for a **useful Hash Table**, which you'll write in Part 2.\n",
    "\n",
    "First things first, however, we'll need a **hash function** which can take the **keys** we want to store in our hash table and deterministically derive a **slot** in our fixed-length array where a given key should be stored. To achieve this, run the following cell, which creates an `AlphaHasher` class that we'll use to hash `str` values. Specifically, this class will compute the hash value for a `str` as the **index in the alphabet** of the **first letter of the string**:\n",
    "\n",
    "* `\"Aardvark\"` will be mapped to `0` since `\"A\"` is the letter at index `0` of the English alphabet,\n",
    "* `\"Banana\"` will be mapped to `1` since `\"B\"` is the letter at index `1` in the English alphabet, and so on, up to...\n",
    "* `\"Zebra\"`, which will be mapped to `25`.\n",
    "\n",
    "Note that, in Part 5, we'll switch from using `AlphaHasher` to using a new `DoubleAlphaHasher` class to hash based on the first **two** letters of the string, rather than just the first letter. While we'll stick to the pattern of having both `AlphaHasher` and `DoubleAlphaHasher` classes for now, since there are only two different versions, you can imagine how it could be helpful to **change the design pattern** we're using, to allow users to **specify** how many letters to use for hashing: rather than creating separate classes `AlphaHasher`, `DoubleAlphaHasher`, `TripleAlphaHasher`, etc., we could just create a single `NAlphaHasher` class which would allow users to specify how many letters of the string they want the hashing to use!"
   ],
   "metadata": {
    "id": "_aDQcFjJDULM"
   }
  },
  {
   "cell_type": "code",
   "source": [
    "# @title define-alpha-hasher\n",
    "from abc import ABC, abstractmethod\n",
    "import string\n",
    "\n",
    "class CustomHasher(ABC):\n",
    "  @abstractmethod\n",
    "  def __init__(self):\n",
    "    pass\n",
    "\n",
    "  @abstractmethod\n",
    "  def get_alphabet_size(self):\n",
    "    pass\n",
    "\n",
    "  @abstractmethod\n",
    "  def hash(self, str_to_hash: str) -> int:\n",
    "    pass\n",
    "\n",
    "  @abstractmethod\n",
    "  def compute_position_in_alphabet(self, uppercase_key: str) -> int:\n",
    "    pass\n",
    "\n",
    "  @abstractmethod\n",
    "  def compute_key_for_index(self, index: int) -> str:\n",
    "    pass\n",
    "\n",
    "class AlphaHasher(CustomHasher):\n",
    "  def __init__(self):\n",
    "    self.alphabet_size = 26\n",
    "\n",
    "  def get_alphabet_size(self):\n",
    "    return self.alphabet_size\n",
    "\n",
    "  def hash(self, str_to_hash: str) -> int:\n",
    "    if len(str_to_hash) == 0:\n",
    "      first_letter = 'A'\n",
    "    else:\n",
    "      first_letter = str_to_hash.upper()[0]\n",
    "    # And return its index in the alphabet:\n",
    "    # 'A' has index 0, 'B' has index 1, etc.\n",
    "    return self.compute_position_in_alphabet(first_letter)\n",
    "\n",
    "  def compute_position_in_alphabet(self, uppercase_key: str) -> int:\n",
    "    return string.ascii_uppercase.index(uppercase_key)\n",
    "\n",
    "  def compute_key_for_index(self, index: int) -> str:\n",
    "    return string.ascii_uppercase[index]"
   ],
   "metadata": {
    "id": "ErETIN8aBmBp",
    "ExecuteTime": {
     "end_time": "2024-02-23T13:59:13.303272Z",
     "start_time": "2024-02-23T13:59:13.293126200Z"
    }
   },
   "execution_count": 66,
   "outputs": []
  },
  {
   "cell_type": "markdown",
   "source": [
    "### Question 1.1: The `NaiveHashTable` Class\n",
    "\n",
    "In the following cell, build on the provided starter code to create a working `NaiveHashTable` class. Each of the bullet points here represents an element of this class that your code should implement.\n",
    "\n",
    "* `__init__(self) -> None`. This **constructor** function should take only the required `self` argument, but will also perform the following initialization steps, which are already written for you:\n",
    "  * Create an **instance variable** called `fixed_length_array`, whose value should be initialized to an **empty NumPy array** object with size `26` (for the 26 \"slots\" in the English alphabet). Specifically, you'll need to create this empty array using NumPy's <a href='https://numpy.org/doc/stable/reference/generated/numpy.empty.html' target='_blank'>`np.empty()` function</a>.\n",
    "  * Create an **instance variable** called `num_added`, initialized to the `int` value `0` (this will be incremented each time the `add()` function runs)\n",
    "  * Create an **instance variable** called `num_collisions`, initialized to the `int` value `0` (this will be incremented each time the `add()` function encounters a collision)\n",
    "* `add(key: str, value: object) -> bool`\n",
    "\n",
    "  This function should:\n",
    "\n",
    "  1. Create a variable called `data` and assign the tuple `(key, value)` as its value,\n",
    "  2. **Use the `hash()` function from `AlphaHasher`** to **hash** the value of the `key` argument, storing this hashed value (which will be of type `int`) into a variable called `key_hash`. However, here you will need to be careful and include a **check** to determine whether or not the variable `key` is in fact a **string**. If `key` is an **instance of** the `str` type, then your code can safely call `hash(key)` without issue. If it is not, however, your function should **not** try to call `hash(key)`, and should instead just return the `bool` value `False`. Thus, users of your `NaiveHashTable` class will know that if the `add()` function returned `False` it means the `key` they provided was **not hashable** given our `AlphaHasher` setup.\n",
    "\n",
    "    Note how we *can* (and should!) include a `str` **type hint** for the `key` argument in the specification of `add()` above, but since Python does not **enforce** type hints, we still ask you to perform this check within the `add()` function. The rationale for this is: if you are developing **for yourself** or in a **small team**, you can either (a) trust yourself and your teammates to look at and never violate the type hints, **or** (b) set up your personal/team development environment so that it **runs a type-checker like MyPy** on each `.py`/`.ipynb` file before running it. For larger collaborative projects, however (for example, the many popular open-source projects with hundreds of contributors on GitHub), it will almost **never** be the case that they run MyPy before running Python code, sadly!\n",
    "  3. If the function did not return `False` during the previous step, and we were able to successfully compute a hash value for `key`, then store the `(key, value)` tuple (the value assigned to the variable `data` in Step 1) in the specific \"slot\" within `base_array` with index `key_hash`. For example: if the value of `key_hash` is `0`, store the tuple as the **first** element of `self.fixed_length_array`; if the value of `key_hash` is `1`, store the tuple as the **second** element of `fixed_length_array`; and so on. However, here you will need to be careful to **check whether there was a collision or not!** If the previous value in the slot **was not `None`**, then there has been a **collision**, so that you should **increment the `self.num_collisions` instance variable** before you replace the previous value in the slot with the new value!\n",
    "  4. Once the slot within `self.fixed_length_array` has been updated, make sure to also **increment the `self.num_added` instance variable**. By tracking the number of collisions at the end of Step 3, and tracking the number of items added in this step, the `compute_collision_rate()` function described below should only require 1 or 2 lines of code!\n",
    "* `get_item_at_index(self, index: int) -> object`\n",
    "  * This function should just return whatever happens to be stored in slot `index` of the `fixed_length_array` instance variable. So, `get_item_at_index(0)` should return `self.fixed_length_array[0]`, `get_item_at_index(1)` should return `self.fixed_length_array[1]`, and so on. You should implement this **before** using `to_string()`, however, since `to_string()` uses this function to **display the entries within each slot of `self.fixed_length_array`**.\n",
    "* `__len__(self) -> int`\n",
    "  * This function should just return the number of **slots** within `self.fixed_length_array` that contain non-`None` values. In other words, it should return the number of **\"filled\" slots** in the hash table. Note that this is **not the same as `num_added`**!! This is important to notice here since, it's precisely why our `NaiveHashTable` is not a usable data structure (yet): when the `add()` function encounters a **collision**, the previously-stored value is **thrown out** and replaced by a new value. This means that, for example, the user may have added 20 items to the `NaiveHashTable`, but `__len__()` may only return `16`, indicating that there were **4 collisions** among the 20 calls to `add()`!\n",
    "* `compute_collision_rate(self) -> float`\n",
    "  * This function should use the `num_added` and `num_collisions` instance variables to compute the **collision rate** for the `NaiveHashTable` object. If **no items have been added yet** (i.e., if the `NaiveHashTable` object is empty), this function should just return the `float` value `0.0`. However, as long as the object has one or more entries, this function should return the **ratio** of the **number of collisions** to the **number of successful calls to `add()`** (there are two instance variables you defined in the constructor which will help you here 😜)\n",
    "* `__str__(self) -> str` and `__repr__() -> str`\n",
    "  * The starter code defines an **instance method** for you, within the `NaiveHashTable` class, called `to_string()`. Your `NaiveHashTable` should implement both the `__str__()` and `__repr__()` functions, but all that these two functions need to do is simply **return the result of calling `self.to_string()`**.\n",
    "\n",
    "  The `to_string()` function here allows us to straightforwardly visualize the contents of our `NaiveHashTable`: it will always produce exactly 26 lines, where each line corresponds to a \"slot\" in our `fixed_length_array`, showing the alphabetical letter that hashes to the slot and then the value stored in that slot. For example, if we've added the three datapoints `('Aardvark', 10)`, `('Popsicle', 20)`, and `('Coconut', 30)` in a `NaiveHashTable` object `naive_ht`, then `naive_ht.to_string()` will produce the following output:\n",
    "\n",
    "  ```\n",
    "  A: ('Aardvark', 10)\n",
    "  B: None\n",
    "  C: ('Coconut', 30)\n",
    "  D: None\n",
    "  E: None\n",
    "  F: None\n",
    "  G: None\n",
    "  H: None\n",
    "  I: None\n",
    "  J: None\n",
    "  K: None\n",
    "  L: None\n",
    "  M: None\n",
    "  N: None\n",
    "  O: None\n",
    "  P: ('Popsicle', 20)\n",
    "  Q: None\n",
    "  R: None\n",
    "  S: None\n",
    "  T: None\n",
    "  U: None\n",
    "  V: None\n",
    "  W: None\n",
    "  X: None\n",
    "  Y: None\n",
    "  Z: None\n",
    "  ```\n",
    "\n",
    "  In the remaining parts of the assignment, having this `to_string()` function will serve another important purpose, but for now it simply allows us to \"unify\" the `__repr__()` and `__str__()` implementations into a single function."
   ],
   "metadata": {
    "id": "6iUXyb6VV53c"
   }
  },
  {
   "cell_type": "code",
   "source": [
    "# @title Q1.1-response\n",
    "import string\n",
    "\n",
    "class AlphaHasher:\n",
    "    @staticmethod\n",
    "    def get_alphabet_size():\n",
    "        return 26  # Number of letters in the English alphabet\n",
    "\n",
    "    @staticmethod\n",
    "    def hash(key: str) -> int:\n",
    "        # Assuming the hash function implementation here\n",
    "        return ord(key.upper()[0]) - ord('A')\n",
    "    # def hash(key: str) -> int:\n",
    "    #     if not key:\n",
    "    #         return 0\n",
    "    #     return string.ascii_uppercase.index(key[0].upper())\n",
    "\n",
    "    @staticmethod\n",
    "    def compute_key_for_index(index: int) -> str:\n",
    "        return string.ascii_uppercase[index]\n",
    "\n",
    "import collections\n",
    "import sys\n",
    "import numpy as np\n",
    "\n",
    "class NaiveHashTable:\n",
    "  def __init__(self):\n",
    "    self.hasher = AlphaHasher()\n",
    "    self.fixed_array_size = self.hasher.get_alphabet_size()\n",
    "    self.fixed_length_array = np.empty(self.fixed_array_size, dtype='object')\n",
    "    self.num_added = 0\n",
    "    self.num_collisions = 0\n",
    "\n",
    "  def add(self, key: str, value: object) -> bool:\n",
    "    if not isinstance(key, str):\n",
    "      return False\n",
    "    key_hash = self.hasher.hash(key)  # Hash the key to get an index\n",
    "    if self.fixed_length_array[key_hash] is not None:  # Check for collision\n",
    "      self.increment_num_collisions()\n",
    "\n",
    "    self.fixed_length_array[key_hash] = (key, value)  # Store the key-value pair\n",
    "    self.increment_num_added()\n",
    "    return True\n",
    "\n",
    "  def get_num_added(self):\n",
    "    return self.num_added\n",
    "\n",
    "  def increment_num_added(self):\n",
    "    self.num_added = self.num_added + 1\n",
    "\n",
    "  def get_num_collisions(self):\n",
    "    return self.num_collisions\n",
    "\n",
    "  def increment_num_collisions(self):\n",
    "    self.num_collisions = self.num_collisions + 1\n",
    "\n",
    "  def __len__(self):\n",
    "    filled_slots = sum(1 for item in self.fixed_length_array if item is not None)\n",
    "    return filled_slots\n",
    "\n",
    "  def get_item_at_index(self, index: int) -> object:\n",
    "    return self.fixed_length_array[index]\n",
    "\n",
    "  def compute_collision_rate(self) -> float:\n",
    "    if self.num_added == 0:\n",
    "      return 0.0\n",
    "    return self.num_collisions / self.num_added\n",
    "\n",
    "  def to_string(self):\n",
    "    entry_list = [f'{self.hasher.compute_key_for_index(i)}: {self.get_item_at_index(i)}' for i in range(len(self.fixed_length_array))]\n",
    "    return \"\\n\".join(entry_list)\n",
    "\n",
    "  def __str__(self):\n",
    "    return self.to_string()\n",
    "\n",
    "  def __repr__(self):\n",
    "    return self.__str__()"
   ],
   "metadata": {
    "id": "TLgtgUa7VyKn",
    "ExecuteTime": {
     "end_time": "2024-02-23T13:48:52.949773500Z",
     "start_time": "2024-02-23T13:48:52.866522800Z"
    }
   },
   "execution_count": 52,
   "outputs": []
  },
  {
   "cell_type": "markdown",
   "source": [
    "Since \"hiding\" the public tests in the last assignment probably did more harm than good, this time the public tests are **fully revealed** and **commented**, so that you can see exactly **why** we're testing certain aspects of your code, and especially **how** we're testing them! I hope this can help with transparency: if you're failing one of the public tests, but you can't figure out why based on the message, you can **expand** the public test cells to see exactly which line(s) your response is failing on."
   ],
   "metadata": {
    "id": "LqoqrjO8K5DJ"
   }
  },
  {
   "cell_type": "code",
   "source": [
    "# @title Q1.1-public-tests\n",
    "import inspect\n",
    "def test_len():\n",
    "  test_naive_ht = NaiveHashTable()\n",
    "  test_len = len(test_naive_ht)\n",
    "  return test_len < sys.maxsize, test_len\n",
    "len_test_result, len_test_value = test_len()\n",
    "\n",
    "def test_collisions():\n",
    "  test_naive_ht = NaiveHashTable()\n",
    "  test_naive_ht.add('Penguin', 30)\n",
    "  len_pre = len(test_naive_ht)\n",
    "  test_naive_ht.add('Platypus', 40)\n",
    "  len_post = len(test_naive_ht)\n",
    "  return len_pre == len_post\n",
    "collision_test_result = test_collisions()\n",
    "\n",
    "q1_1_public_tests = {\n",
    "    # Test 1: is a NaiveHashTable defined at all?\n",
    "    'NaiveHashTable defined': '✅ Passed!' if 'NaiveHashTable' in vars() else '❌ No NaiveHashTable class in Python memory',\n",
    "    # Test 2: __str__() and __repr__() should both just call to_string()\n",
    "    '__str__() and __repr__() call to_string()': '✅ Passed!' if 'to_string' in inspect.getsource(NaiveHashTable.__str__) else '❌ __str__() and __repr__() functions should both call to_string()',\n",
    "    # Test 3: __len__() returns valid int value\n",
    "    '__len__() returns valid int value': '✅ Passed!' if len_test_result else f'❌ Invalid return value for __len__(): {len_test_value}',\n",
    "    # Test 4: Length shouldn't increase on collisions (since the existing value in slot gets \"kicked out\")\n",
    "    'Collisions do not increase len': '✅ Passed!' if collision_test_result else '❌ Length of NaiveHashTable should not change before and after collision',\n",
    "}\n",
    "q1_1_public_tests"
   ],
   "metadata": {
    "id": "WmSUECRDLWbC",
    "colab": {
     "base_uri": "https://localhost:8080/"
    },
    "outputId": "8619e697-7dd4-4490-fbf0-bc1b138d60b0",
    "ExecuteTime": {
     "end_time": "2024-02-23T13:42:09.414367Z",
     "start_time": "2024-02-23T13:42:09.363689600Z"
    }
   },
   "execution_count": 14,
   "outputs": [
    {
     "data": {
      "text/plain": "{'NaiveHashTable defined': '✅ Passed!',\n '__str__() and __repr__() call to_string()': '✅ Passed!',\n '__len__() returns valid int value': '✅ Passed!',\n 'Collisions do not increase len': '✅ Passed!'}"
     },
     "execution_count": 14,
     "metadata": {},
     "output_type": "execute_result"
    }
   ]
  },
  {
   "cell_type": "markdown",
   "source": [
    "### Part 1.2: Testing Basic Functionality of `NaiveHashTable`\n",
    "\n",
    "This part will walk you through some basic tests you can run, to make sure that your implementation is **tracking the collision rate** correctly (by tracking the `num_added` and `num_collisions` instance variables correctly).\n",
    "\n",
    "Although there are public and hidden tests for this part, you should be able to tell in advance what the correct answers are, based on the instructions! (e.g., you know in advance that, before any (key, value) pairs are added to the hash table, the collision rate should be `0.0`)"
   ],
   "metadata": {
    "id": "sqwygS8EnidE"
   }
  },
  {
   "cell_type": "markdown",
   "source": [
    "#### Question 1.2.1\n",
    "\n",
    "* (a) Create a new `NaiveHashTable` object called `naive_ht_demo`, and then\n",
    "* (b) Call the `get_num_added()` function on `naive_ht_demo` and store its return value in a variable called `added0`,\n",
    "* (c) Call the `get_num_collisions()` function on `naive_ht_demo` and store its return value in a variable called `collisions0`,\n",
    "* (d) Call the `compute_collision_rate()` function on `naive_ht_demo` and store its return value in a variable called `rate0`."
   ],
   "metadata": {
    "id": "1GI5e7G52JVK"
   }
  },
  {
   "cell_type": "code",
   "source": [
    "# @title Q1.2.1-response\n",
    "# naive_ht_demo = NaiveHashTable()\n",
    "# added0 = naive_ht_demo.get_num_added()\n",
    "# collisions0 = aive_ht_demo.get_num_collisions()\n",
    "# rate0 = naive_ht_demo.compute_collision_rate()\n",
    "\n",
    "# # Correcting the oversight by importing numpy\n",
    "# import numpy as np\n",
    "\n",
    "# # Re-defining the NaiveHashTable class with numpy imported this time\n",
    "# class NaiveHashTable:\n",
    "#     def __init__(self):\n",
    "#         self.hasher = AlphaHasher()\n",
    "#         self.fixed_array_size = self.hasher.get_alphabet_size()\n",
    "#         self.fixed_length_array = np.empty(self.fixed_array_size, dtype='object')\n",
    "#         self.num_added = 0\n",
    "#         self.num_collisions = 0\n",
    "\n",
    "#     def add(self, key: str, value: object) -> bool:\n",
    "#         if not isinstance(key, str):  # Ensure key is a string\n",
    "#             return False\n",
    "#         key_hash = self.hasher.hash(key)  # Hash the key to get an index\n",
    "#         if self.fixed_length_array[key_hash] is not None:  # Check for collision\n",
    "#             self.increment_num_collisions()\n",
    "#         self.fixed_length_array[key_hash] = (key, value)  # Store the key-value pair\n",
    "#         self.increment_num_added()\n",
    "#         return True\n",
    "\n",
    "#     def get_num_added(self):\n",
    "#         return self.num_added\n",
    "\n",
    "#     def increment_num_added(self):\n",
    "#         self.num_added += 1\n",
    "\n",
    "#     def get_num_collisions(self):\n",
    "#         return self.num_collisions\n",
    "\n",
    "#     def increment_num_collisions(self):\n",
    "#         self.num_collisions += 1\n",
    "\n",
    "#     def compute_collision_rate(self) -> float:\n",
    "#         if self.num_added == 0:\n",
    "#             return 0.0\n",
    "#         return self.num_collisions / self.num_added\n",
    "\n",
    "# Create a new NaiveHashTable object again\n",
    "naive_ht_demo = NaiveHashTable()\n",
    "\n",
    "# Perform the requested operations again\n",
    "added0 = naive_ht_demo.get_num_added()\n",
    "collisions0 = naive_ht_demo.get_num_collisions()\n",
    "rate0 = naive_ht_demo.compute_collision_rate()\n",
    "\n",
    "added0, collisions0, rate0"
   ],
   "metadata": {
    "id": "mTlXggpe1EJb",
    "colab": {
     "base_uri": "https://localhost:8080/"
    },
    "outputId": "65747b1b-541a-4a23-def2-377fd5f38701",
    "ExecuteTime": {
     "end_time": "2024-02-23T13:42:09.416365400Z",
     "start_time": "2024-02-23T13:42:09.367592200Z"
    }
   },
   "execution_count": 15,
   "outputs": [
    {
     "data": {
      "text/plain": "(0, 0, 0.0)"
     },
     "execution_count": 15,
     "metadata": {},
     "output_type": "execute_result"
    }
   ]
  },
  {
   "cell_type": "code",
   "source": [
    "# @title Q1.2.1-public-tests\n",
    "q1_2_1_public_tests = {\n",
    "    # Test 1: Check if naive_ht_demo variable is defined (in Python memory)\n",
    "    'naive_ht_demo defined': '✅ Passed!' if 'naive_ht_demo' in vars() else \"❌ No variable named 'naive_ht_demo' exists in Python memory\",\n",
    "    # Test 2: Check if added0 defined\n",
    "    'added0 defined': '✅ Passed!' if 'added0' in vars() else \"❌ No variable named 'added0' exists in Python memory\",\n",
    "    # Test 3: Check if collisions0 defined\n",
    "    'collisions0 defined': '✅ Passed!' if 'collisions0' in vars() else \"❌ No variable named 'collisions0' exists in Python memory\",\n",
    "    # Test 4: Check if rate0 defined\n",
    "    'rate0 defined': '✅ Passed!' if 'rate0' in vars() else \"❌ No variabled named 'rate0' exists in Python memory\"\n",
    "}\n",
    "q1_2_1_public_tests"
   ],
   "metadata": {
    "id": "InrsZd-g3zN1",
    "colab": {
     "base_uri": "https://localhost:8080/"
    },
    "outputId": "7193e0d9-affa-4a9b-ddb8-2a8b6a906ce9",
    "ExecuteTime": {
     "end_time": "2024-02-23T13:42:09.476304400Z",
     "start_time": "2024-02-23T13:42:09.385957100Z"
    }
   },
   "execution_count": 16,
   "outputs": [
    {
     "data": {
      "text/plain": "{'naive_ht_demo defined': '✅ Passed!',\n 'added0 defined': '✅ Passed!',\n 'collisions0 defined': '✅ Passed!',\n 'rate0 defined': '✅ Passed!'}"
     },
     "execution_count": 16,
     "metadata": {},
     "output_type": "execute_result"
    }
   ]
  },
  {
   "cell_type": "markdown",
   "source": [
    "#### Question 1.2.2\n",
    "\n",
    "* (a) Add a new datapoint, mapping the `str` key `'Kitten'` to the `int` value `10`, to `naive_ht_demo`,\n",
    "* (b) Call the `get_num_added()` function on `naive_ht_demo` again, storing the new value into a variable called `added1`,\n",
    "* (c) Call the `get_num_collisions()` function on `naive_ht_demo` again, storing the new value into a variable called `collisions1`, and\n",
    "* (d) call the `compute_collision_rate()` function on `naive_ht_demo` again, storing the new value into a variable called `rate1`"
   ],
   "metadata": {
    "id": "uoQyZGxS2mOs"
   }
  },
  {
   "cell_type": "code",
   "source": [
    "# @title Q1.2.2-response\n",
    "# added1 = None # Your code here\n",
    "# collisions1 = None # Your code here\n",
    "# rate1 = None # Your code here\n",
    "\n",
    "\n",
    "# Perform the requested operations based on the new instructions\n",
    "\n",
    "# (a) Add a new datapoint\n",
    "naive_ht_demo.add('Kitten', 10)\n",
    "\n",
    "# (b) Get the updated number of items added\n",
    "added1 = naive_ht_demo.get_num_added()\n",
    "\n",
    "# (c) Get the updated number of collisions\n",
    "collisions1 = naive_ht_demo.get_num_collisions()\n",
    "\n",
    "# (d) Compute the updated collision rate\n",
    "rate1 = naive_ht_demo.compute_collision_rate()\n",
    "\n",
    "added1, collisions1, rate1"
   ],
   "metadata": {
    "id": "GJPF_vY32lnB",
    "colab": {
     "base_uri": "https://localhost:8080/"
    },
    "outputId": "5b58403c-3673-44b8-f6c7-4484a1cd08d6",
    "ExecuteTime": {
     "end_time": "2024-02-23T13:42:09.480296500Z",
     "start_time": "2024-02-23T13:42:09.395067500Z"
    }
   },
   "execution_count": 17,
   "outputs": [
    {
     "data": {
      "text/plain": "(1, 0, 0.0)"
     },
     "execution_count": 17,
     "metadata": {},
     "output_type": "execute_result"
    }
   ]
  },
  {
   "cell_type": "code",
   "source": [
    "# @title Q1.2.2-public-tests\n",
    "q1_2_2_public_tests = {\n",
    "    # Test 1: Check if added1 defined\n",
    "    'added1 defined': '✅ Passed!' if 'added1' in vars() else \"❌ No variable named 'added1' exists in Python memory\",\n",
    "    # Test 2: collisions1 defined\n",
    "    'collisions1 defined': '✅ Passed!' if 'collisions1' in vars() else \"❌ No variable named 'collisions1' exists in Python memory\",\n",
    "    # Test 3: rate1 defined\n",
    "    'rate1 defined': '✅ Passed!' if 'rate1' in vars() else \"❌ No variable named 'rate1' exists in Python memory\",\n",
    "}\n",
    "q1_2_2_public_tests"
   ],
   "metadata": {
    "id": "h8w35Eau32cC",
    "colab": {
     "base_uri": "https://localhost:8080/"
    },
    "outputId": "18f151be-18d2-4d95-d58c-819d8803bb98",
    "ExecuteTime": {
     "end_time": "2024-02-23T13:42:09.493253200Z",
     "start_time": "2024-02-23T13:42:09.399763800Z"
    }
   },
   "execution_count": 18,
   "outputs": [
    {
     "data": {
      "text/plain": "{'added1 defined': '✅ Passed!',\n 'collisions1 defined': '✅ Passed!',\n 'rate1 defined': '✅ Passed!'}"
     },
     "execution_count": 18,
     "metadata": {},
     "output_type": "execute_result"
    }
   ]
  },
  {
   "cell_type": "markdown",
   "source": [
    "#### Question 1.2.3\n",
    "\n",
    "* (a) Add another new datapoint, this time mapping the `str` key `'Koala'` to the `int` value `8`, to `naive_ht_demo`.\n",
    "* (b) Call the `get_num_added()` function on `naive_ht_demo` once more, and store its return value into a variable named `added2`.\n",
    "* (c) Call the `get_num_collisions()` function on `naive_ht_demo` once more, and store its return value into a variable called `collisions2`, and\n",
    "* (d) Call the `compute_collision_rate()` function on `naive_ht_demo` once more, and store its return value into a variable called `rate2`."
   ],
   "metadata": {
    "id": "Pfhb8vp83Rrb"
   }
  },
  {
   "cell_type": "code",
   "source": [
    "# @title Q1.2.3-response\n",
    "# added2 = None # Your code here\n",
    "# collisions2 = None # Your code here\n",
    "# rate2 = None # Your code here\n",
    "\n",
    "# Perform the requested operations based on the new instructions\n",
    "\n",
    "# (a) Add another new datapoint\n",
    "naive_ht_demo.add('Koala', 8)\n",
    "\n",
    "# (b) Get the number of items added after the new addition\n",
    "added2 = naive_ht_demo.get_num_added()\n",
    "\n",
    "# (c) Get the number of collisions after the new addition\n",
    "collisions2 = naive_ht_demo.get_num_collisions()\n",
    "\n",
    "# (d) Compute the collision rate after the new addition\n",
    "rate2 = naive_ht_demo.compute_collision_rate()\n",
    "\n",
    "added2, collisions2, rate2"
   ],
   "metadata": {
    "id": "lyjLoXXl35iE",
    "colab": {
     "base_uri": "https://localhost:8080/"
    },
    "outputId": "0a7fc0fa-b603-4d23-b2f6-72a18874ae7e",
    "ExecuteTime": {
     "end_time": "2024-02-23T13:42:09.494253200Z",
     "start_time": "2024-02-23T13:42:09.405161300Z"
    }
   },
   "execution_count": 19,
   "outputs": [
    {
     "data": {
      "text/plain": "(2, 1, 0.5)"
     },
     "execution_count": 19,
     "metadata": {},
     "output_type": "execute_result"
    }
   ]
  },
  {
   "cell_type": "code",
   "source": [
    "# @title Q1.2.3-public-tests\n",
    "q1_2_3_public_tests = {\n",
    "    # Test 1: Check if added2 defined\n",
    "    'added2 defined': '✅ Passed!' if 'added2' in vars() else \"❌ No variable named 'added2' exists in Python memory\",\n",
    "    # Test 2: Check if collisions2 defined\n",
    "    'collisions2 defined': ':✅ Passed!' if 'collisions2' in vars() else \"❌ No variable named 'collisions2' exists in Python memory\",\n",
    "    # Test 3: Check if rate2 defined\n",
    "    'rate2 defined': '✅ Passed!' if 'rate2' in vars() else \"❌ No variable named 'rate2' exists in Python memory\",\n",
    "}\n",
    "q1_2_3_public_tests"
   ],
   "metadata": {
    "id": "SGjLnJjF3851",
    "colab": {
     "base_uri": "https://localhost:8080/"
    },
    "outputId": "1c5e436a-658d-4b7f-d918-a4d3696f6c53",
    "ExecuteTime": {
     "end_time": "2024-02-23T13:42:09.509298800Z",
     "start_time": "2024-02-23T13:42:09.410487100Z"
    }
   },
   "execution_count": 20,
   "outputs": [
    {
     "data": {
      "text/plain": "{'added2 defined': '✅ Passed!',\n 'collisions2 defined': ':✅ Passed!',\n 'rate2 defined': '✅ Passed!'}"
     },
     "execution_count": 20,
     "metadata": {},
     "output_type": "execute_result"
    }
   ]
  },
  {
   "cell_type": "markdown",
   "source": [
    "### Part 1.3: Using `NaiveHashTable` with Real Data\n",
    "\n",
    "The questions in this part will help illustrate (a) how to use the class we just made to store real-world data, but also (b) why it fails as a workable data structure in its current form!"
   ],
   "metadata": {
    "id": "W9Xy8xg0096F"
   }
  },
  {
   "cell_type": "markdown",
   "source": [
    "#### Question 1.3.1\n",
    "\n",
    "Create a new `NaiveHashTable` object, assigning it as the value for a variable named `naive_ht_real`."
   ],
   "metadata": {
    "id": "IxNMKnHR1ZUu"
   }
  },
  {
   "cell_type": "code",
   "source": [
    "# @title Q1.3.1-response\n",
    "# naive_ht_real = None # Your code here\n",
    "\n",
    "# Create a new NaiveHashTable object for real-world data usage\n",
    "naive_ht_real = NaiveHashTable()\n",
    "\n",
    "# Verify the creation by checking the initial number of items added and collisions\n",
    "initial_added = naive_ht_real.get_num_added()\n",
    "initial_collisions = naive_ht_real.get_num_collisions()\n",
    "\n",
    "initial_added, initial_collisions"
   ],
   "metadata": {
    "id": "FVrq8sp90-1w",
    "colab": {
     "base_uri": "https://localhost:8080/"
    },
    "outputId": "03510258-7426-4c81-caac-facbbf335a3f",
    "ExecuteTime": {
     "end_time": "2024-02-23T13:42:09.520298900Z",
     "start_time": "2024-02-23T13:42:09.414367Z"
    }
   },
   "execution_count": 21,
   "outputs": [
    {
     "data": {
      "text/plain": "(0, 0)"
     },
     "execution_count": 21,
     "metadata": {},
     "output_type": "execute_result"
    }
   ]
  },
  {
   "cell_type": "code",
   "source": [
    "# @title Q1.3.1-public-tests\n",
    "q1_3_1_public_tests = {\n",
    "    # Test 1: Check if naive_ht_real defined\n",
    "    'naive_ht_real defined': '✅ Passed!' if 'naive_ht_real' in vars() else \"❌ No variable named 'naive_ht_real' exists in Python memory\"\n",
    "}\n",
    "q1_3_1_public_tests"
   ],
   "metadata": {
    "id": "wgjFb4iX4vGq",
    "colab": {
     "base_uri": "https://localhost:8080/"
    },
    "outputId": "5de4700c-ffaf-4ae8-bd1f-2a5a35bec664",
    "ExecuteTime": {
     "end_time": "2024-02-23T13:42:09.522310Z",
     "start_time": "2024-02-23T13:42:09.419215Z"
    }
   },
   "execution_count": 22,
   "outputs": [
    {
     "data": {
      "text/plain": "{'naive_ht_real defined': '✅ Passed!'}"
     },
     "execution_count": 22,
     "metadata": {},
     "output_type": "execute_result"
    }
   ]
  },
  {
   "cell_type": "markdown",
   "source": [
    "#### Question 1.3.2\n",
    "\n",
    "Continuing with our **cashier example** from class, run the following code, which\n",
    "\n",
    "* (a) loads data from a `.csv` file containing names and prices for 50 randomly-sampled items from Walmart's inventory and\n",
    "* (b) stores this data within a Pandas `DataFrame` object named `walmart_df`:"
   ],
   "metadata": {
    "id": "pp2NDv4c2I2Z"
   }
  },
  {
   "cell_type": "code",
   "source": [
    "# @title Q1.3.2-response\n",
    "import pandas as pd\n",
    "walmart_df = pd.read_csv(\"https://jpj.georgetown.domains/dsan5500-scratch/walmart.csv\")\n",
    "walmart_df.head()"
   ],
   "metadata": {
    "colab": {
     "base_uri": "https://localhost:8080/",
     "height": 206
    },
    "id": "m77xguDFzrXP",
    "outputId": "41cb981f-0740-419c-81ea-3b0631a1080b",
    "ExecuteTime": {
     "end_time": "2024-02-23T13:42:10.279108800Z",
     "start_time": "2024-02-23T13:42:09.423293400Z"
    }
   },
   "execution_count": 23,
   "outputs": [
    {
     "data": {
      "text/plain": "   item_id                                          item_name   price\n0        0  Easter Bunny Wood Door Sign - Home Decor - 1 P...   14.29\n1        1     Kinder Bueno Milk Chocolate and Hazelnut Cream    3.58\n2        2  Brown Ivory and Orange Standing Duck Spring Ta...   18.99\n3        3  Caffoz 58\" Home Entertainment Center Wood Medi...  109.78\n4        4            Novogratz Voler Coffee Table, Light Oak  106.46",
      "text/html": "<div>\n<style scoped>\n    .dataframe tbody tr th:only-of-type {\n        vertical-align: middle;\n    }\n\n    .dataframe tbody tr th {\n        vertical-align: top;\n    }\n\n    .dataframe thead th {\n        text-align: right;\n    }\n</style>\n<table border=\"1\" class=\"dataframe\">\n  <thead>\n    <tr style=\"text-align: right;\">\n      <th></th>\n      <th>item_id</th>\n      <th>item_name</th>\n      <th>price</th>\n    </tr>\n  </thead>\n  <tbody>\n    <tr>\n      <th>0</th>\n      <td>0</td>\n      <td>Easter Bunny Wood Door Sign - Home Decor - 1 P...</td>\n      <td>14.29</td>\n    </tr>\n    <tr>\n      <th>1</th>\n      <td>1</td>\n      <td>Kinder Bueno Milk Chocolate and Hazelnut Cream</td>\n      <td>3.58</td>\n    </tr>\n    <tr>\n      <th>2</th>\n      <td>2</td>\n      <td>Brown Ivory and Orange Standing Duck Spring Ta...</td>\n      <td>18.99</td>\n    </tr>\n    <tr>\n      <th>3</th>\n      <td>3</td>\n      <td>Caffoz 58\" Home Entertainment Center Wood Medi...</td>\n      <td>109.78</td>\n    </tr>\n    <tr>\n      <th>4</th>\n      <td>4</td>\n      <td>Novogratz Voler Coffee Table, Light Oak</td>\n      <td>106.46</td>\n    </tr>\n  </tbody>\n</table>\n</div>"
     },
     "execution_count": 23,
     "metadata": {},
     "output_type": "execute_result"
    }
   ]
  },
  {
   "cell_type": "code",
   "source": [
    "# @title Q1.3.2-public-tests\n",
    "q1_3_2_public_tests = {\n",
    "    # Test 1: Check if walmart_df defined\n",
    "    'walmart_df defined': '✅ Passed!' if 'walmart_df' in vars() else \"❌ No variable named 'walmart_df' exists in Python memory\",\n",
    "    # Test 2: Check if walmart_df has correct length\n",
    "    'walmart_df correct length': '✅ Passed!' if len(walmart_df) == 50 else f\"❌ walmart_df DataFrame length ({len(walmart_df)}) is incorrect\",\n",
    "}\n",
    "q1_3_2_public_tests"
   ],
   "metadata": {
    "id": "0e38L3Thd3zT",
    "colab": {
     "base_uri": "https://localhost:8080/"
    },
    "outputId": "63856c3b-e771-4bb3-c981-0b3d333c9724",
    "ExecuteTime": {
     "end_time": "2024-02-23T13:42:10.296824300Z",
     "start_time": "2024-02-23T13:42:10.280118400Z"
    }
   },
   "execution_count": 24,
   "outputs": [
    {
     "data": {
      "text/plain": "{'walmart_df defined': '✅ Passed!', 'walmart_df correct length': '✅ Passed!'}"
     },
     "execution_count": 24,
     "metadata": {},
     "output_type": "execute_result"
    }
   ]
  },
  {
   "cell_type": "markdown",
   "source": [
    "#### Question 1.3.3\n",
    "\n",
    "Using the `iterrows()` function (which is available for all Pandas `DataFrame` objects), write a `for` loop which iterates over each row of `walmart_df`, carrying out the following steps within each loop iteration\n",
    "\n",
    "1. Store the current row's `item_name` value as a Python variable called `cur_name`\n",
    "2. Store the current row's `price` value as a Python variable called `cur_price`\n",
    "3. Construct a tuple (that is, a \"standard\" 2-tuple) whose first element is `cur_name` and whose second element is `cur_price`, and assign the tuple to a Python variable named `cur_data`.\n",
    "4. Add the `cur_data` tuple to the `naive_ht_real` object (using the `add()` function that you wrote above)"
   ],
   "metadata": {
    "id": "OVhaqtRm2lh9"
   }
  },
  {
   "cell_type": "code",
   "source": [
    "# @title Q1.3.3-response\n",
    "# Your code here\n",
    "# Iterating over each row of walmart_df and storing the data in naive_ht_real\n",
    "\n",
    "for index, row in walmart_df.iterrows():\n",
    "    cur_name = row['item_name']  # Store the current row's item_name value\n",
    "    cur_price = row['price']  # Store the current row's price value\n",
    "    cur_data = (cur_name, cur_price)  # Construct a tuple of cur_name and cur_price\n",
    "    naive_ht_real.add(cur_name, cur_data)  # Add the tuple to the naive_ht_real object\n",
    "\n",
    "# # Verify the operation by checking the updated number of items added and collisions\n",
    "# updated_added = naive_ht_real.get_num_added()\n",
    "# updated_collisions = naive_ht_real.get_num_collisions()\n",
    "# collision_rate = naive_ht_real.compute_collision_rate()\n",
    "\n",
    "# updated_added, updated_collisions, collision_rate"
   ],
   "metadata": {
    "id": "VXWkrQxKH3_B",
    "ExecuteTime": {
     "end_time": "2024-02-23T13:42:10.297803100Z",
     "start_time": "2024-02-23T13:42:10.287005400Z"
    }
   },
   "execution_count": 25,
   "outputs": []
  },
  {
   "cell_type": "code",
   "source": [
    "# @title Q1.3.3-public-tests\n",
    "nht_added_result = None\n",
    "if 'naive_ht_real' in vars() and naive_ht_real is not None:\n",
    "  nht_added_result = naive_ht_real.get_num_added()\n",
    "q1_3_3_public_tests = {\n",
    "    # Test 1: Check that get_num_added() returns the correct value for naive_ht_real\n",
    "    'correct return value for get_num_added()': '✅ Passed!' if nht_added_result == 50 else f'❌ naive_ht_real.get_num_added() should return 50. Current return value: {nht_added_result}',\n",
    "}\n",
    "q1_3_3_public_tests"
   ],
   "metadata": {
    "id": "K1eT1Ar2455c",
    "colab": {
     "base_uri": "https://localhost:8080/"
    },
    "outputId": "091beddc-40f0-479c-9713-3433caf92bbd",
    "ExecuteTime": {
     "end_time": "2024-02-23T13:42:10.300325400Z",
     "start_time": "2024-02-23T13:42:10.292751600Z"
    }
   },
   "execution_count": 26,
   "outputs": [
    {
     "data": {
      "text/plain": "{'correct return value for get_num_added()': '✅ Passed!'}"
     },
     "execution_count": 26,
     "metadata": {},
     "output_type": "execute_result"
    }
   ]
  },
  {
   "cell_type": "markdown",
   "source": [
    "#### Question 1.3.4\n",
    "\n",
    "If the above steps were implemented correctly, you should now be able to run the following cell to see the result of the `__repr__()` function of your `naive_ht_real` object. You should see *some*, though not *all* of the data tuples that you added to `naive_ht_real` over the course of the for loop in the previous question:"
   ],
   "metadata": {
    "id": "_WDeKVtyH6ZE"
   }
  },
  {
   "cell_type": "code",
   "source": [
    "# @title Q1.3.4-response\n",
    "# Please don't modify the contents of this cell, just run it to check that it\n",
    "# produces the expected output!\n",
    "import io\n",
    "from contextlib import redirect_stdout\n",
    "if 'naive_ht_real' in vars():\n",
    "  with redirect_stdout(io.StringIO()) as q1_3_4_response:\n",
    "    print(naive_ht_real)\n",
    "print(q1_3_4_response.getvalue())"
   ],
   "metadata": {
    "id": "2ozrlVObIDzT",
    "colab": {
     "base_uri": "https://localhost:8080/"
    },
    "outputId": "590fe16b-f1fe-4051-9501-70394a4cdb2f",
    "ExecuteTime": {
     "end_time": "2024-02-23T13:42:10.393804800Z",
     "start_time": "2024-02-23T13:42:10.296824300Z"
    }
   },
   "execution_count": 27,
   "outputs": [
    {
     "name": "stdout",
     "output_type": "stream",
     "text": [
      "A: ('Americanflat 12x18 Poster Frame in Silver - Composite Wood with Polished Plexiglass - Horizontal and Vertical Formats for Wall with Included Hanging Hardware', ('Americanflat 12x18 Poster Frame in Silver - Composite Wood with Polished Plexiglass - Horizontal and Vertical Formats for Wall with Included Hanging Hardware', 17.62))\n",
      "B: ('Boahaus Alva Dresser (Brown - White)', ('Boahaus Alva Dresser (Brown - White)', 180.99))\n",
      "C: ('Convenience Concepts American Heritage Bookshelf Ladder, Cherry', ('Convenience Concepts American Heritage Bookshelf Ladder, Cherry', 105.2))\n",
      "D: ('DHP Jett Junior Twin Metal Loft Bed, Black', ('DHP Jett Junior Twin Metal Loft Bed, Black', 150.0))\n",
      "E: ('Evriholder Lemon and Lime Squeezer, Yellow or Green', ('Evriholder Lemon and Lime Squeezer, Yellow or Green', 7.0))\n",
      "F: ('Farberware Easy Clean Aluminum Nonstick 20 Pc. Cookware Pots and Pans Set, Aqua', ('Farberware Easy Clean Aluminum Nonstick 20 Pc. Cookware Pots and Pans Set, Aqua', 59.0))\n",
      "G: ('Gallery Solutions 8x10 Black Wall or Tabletop Picture Frame with Double White Mat For 5x7 Image', ('Gallery Solutions 8x10 Black Wall or Tabletop Picture Frame with Double White Mat For 5x7 Image', 14.2))\n",
      "H: None\n",
      "I: ('Instapoints 5 Piece Gallery Wall Picture Frame Set 16\" x 20\" Matted to 5\" x 7\" with Offset Mat & Hanging Template', ('Instapoints 5 Piece Gallery Wall Picture Frame Set 16\" x 20\" Matted to 5\" x 7\" with Offset Mat & Hanging Template', 54.44))\n",
      "J: None\n",
      "K: ('Kate and Laurel Cates Farmhouse Wood Framed Wall Mirror, 24 x 38, White, Barn Door-Inspired Rustic Mirrors for Wall', ('Kate and Laurel Cates Farmhouse Wood Framed Wall Mirror, 24 x 38, White, Barn Door-Inspired Rustic Mirrors for Wall', 157.75))\n",
      "L: ('Lenovo ThinkCentre M70a Gen 3 11VL0040US Desktop Computer - Intel Core i5 12th Gen i5-12400 Hexa-core (6 Core) 2.50 GHz - 8 GB RAM DDR4 SDRAM - 256 GB M.2 PCI Express NVMe 4.0 x4 SSD - Desktop - Black', ('Lenovo ThinkCentre M70a Gen 3 11VL0040US Desktop Computer - Intel Core i5 12th Gen i5-12400 Hexa-core (6 Core) 2.50 GHz - 8 GB RAM DDR4 SDRAM - 256 GB M.2 PCI Express NVMe 4.0 x4 SSD - Desktop - Black', 1028.19))\n",
      "M: ('Mind Reader 3 Tier Letter Tray Document Sorter, Desk Storage Organizer, Document Organizer, Mail Sorter, Desk Shelf, Iron, Black', ('Mind Reader 3 Tier Letter Tray Document Sorter, Desk Storage Organizer, Document Organizer, Mail Sorter, Desk Shelf, Iron, Black', 19.59))\n",
      "N: ('Novogratz Kelly 5 Drawer Dresser, Faux Rattan & Black Oak', ('Novogratz Kelly 5 Drawer Dresser, Faux Rattan & Black Oak', 170.77))\n",
      "O: (\"Ovente 8.5'' Hardwired Lighted Wall Mount Makeup Mirror, 1X & 7X Magnifier w/ Dimmer Switch, Spinning Double Sided Round White LED, Extend & Fold, Retractable Arm, Antique Brass MPWD3185AB1X7X\", (\"Ovente 8.5'' Hardwired Lighted Wall Mount Makeup Mirror, 1X & 7X Magnifier w/ Dimmer Switch, Spinning Double Sided Round White LED, Extend & Fold, Retractable Arm, Antique Brass MPWD3185AB1X7X\", 89.94))\n",
      "P: ('Patton Wall Decor 20\" Black and Gold Metal Cut Out Roman Numeral Wall Clock', ('Patton Wall Decor 20\" Black and Gold Metal Cut Out Roman Numeral Wall Clock', 30.83))\n",
      "Q: None\n",
      "R: None\n",
      "S: ('Smart Design Undershelf Storage Basket - Small - Snug Fit Arms - Steel Metal Wire - Rust Resistant - Under Shelves, Cabinet, Pantry, and Shelf Organization - 12 x 5.5 Inch - Black', ('Smart Design Undershelf Storage Basket - Small - Snug Fit Arms - Steel Metal Wire - Rust Resistant - Under Shelves, Cabinet, Pantry, and Shelf Organization - 12 x 5.5 Inch - Black', 17.49))\n",
      "T: None\n",
      "U: None\n",
      "V: None\n",
      "W: None\n",
      "X: None\n",
      "Y: None\n",
      "Z: None\n"
     ]
    }
   ]
  },
  {
   "cell_type": "code",
   "source": [
    "# @title Q1.3.4-public-tests\n",
    "q1_3_4_public_tests = {\n",
    "    # Test 1: Ensure output of previous cell can be accessed\n",
    "    'q1_3_4_response accessible': '✅ Passed!' if 'q1_3_4_response' in vars() and q1_3_4_response.getvalue() != \"\" else \"❌ Previously-run cell did not produce any output\"\n",
    "}\n",
    "q1_3_4_public_tests"
   ],
   "metadata": {
    "id": "8vvkcbLX5J2e",
    "colab": {
     "base_uri": "https://localhost:8080/"
    },
    "outputId": "6d9df803-9c2d-4b7e-fcce-c026e597a8b7",
    "ExecuteTime": {
     "end_time": "2024-02-23T13:42:10.398347700Z",
     "start_time": "2024-02-23T13:42:10.300325400Z"
    }
   },
   "execution_count": 28,
   "outputs": [
    {
     "data": {
      "text/plain": "{'q1_3_4_response accessible': '✅ Passed!'}"
     },
     "execution_count": 28,
     "metadata": {},
     "output_type": "execute_result"
    }
   ]
  },
  {
   "cell_type": "markdown",
   "source": [
    "#### Question 1.3.5\n",
    "\n",
    "As the final step for this part:\n",
    "\n",
    "* (a) Calculate the number of records in the **original** dataset by calling `len()` with `walmart_df` as its argument, storing its return value into a Python variable named `len_original`. Then\n",
    "* (b) Calculate the number of records which were **retained** in `naive_ht_real` by calling `len()` again with `naive_ht_real` as its argument, storing its return value into a Python variable named `len_naive_ht`.\n",
    "\n",
    "The value in `len_naive_ht` should exactly match the number of tuples displayed in the output of the previous question, but should **not** match the value of `len_original` (since collisions should have resulted in previously-stored items being \"kicked out\" of the hash table)."
   ],
   "metadata": {
    "id": "mh9xgy88IaQG"
   }
  },
  {
   "cell_type": "code",
   "source": [
    "# @title Q1.3.5-response\n",
    "# len_original = None # Your code here\n",
    "# len_naive_ht = None # Your code here\n",
    "\n",
    "# Correctly calculate the number of records retained in naive_ht_real by using the method to count non-None entries\n",
    "len_original = len(walmart_df)\n",
    "len_original\n",
    "len_naive_ht = np.count_nonzero(naive_ht_real.fixed_length_array != None)\n",
    "len_naive_ht"
   ],
   "metadata": {
    "id": "w_T2kbT0I1ag",
    "colab": {
     "base_uri": "https://localhost:8080/"
    },
    "outputId": "69d6dac1-4556-4a11-9ce0-3168893c1ba0",
    "ExecuteTime": {
     "end_time": "2024-02-23T13:42:10.409413300Z",
     "start_time": "2024-02-23T13:42:10.304788Z"
    }
   },
   "execution_count": 29,
   "outputs": [
    {
     "data": {
      "text/plain": "15"
     },
     "execution_count": 29,
     "metadata": {},
     "output_type": "execute_result"
    }
   ]
  },
  {
   "cell_type": "code",
   "source": [
    "# @title Q1.3.5-public-tests\n",
    "q1_3_5_public_tests = {\n",
    "    # Test 1: Check if len_original defined\n",
    "    'len_original defined': '✅ Passed!' if 'len_original' in vars() else \"❌ No variable named 'len_original' exists in Python memory\",\n",
    "    # Test 2: Check if len_naive_ht defined\n",
    "    'len_naive_ht defined': '✅ Passed!' if 'len_naive_ht' in vars() else \"❌ No variable named 'len_naive_ht' exists in Python memory\",\n",
    "}\n",
    "q1_3_5_public_tests"
   ],
   "metadata": {
    "id": "qr0iUPuZI3JQ",
    "colab": {
     "base_uri": "https://localhost:8080/"
    },
    "outputId": "de5483a4-6883-4aec-ace0-4c69c53785da",
    "ExecuteTime": {
     "end_time": "2024-02-23T13:42:10.412409800Z",
     "start_time": "2024-02-23T13:42:10.307937400Z"
    }
   },
   "execution_count": 30,
   "outputs": [
    {
     "data": {
      "text/plain": "{'len_original defined': '✅ Passed!', 'len_naive_ht defined': '✅ Passed!'}"
     },
     "execution_count": 30,
     "metadata": {},
     "output_type": "execute_result"
    }
   ]
  },
  {
   "cell_type": "markdown",
   "source": [
    "## Part 2: Hash Tables with Linear Collision Handling\n",
    "\n",
    "In the previous part you saw how the Naïve Hash Table is not very useful on its own, since it **throws away** information that was previously added to it whenever a collision occurs!\n",
    "\n",
    "In this part, you'll **solve** this problem and **transform** your Naïve Hash Table into a usable **(Linear) Hash Table**.\n",
    "\n",
    "Whereas in Part 1 you handled collisions by simply throwing away the old data and replacing it with the new data, in this part you will instead **change** the type of value stored in a slot when a collision occurs.\n",
    "\n",
    "First things first, however, you're going to need a completed **Linked List** implementation! Run the next cell, which defines a fully-implemented polymorphic linked list (so, a slightly fancier version of the `LinkedList` class you implemented for HW1!). You can look through the code here, to understand how it works, but you can also just run it and move on to the next part of this question!"
   ],
   "metadata": {
    "id": "ykCNcIUwDYY6"
   }
  },
  {
   "cell_type": "code",
   "source": [
    "# @title define-linked-list\n",
    "from abc import ABC, abstractmethod\n",
    "\n",
    "class LinkedList:\n",
    "  def __init__(self):\n",
    "    self.root = EmptyNode()\n",
    "\n",
    "  def append(self, item):\n",
    "    self.root = self.root.append(item)\n",
    "\n",
    "  def find_item_steps(self, item):\n",
    "    return self.root.find_item_steps(item)\n",
    "\n",
    "  def to_string(self, recurse: bool):\n",
    "    return f'LinkedList[{self.root.to_string(recurse)}]'\n",
    "\n",
    "  def __repr__(self):\n",
    "    return self.to_string(recurse=True)\n",
    "\n",
    "  def __str__(self):\n",
    "    return self.to_string(recurse=False)\n",
    "\n",
    "class PolymorphicNode(ABC):\n",
    "  @abstractmethod\n",
    "  def __init__(self):\n",
    "    pass\n",
    "\n",
    "  @abstractmethod\n",
    "  def append(self, item):\n",
    "    pass\n",
    "\n",
    "  @abstractmethod\n",
    "  def find_item_steps(self, item):\n",
    "    pass\n",
    "\n",
    "  @abstractmethod\n",
    "  def to_string(self, recurse: bool):\n",
    "    pass\n",
    "\n",
    "  def __repr__(self):\n",
    "    return self.to_string(recurse=True)\n",
    "\n",
    "  def __str__(self):\n",
    "    return self.to_string(recurse=False)\n",
    "\n",
    "class EmptyNode(PolymorphicNode):\n",
    "  def __init__(self):\n",
    "    super().__init__()\n",
    "\n",
    "  def append(self, item):\n",
    "    \"\"\"\n",
    "    This is the only weird part of EmptyNode: because we want to utilize\n",
    "    *polymorphism*, when append() is called on an EmptyNode it\n",
    "    is \"transformed into\" a FilledNode! That is why, in the\n",
    "    LinkedList's append() function, we have self.root = self.root.append(),\n",
    "    and why the FilledNode's append() function works the same way\n",
    "    \"\"\"\n",
    "    #print(\"EmptyLinkedListNode.append()\")\n",
    "    new_form = ContentNode(item)\n",
    "    return new_form\n",
    "\n",
    "  def find_item_steps(self, item):\n",
    "    return np.inf\n",
    "\n",
    "  def __len__(self):\n",
    "    return 0\n",
    "\n",
    "  def to_string(self, recurse: bool):\n",
    "    return ''\n",
    "\n",
    "class ContentNode(PolymorphicNode):\n",
    "  def __init__(self, content_arg):\n",
    "    super().__init__()\n",
    "    self.content = content_arg\n",
    "    self.next = EmptyNode()\n",
    "\n",
    "  def append(self, item):\n",
    "    self.next = self.next.append(item)\n",
    "    # Return just *self*, since we *haven't* transformed the type of\n",
    "    # FilledLinkedListNode by appending another element to it\n",
    "    return self\n",
    "\n",
    "  def find_item_steps(self, item):\n",
    "    if self.content == item or self.content[0] == item:\n",
    "      return 1\n",
    "    return 1 + self.next.find_item_steps(item)\n",
    "\n",
    "  def get_content(self):\n",
    "    return self.content\n",
    "\n",
    "  def __len__(self):\n",
    "    return 1 + len(self.next)\n",
    "\n",
    "  def to_string(self, recurse: bool):\n",
    "    content_str = f'ContentNode[{str(self.get_content())}] '\n",
    "    if not recurse:\n",
    "      return content_str\n",
    "    next_str = str(self.next)\n",
    "    return f'{content_str}{self.next.to_string(recurse)}'"
   ],
   "metadata": {
    "id": "IRvVe7eH5wm2",
    "ExecuteTime": {
     "end_time": "2024-02-23T13:42:10.427415900Z",
     "start_time": "2024-02-23T13:42:10.314431900Z"
    }
   },
   "execution_count": 31,
   "outputs": []
  },
  {
   "cell_type": "markdown",
   "source": [
    "To further help you in working with this version of `LinkedList` (though, again, you can move immediately to the question if you feel comfortable with how the `LinkedList` works!), you can run the following cell which defines a `visualize_ll()` function that takes in an object of type `LinkedList` and produces a visualization of its contents, in the same form that I've used to draw linked lists on the board during class!"
   ],
   "metadata": {
    "id": "4_8_DlXZoJ2h"
   }
  },
  {
   "cell_type": "code",
   "source": [
    "# @title define-linkedlist-visualizer\n",
    "from IPython.display import display\n",
    "import graphviz as gv # for visualizing a tree using Digraph\n",
    "from graphviz import Digraph, nohtml\n",
    "\n",
    "def visualize_ll(ll):\n",
    "  dot = Digraph(\n",
    "      graph_attr={'rankdir': 'LR'},\n",
    "        node_attr={'shape': 'record', 'height': '.1'}\n",
    "    )\n",
    "  prev_node_name = None\n",
    "  node_pointer = ll.root\n",
    "  while type(node_pointer) != EmptyNode:\n",
    "    # New node\n",
    "    cur_name = node_pointer.content\n",
    "    dot.node(name=cur_name, label=nohtml('{<f0> '+cur_name+'|<f1>}'))\n",
    "    # And edge from prev to cur, if not None\n",
    "    if prev_node_name is not None:\n",
    "      edge_from = f'{prev_node_name}:f1'\n",
    "      dot.edge(edge_from, cur_name)\n",
    "    # Now we can update prev_node_name\n",
    "    prev_node_name = cur_name\n",
    "    node_pointer = node_pointer.next\n",
    "  display(dot)\n",
    "\n",
    "# Create (empty) list\n",
    "print(\"Empty LL:\")\n",
    "pll = LinkedList()\n",
    "print(pll.__str__())\n",
    "print(pll.__repr__())\n",
    "print(type(pll))\n",
    "print(type(pll.root))\n",
    "# Add an element\n",
    "print(\"\\nAdding 'a':\")\n",
    "pll.append('a')\n",
    "print(pll.__str__())\n",
    "print(pll.__repr__())\n",
    "print(type(pll))\n",
    "print(type(pll.root))\n",
    "# And a second\n",
    "print(\"\\nAdding 'z':\")\n",
    "pll.append('z')\n",
    "print(pll.__str__())\n",
    "print(pll.__repr__())\n",
    "print(type(pll))\n",
    "print(type(pll.root))\n",
    "print(\"\\n---\\n\")\n",
    "\n",
    "visualize_ll(pll)"
   ],
   "metadata": {
    "colab": {
     "base_uri": "https://localhost:8080/",
     "height": 411
    },
    "id": "2fzIIjcWoJkp",
    "outputId": "0d1de557-b26e-4b2e-bfe0-8dad39b73bc8",
    "ExecuteTime": {
     "end_time": "2024-02-23T13:42:10.527194300Z",
     "start_time": "2024-02-23T13:42:10.319550900Z"
    }
   },
   "execution_count": 32,
   "outputs": [
    {
     "name": "stdout",
     "output_type": "stream",
     "text": [
      "Empty LL:\n",
      "LinkedList[]\n",
      "LinkedList[]\n",
      "<class '__main__.LinkedList'>\n",
      "<class '__main__.EmptyNode'>\n",
      "\n",
      "Adding 'a':\n",
      "LinkedList[ContentNode[a] ]\n",
      "LinkedList[ContentNode[a] ]\n",
      "<class '__main__.LinkedList'>\n",
      "<class '__main__.ContentNode'>\n",
      "\n",
      "Adding 'z':\n",
      "LinkedList[ContentNode[a] ]\n",
      "LinkedList[ContentNode[a] ContentNode[z] ]\n",
      "<class '__main__.LinkedList'>\n",
      "<class '__main__.ContentNode'>\n",
      "\n",
      "---\n"
     ]
    },
    {
     "data": {
      "image/svg+xml": "<?xml version=\"1.0\" encoding=\"UTF-8\" standalone=\"no\"?>\n<!DOCTYPE svg PUBLIC \"-//W3C//DTD SVG 1.1//EN\"\n \"http://www.w3.org/Graphics/SVG/1.1/DTD/svg11.dtd\">\n<!-- Generated by graphviz version 10.0.1 (20240210.2158)\n -->\n<!-- Pages: 1 -->\n<svg width=\"152pt\" height=\"33pt\"\n viewBox=\"0.00 0.00 152.00 32.75\" xmlns=\"http://www.w3.org/2000/svg\" xmlns:xlink=\"http://www.w3.org/1999/xlink\">\n<g id=\"graph0\" class=\"graph\" transform=\"scale(1 1) rotate(0) translate(4 28.75)\">\n<polygon fill=\"white\" stroke=\"none\" points=\"-4,4 -4,-28.75 148,-28.75 148,4 -4,4\"/>\n<!-- a -->\n<g id=\"node1\" class=\"node\">\n<title>a</title>\n<polygon fill=\"none\" stroke=\"black\" points=\"0,-0.5 0,-24.25 54,-24.25 54,-0.5 0,-0.5\"/>\n<text text-anchor=\"middle\" x=\"14\" y=\"-6.95\" font-family=\"Times New Roman,serif\" font-size=\"14.00\">a</text>\n<polyline fill=\"none\" stroke=\"black\" points=\"28,-0.5 28,-24.25\"/>\n<text text-anchor=\"middle\" x=\"40.88\" y=\"-6.95\" font-family=\"Times New Roman,serif\" font-size=\"14.00\"> </text>\n</g>\n<!-- z -->\n<g id=\"node2\" class=\"node\">\n<title>z</title>\n<polygon fill=\"none\" stroke=\"black\" points=\"90,-0.5 90,-24.25 144,-24.25 144,-0.5 90,-0.5\"/>\n<text text-anchor=\"middle\" x=\"104\" y=\"-6.95\" font-family=\"Times New Roman,serif\" font-size=\"14.00\">z</text>\n<polyline fill=\"none\" stroke=\"black\" points=\"118,-0.5 118,-24.25\"/>\n<text text-anchor=\"middle\" x=\"130.88\" y=\"-6.95\" font-family=\"Times New Roman,serif\" font-size=\"14.00\"> </text>\n</g>\n<!-- a&#45;&gt;z -->\n<g id=\"edge1\" class=\"edge\">\n<title>a:f1&#45;&gt;z</title>\n<path fill=\"none\" stroke=\"black\" d=\"M54,-12.38C61.88,-12.38 70.33,-12.38 78.37,-12.38\"/>\n<polygon fill=\"black\" stroke=\"black\" points=\"78.24,-15.88 88.24,-12.38 78.24,-8.88 78.24,-15.88\"/>\n</g>\n</g>\n</svg>\n",
      "text/plain": "<graphviz.graphs.Digraph at 0x22efff81210>"
     },
     "metadata": {},
     "output_type": "display_data"
    }
   ]
  },
  {
   "cell_type": "markdown",
   "source": [
    "### Question 2.1: The `LinearHashTable` Class\n",
    "\n",
    "In the following cell, implement a class called `LinearHashTable`, which should work similarly to the `NaiveHashTable` from the previous part **except in the case where a collision occurs during execution of the `add()` function!**\n"
   ],
   "metadata": {
    "id": "4uPTV2ugI9VY"
   }
  },
  {
   "cell_type": "markdown",
   "source": [
    "To see how this **polymorphic** `LinkedList` class works, you can run the following cell, which illustrates its polymorphic nature:\n",
    "\n",
    "* When a new, empty `LinkedList` object is first created, its `root` pointer points to an object of type `EmptyNode`.\n",
    "* But then, once a first element is **added** to the `LinkedList`, the value that `root` points to is **transformed** from an `EmptyNode` object to a `ContentNode` object.\n",
    "* Since this transformation happens automatically (specifically: since the `add()` function within the `EmptyNode` class returns a `ContentNode` object), we no longer need **if statements** checking whether or not `root` points to `None`!\n",
    "\n",
    "For now this structure might seem like overkill---creating this polymorphic structure just to get rid of a few if statements---but it will become more and more important to think in this way as we create data structures with \"fancier\" types of **nodes**: the `BinarySearchTree` in the next part, for example, has **two** pointers (`left` and `right` rather than just `next`), and the `QuadTree` that we'll look at later will have **four** pointers (`nw`, `ne`, `sw`, `se`). So, if you can get comfortable with this polymorphic structure now, you'll eliminate the need for **two** if statements within every function of the `BinarySearchTree` class, **four** if statements within every function of the `QuadTree` class, and so on!"
   ],
   "metadata": {
    "id": "AwMWv7cl6r_X"
   }
  },
  {
   "cell_type": "markdown",
   "source": [
    "Now that the `LinkedList` class is defined, we can use it as a \"black box\" within our `LinearHashTable` class! In the following cell, implement this `LinearHashTable` class, by writing the following functions:\n",
    "\n",
    "* `__init__(self)`: Just like in Part 1, the constructor for `LinearHashTable` should just initialize an instance variable called `fixed_length_array`, as a NumPy array with length 26. It should also initialize, as in the `NaiveHashTable` class, instance variables called `num_added` and `num_collisions`, both of which should be assigned the `int` value `0`.\n",
    "* `add(self, key: str, value: object) -> bool`: Now that we're moving from a **Naïve** Hash Table to a **Linear** Hash Table, your `add()` function will become a bit more involved: it will need to check whether `key` is indeed a variable of type `str`, returning the `bool` value `False` if it is not, and then it will hash the `key` object as before. However, after computing this hash value for `key`, you will need to handle three possible cases:\n",
    "  * **[Case 1] `key` hashes to empty slot**: If the entry at index `key_hash` of `self.fixed_length_array` is just the value `None`, you just need to update this entry to now be a `tuple` object `(key, value)`.\n",
    "  * **[Case 2] `key` hashes to a slot containing a single `tuple` object**: If the entry at index `key_hash` of `self.fixed_length_array` is a `tuple` object (meaning, something was hashed into this slot before, triggering [Case 1], and thus we now have a first **collision** at this slot), then you will need to (a) store the existing `tuple` object into a Python variable (so it is not lost in this conversion), (b) construct a new `LinkedList` object for storing the two datapoints that have now been hashed to the same slot (and any further values that may hash to this same slot, handled in [Case 3]), (c) add the `tuple` object that was originally in this slot as the **first** item in the `LinkedList` you just created, and (d) add a new tuple `(key, value)` containing the data currently being added (the arguments to the `add()` function) as the **second** item in this newly-constructed `LinkedList`.\n",
    "  * **[Case 3] `key` hashes to a slot containing a `LinkedList` object**: If the entry at index `key_hash` of `self.fixed_length_array` is a `LinkedList` object (meaning, two or more keys have already previously hashed into this same slot), you just need to create a tuple object `(key, value)` containing the data currently being added (the arguments to the `add()` function), and append this tuple object as the **next item** within the existing `LinkedList` object.\n",
    "* `find_item_steps(self, key: str)`: The code for this function has already been provided for you, but I wanted to include it here because it will be important to understand, since it's what we will use to measure the **efficiency** of our hash table, in this and future parts of the assignment. This function uses the `AlphaHasher` class to compute the hash value `key_hash` for the `key` argument, then returns different values given three different possible cases:\n",
    "  * **[Case 1] The content at index `key_hash` is just the value `None`**: This means that an entry with key `key` does not exist in the hash table (since, if it did, that entry would have hashed to the slot `key_hash`, and thus this slot would not contain `None`), so to indicate that we only had to do this one computational step (checking the value in slot `key_hash`) to discover that the entry does not exist, we return the `int` value `1`\n",
    "  * **[Case 2] The content at index `key_hash` is a `tuple` object**: This means that only one entry has ever hashed into this slot, so we've either (a) found the item with key `key`, if the first element of the tuple is equal to `key`, or (b) discovered that the item does not exist in the hash table, if the first element of the tuple is not equal to `key`. Therefore, in either case we've only performed **one** computational step, so we return the `int` value `1`.\n",
    "  * **[Case 3] The content at index `key_hash` is a `LinkedList` object**: In this case we \"forward\" the function to the `LinkedList` class, by just returning the value produced as a result of calling the `find_item_steps()` function on the `LinkedList` object at index `key_hash`. This function is implemented within the `LinkedList` class provided for you above, and computes how many \"hops\" were required before finding the node corresponding to the desired `key` value.\n",
    "* `entry_to_string(self, index: int, recurse: bool) -> object`: You need to complete this function, but it just asks you to return whatever value is stored within the instance variable `self.fixed_length_array` at slot `index`. In other words, you **do not need to do any hashing for this function**: whereas the other functions have an argument like `key` (indicating a value that should be hashed for insertion/retrieval into the hash table), this function just needs to directly go to the slot `index` and return its value. So, we have the following (hopefully) straightforward cases, where [Case 3] is the only one requiring an additional consideration:\n",
    "  * **[Case 1] The entry at slot `index` is `None`**: In this case, the function should return the value `None`\n",
    "  * **[Case 2] The entry at slot `index` is a `tuple` object**: In this case, the function should just return this `tuple` object.\n",
    "  * **[Case 3] The entry at slot `index` is a `LinkedList`**: This is the case you need to be careful about, because it's where the `recurse` argument comes in. The `LinkedList` class provided for you above has a `to_string()` function defined, which takes in a single argument called `recurse`, and prints **all** contents of the list if the provided `recurse` value is `True`, or just the **first** item in the list if the provided `recurse` value is `False`. Your code here, therefore, just needs to return the value which is produced by calling the `to_string()` function on the `LinkedList` object stored in the slot `index`, with the `recurse` value as its only argument. This ensures that, for example, if `entry_to_string()` was called with a `recurse` value of `True` and the entry in slot `index` is a `LinkedList` object, the full contents of this `LinkedList` object will be produced.\n",
    "* `__len__(self) -> int`: Notice the two underscores before and after the name of this function: this indicates that it is a **special** function used by Python to implement some operator, in this case the `len()` operator.  So, your job in implementing this function is to return an `int` value representing the total number of elements stored in the hash table. Note that, **unlike the case for the `NaiveHashTable`**, here you cannot simply count the number of empty vs. non-empty slots! Instead, any time you encounter a slot in the `self.fixed_length_array` instance variable that contains a `LinkedList` object, you will need to use the `len()` operator (which we know will \"work\", since `__len__()` is defined within the provided `LinkedList` class above) to find its length. Given this, hopefully it makes sense that the final length of the **entire `LinearHashTable`** will be the sum of:\n",
    "  * `0` for all slots containing just the \"blank\" value `None`\n",
    "  * `1` for all slots containing a single `tuple` object, and\n",
    "  * `len(self.fixed_length_array[i])` for all slots `i` containing a `LinkedList` object.\n",
    "* `__str__()` and `__repr__()`: As before, you do need to implement these functions, but they should just work as follows:\n",
    "  * `__str__()` should return the value of `self.to_string()`, called with the `recurse` argument set to be the `bool` value `False`\n",
    "  * `__repr__()` should return the value of `self.to_string()`, called with the `recurse` argument set to be the `bool` value `True`\n",
    "\n",
    "By implementing `__str__()` and `__repr__()` this way, we can see our first real example of using these two functions for two different purposes:\n",
    "* We use `__str__()` to generate a **simplified** string representation of the `LinearHashTable` object, where we only see the first element of any slots containing `LinkedList` objects, but then\n",
    "* We use `__repr__()` to generate an **expanded** (i.e., more detailed) string representation of the `LinearHashTable` object, where we see **all** of the elements stored within any slots containing `LinkedList` objects."
   ],
   "metadata": {
    "id": "suxETa_H5xAF"
   }
  },
  {
   "cell_type": "code",
   "source": [
    "# @title Q2.1-response\n",
    "# from abc import ABC\n",
    "# import numpy as np\n",
    "\n",
    "# class LinearHashTable:\n",
    "#   def __init__(self):\n",
    "#     self.hasher = AlphaHasher()\n",
    "#     self.fixed_array_size = self.hasher.get_alphabet_size()\n",
    "#     self.fixed_length_array = np.empty(self.fixed_array_size, dtype='object')\n",
    "#     self.num_added = 0\n",
    "#     self.num_collisions = 0\n",
    "\n",
    "#   def add(self, key: str, value: object) -> bool:\n",
    "#     pass # Your code here\n",
    "\n",
    "#   def find_item_steps(self, key: str) -> int:\n",
    "#     key_hash = self.hasher.hash(key)\n",
    "#     if self.fixed_length_array[key_hash] is None:\n",
    "#       return 1\n",
    "#     if isinstance(self.fixed_length_array[key_hash], LinkedList):\n",
    "#       return self.fixed_length_array[key_hash].find_item_steps(key)\n",
    "#     return 1\n",
    "\n",
    "#   def entry_to_string(self, index: int, recurse: bool) -> object:\n",
    "#     pass # Your code here\n",
    "\n",
    "#   def get_num_added(self):\n",
    "#     return self.num_added\n",
    "\n",
    "#   def increment_num_added(self):\n",
    "#     self.num_added = self.num_added + 1\n",
    "\n",
    "#   def get_num_collisions(self):\n",
    "#     return self.num_collisions\n",
    "\n",
    "#   def increment_num_collisions(self):\n",
    "#     self.num_collisions = self.num_collisions + 1\n",
    "\n",
    "#   def __len__(self):\n",
    "#     pass # Your code here\n",
    "\n",
    "#   def to_string(self, recurse):\n",
    "#     entry_list = [f'{self.hasher.compute_key_for_index(i)}: {self.entry_to_string(i, recurse)}' for i in range(len(self.fixed_length_array))]\n",
    "#     return \"\\n\".join(entry_list)\n",
    "\n",
    "#   def __repr__(self):\n",
    "#     return \"__repr__() not implemented\" # Your code here\n",
    "\n",
    "#   def __str__(self):\n",
    "#     return \"__str__() not implemented\" # Your code here\n",
    "\n",
    "\n",
    "\n",
    "\n",
    "# from abc import ABC\n",
    "# import numpy as np\n",
    "\n",
    "# # Define the AlphaHasher class (assuming it's supposed to be here)\n",
    "# class AlphaHasher:\n",
    "#     def __init__(self):\n",
    "#         self.alphabet_size = 26  # For example\n",
    "\n",
    "#     def get_alphabet_size(self):\n",
    "#         return self.alphabet_size\n",
    "\n",
    "#     def hash(self, key):\n",
    "#         # Hash function implementation (example based on first character)\n",
    "#         return ord(key.lower()[0]) - ord('a')\n",
    "\n",
    "# # Assuming LinkedList class is defined elsewhere\n",
    "\n",
    "# class LinearHashTable:\n",
    "#     def __init__(self):\n",
    "#         self.hasher = AlphaHasher()  # AlphaHasher is defined elsewhere\n",
    "#         self.fixed_array_size = self.hasher.get_alphabet_size()\n",
    "#         self.fixed_length_array = np.empty(self.fixed_array_size, dtype='object')\n",
    "#         self.num_added = 0\n",
    "#         self.num_collisions = 0\n",
    "\n",
    "#     def add(self, key: str, value: object) -> bool:\n",
    "#         if not isinstance(key, str):\n",
    "#             return False\n",
    "\n",
    "#         key_hash = self.hasher.hash(key)\n",
    "#         slot = self.fixed_length_array[key_hash]\n",
    "\n",
    "#         if slot is None:\n",
    "#             self.fixed_length_array[key_hash] = (key, value)\n",
    "#         elif isinstance(slot, tuple) and slot[0] == key:\n",
    "#             return False  # Key already exists, assuming no overwrite\n",
    "#         elif isinstance(slot, tuple):\n",
    "#             new_list = LinkedList()\n",
    "#             new_list.append(slot)\n",
    "#             new_list.append((key, value))\n",
    "#             self.fixed_length_array[key_hash] = new_list\n",
    "#             self.num_collisions += 1  # Increment num_collisions directly\n",
    "#         elif isinstance(slot, LinkedList):\n",
    "#             if slot.find_item_steps(key) == np.inf:\n",
    "#                 slot.append((key, value))\n",
    "#                 self.num_collisions += 1  # Increment num_collisions directly\n",
    "#             else:\n",
    "#                 return False  # Key already exists in the LinkedList\n",
    "\n",
    "#         self.num_added += 1  # Increment num_added directly\n",
    "#         return True\n",
    "\n",
    "#     def entry_to_string(self, index: int, recurse: bool) -> str:\n",
    "#         entry = self.fixed_length_array[index]\n",
    "#         if entry is None:\n",
    "#             return \"None\"\n",
    "#         elif isinstance(entry, tuple):\n",
    "#             return str(entry)\n",
    "#         elif isinstance(entry, LinkedList):\n",
    "#             return entry.to_string(recurse)\n",
    "#         else:\n",
    "#             return \"Invalid entry\"\n",
    "\n",
    "#     def __len__(self):\n",
    "#         total_length = 0\n",
    "#         for entry in self.fixed_length_array:\n",
    "#             if entry is None:\n",
    "#                 continue\n",
    "#             elif isinstance(entry, tuple):\n",
    "#                 total_length += 1\n",
    "#             elif isinstance(entry, LinkedList):\n",
    "#                 total_length += len(entry)\n",
    "#         return total_length\n",
    "\n",
    "#     def __repr__(self):\n",
    "#         return self.to_string(True)\n",
    "\n",
    "#     def __str__(self):\n",
    "#         return self.to_string(False)\n",
    "\n",
    "#     def to_string(self, recurse):\n",
    "#         entry_list = [f'{self.hasher.compute_key_for_index(i)}: {self.entry_to_string(i, recurse)}' for i in range(self.fixed_array_size)]\n",
    "#         return \"\\n\".join(entry_list)\n",
    "# import numpy as np\n",
    "\n",
    "# class LinearHashTable:\n",
    "#     def __init__(self):\n",
    "#         self.fixed_length_array = np.empty(26, dtype=object)\n",
    "#         self.num_added = 0\n",
    "#         self.num_collisions = 0\n",
    "\n",
    "#     def add(self, key: str, value: object) -> bool:\n",
    "#         if not isinstance(key, str):\n",
    "#             return False\n",
    "#         key_hash = AlphaHasher.hash(key)\n",
    "#         slot_content = self.fixed_length_array[key_hash]\n",
    "\n",
    "#         # Case 1: Slot is empty\n",
    "#         if slot_content is None:\n",
    "#             self.fixed_length_array[key_hash] = (key, value)\n",
    "\n",
    "#         # Case 2: Slot contains a single tuple, convert to LinkedList\n",
    "#         elif isinstance(slot_content, tuple):\n",
    "#             self.num_collisions += 1\n",
    "#             new_list = LinkedList()\n",
    "#             new_list.append(slot_content)  # Add existing tuple\n",
    "#             new_list.append((key, value))  # Add new tuple\n",
    "#             self.fixed_length_array[key_hash] = new_list\n",
    "\n",
    "#         # Case 3: Slot contains a LinkedList\n",
    "#         elif isinstance(slot_content, LinkedList):\n",
    "#             self.num_collisions += 1\n",
    "#             slot_content.append((key, value))\n",
    "\n",
    "#         self.num_added += 1\n",
    "#         return True\n",
    "\n",
    "#     def find_item_steps(self, key: str) -> int:\n",
    "#       key_hash = self.hasher.hash(key)\n",
    "#       if self.fixed_length_array[key_hash] is None:\n",
    "#         return 1\n",
    "#       if isinstance(self.fixed_length_array[key_hash], LinkedList):\n",
    "#         return self.fixed_length_array[key_hash].find_item_steps(key)\n",
    "#       return 1\n",
    "\n",
    "    # def entry_to_string(self, index: int, recurse: bool) -> object:\n",
    "    # # [Case 1] The entry at slot index is None\n",
    "    #   if self.fixed_length_array[index] is None:\n",
    "    #     return None\n",
    "\n",
    "    # # [Case 2] The entry at slot index is a tuple object\n",
    "    #   elif isinstance(self.fixed_length_array[index], tuple):\n",
    "    #     return self.fixed_length_array[index]\n",
    "\n",
    "    # # [Case 3] The entry at slot index is a LinkedList\n",
    "    #   elif isinstance(self.fixed_length_array[index], LinkedList):\n",
    "    #     return self.fixed_length_array[index].to_string(recurse)\n",
    "\n",
    "    # # Handle unexpected data types just in case\n",
    "    #   else:\n",
    "    #     return str(self.fixed_length_array[index])\n",
    "\n",
    "    # def entry_to_string(self, index: int, recurse: bool) -> str:\n",
    "    #     entry = self.fixed_length_array[index]\n",
    "    #     if entry is None:\n",
    "    #         return \"None\"\n",
    "    #     elif isinstance(entry, tuple):\n",
    "    #         return str(entry)\n",
    "    #     elif isinstance(entry, LinkedList):\n",
    "    #         return entry.to_string(recurse)\n",
    "    #     else:\n",
    "    #         return \"Invalid entry\"\n",
    "\n",
    "    # def __len__(self):\n",
    "    #     total_length = 0\n",
    "    #     for item in self.fixed_length_array:\n",
    "    #         if item is None:\n",
    "    #             continue\n",
    "    #         elif isinstance(item, tuple):\n",
    "    #             total_length += 1\n",
    "    #         elif isinstance(item, LinkedList):\n",
    "    #             total_length += len(item)  # Assuming LinkedList implements __len__\n",
    "    #     return total_length\n",
    "\n",
    "    # def __str__(self):\n",
    "    #     return self.to_string(False)\n",
    "\n",
    "    # def __repr__(self):\n",
    "    #     return self.to_string(True)\n",
    "\n",
    "    # def to_string(self, recurse: bool) -> str:\n",
    "    #     entries = []\n",
    "    #     for i, item in enumerate(self.fixed_length_array):\n",
    "    #         if isinstance(item, LinkedList):\n",
    "    #             entries.append(f'{i}: {item.to_string(recurse)}')\n",
    "    #         else:\n",
    "    #             entries.append(f'{i}: {item}')\n",
    "    #     return \"\\n\".join(entries)\n",
    "\n",
    "# from abc import ABC\n",
    "# import numpy as np\n",
    "# class LinearHashTable:\n",
    "#     def __init__(self):\n",
    "#         self.hasher = AlphaHasher()  # Assuming AlphaHasher is defined elsewhere\n",
    "#         self.fixed_array_size = self.hasher.get_alphabet_size()\n",
    "#         self.fixed_length_array = np.empty(self.fixed_array_size, dtype='object')\n",
    "#         self.num_added = 0\n",
    "#         self.num_collisions = 0\n",
    "\n",
    "#     def add(self, key: str, value: object) -> bool:\n",
    "#         if not isinstance(key, str):\n",
    "#             return False\n",
    "#         key_hash = self.hasher.hash(key)\n",
    "#         entry = self.fixed_length_array[key_hash]\n",
    "\n",
    "#         if entry is None:  # Case 1\n",
    "#             self.fixed_length_array[key_hash] = (key, value)\n",
    "#         elif isinstance(entry, tuple):  # Case 2\n",
    "#             existing_tuple = entry\n",
    "#             self.fixed_length_array[key_hash] = LinkedList()  # Assuming LinkedList supports adding tuples\n",
    "#             self.fixed_length_array[key_hash].add(existing_tuple)\n",
    "#             self.fixed_length_array[key_hash].add((key, value))\n",
    "#             self.increment_num_collisions()\n",
    "#         elif isinstance(entry, LinkedList):  # Case 3\n",
    "#             self.fixed_length_array[key_hash].add((key, value))\n",
    "#             self.increment_num_collisions()\n",
    "#         self.increment_num_added()\n",
    "#         return True\n",
    "\n",
    "#     def find_item_steps(self, key: str) -> int:\n",
    "#       key_hash = self.hasher.hash(key)\n",
    "#       if self.fixed_length_array[key_hash] is None:\n",
    "#         return 1\n",
    "#       if isinstance(self.fixed_length_array[key_hash], LinkedList):\n",
    "#         return self.fixed_length_array[key_hash].find_item_steps(key)\n",
    "#       return 1\n",
    "#     def entry_to_string(self, index: int, recurse: bool) -> object:\n",
    "#         entry = self.fixed_length_array[index]\n",
    "#         if entry is None:\n",
    "#             return \"None\"\n",
    "#         elif isinstance(entry, LinkedList):\n",
    "#             return entry.to_string(recurse)  # Assuming LinkedList has a to_string method\n",
    "#         else:\n",
    "#             return str(entry)\n",
    "\n",
    "#     def get_num_added(self):\n",
    "#       return self.num_added\n",
    "#     def increment_num_added(self):\n",
    "#       self.num_added = self.num_added + 1\n",
    "\n",
    "#     def get_num_collisions(self):\n",
    "#       return self.num_collisions\n",
    "\n",
    "#     def increment_num_collisions(self):\n",
    "#       self.num_collisions = self.num_collisions + 1\n",
    "\n",
    "\n",
    "#     def __len__(self):\n",
    "#         total_count = 0\n",
    "#         for entry in self.fixed_length_array:\n",
    "#             if isinstance(entry, LinkedList):\n",
    "#                 total_count += len(entry)  # Assuming LinkedList defines __len__\n",
    "#             elif entry is not None:\n",
    "#                 total_count += 1\n",
    "#         return total_count\n",
    "\n",
    "#     def to_string(self, recurse):\n",
    "#         entry_list = [f'{self.hasher.compute_key_for_index(i)}: {self.entry_to_string(i, recurse)}' for i in range(len(self.fixed_length_array))]\n",
    "#         return \"\\n\".join(entry_list)\n",
    "\n",
    "\n",
    "#     def __repr__(self):\n",
    "#         return self.to_string(recurse=True)\n",
    "\n",
    "#     def __str__(self):\n",
    "#         return self.to_string(recurse=False)\n",
    "\n",
    "from abc import ABC\n",
    "import numpy as np\n",
    "\n",
    "class LinkedList:\n",
    "    # Placeholder for LinkedList implementation\n",
    "    pass\n",
    "\n",
    "class AlphaHasher:\n",
    "    def __hash__(self, key):\n",
    "      pass\n",
    "\n",
    "class LinearHashTable:\n",
    "    def __init__(self):\n",
    "        self.hasher = AlphaHasher()\n",
    "        self.fixed_length_array = np.empty(26, dtype=object)  # Assuming 26 for the example; replace as needed\n",
    "        self.num_added = 0\n",
    "        self.num_collisions = 0\n",
    "\n",
    "    def add(self, key: str, value: object) -> bool:\n",
    "        if not isinstance(key, str):\n",
    "            return False\n",
    "\n",
    "        key_hash = self.hasher.hash(key)\n",
    "        slot_value = self.fixed_length_array[key_hash]\n",
    "\n",
    "        if slot_value is None:  # Case 1\n",
    "            self.fixed_length_array[key_hash] = (key, value)\n",
    "        elif isinstance(slot_value, tuple):  # Case 2\n",
    "            existing_tuple = slot_value\n",
    "            new_list = LinkedList()\n",
    "            new_list.add(existing_tuple)\n",
    "            new_list.add((key, value))\n",
    "            self.fixed_length_array[key_hash] = new_list\n",
    "            self.num_collisions += 1\n",
    "        elif isinstance(slot_value, LinkedList):  # Case 3\n",
    "            slot_value.add((key, value))\n",
    "            self.num_collisions += 1\n",
    "        else:\n",
    "            return False  # Unhandled case\n",
    "\n",
    "        self.num_added += 1\n",
    "        return True\n",
    "\n",
    "    def find_item_steps(self, key: str) -> int:\n",
    "        key_hash = self.hasher.hash(key)\n",
    "        slot_value = self.fixed_length_array[key_hash]\n",
    "\n",
    "        if slot_value is None:\n",
    "            return 1\n",
    "        elif isinstance(slot_value, tuple):\n",
    "            return 1\n",
    "        elif isinstance(slot_value, LinkedList):\n",
    "            return slot_value.find_item_steps(key)\n",
    "        else:\n",
    "            return -1  # Error case\n",
    "\n",
    "    def entry_to_string(self, index: int, recurse: bool) -> object:\n",
    "        slot_value = self.fixed_length_array[index]\n",
    "        if isinstance(slot_value, LinkedList):\n",
    "            return slot_value.to_string(recurse)\n",
    "        return slot_value\n",
    "\n",
    "    def __len__(self):\n",
    "        length = 0\n",
    "        for i in self.fixed_length_array:\n",
    "            if i is None:\n",
    "                continue\n",
    "            elif isinstance(i, tuple):\n",
    "                length += 1\n",
    "            elif isinstance(i, LinkedList):\n",
    "                length += len(i)  # Assuming LinkedList has __len__ implemented\n",
    "        return length\n",
    "\n",
    "    def __str__(self):\n",
    "        return self.to_string(False)\n",
    "\n",
    "    def __repr__(self):\n",
    "        return self.to_string(True)\n",
    "\n",
    "    def to_string(self, recurse):\n",
    "        entries = []\n",
    "        for i in range(len(self.fixed_length_array)):\n",
    "            entry_repr = self.entry_to_string(i, recurse)\n",
    "            if entry_repr is not None:\n",
    "                entries.append(f'{i}: {entry_repr}')\n",
    "            else:\n",
    "                entries.append(f'{i}: None')\n",
    "        return \"\\n\".join(entries)"
   ],
   "metadata": {
    "id": "E3wOOH4lgfMT",
    "ExecuteTime": {
     "end_time": "2024-02-23T13:42:10.547137700Z",
     "start_time": "2024-02-23T13:42:10.430397400Z"
    }
   },
   "execution_count": 33,
   "outputs": []
  },
  {
   "cell_type": "code",
   "source": [
    "# @title Q2.1-public-tests\n",
    "q2_1_public_tests = {\n",
    "    # Test 1: Check if LinearHashTable definition is in Python's memory\n",
    "    'LinearHashTable defined': '✅ Passed!' if 'LinearHashTable' in vars() else \"❌ 'LinearHashTable' class definition not in Python memory\",\n",
    "}\n",
    "q2_1_public_tests"
   ],
   "metadata": {
    "id": "OptA67lmSVC2",
    "colab": {
     "base_uri": "https://localhost:8080/"
    },
    "outputId": "7663f7b8-29e2-4bb2-ed4a-79d863763055",
    "ExecuteTime": {
     "end_time": "2024-02-23T13:42:10.556181500Z",
     "start_time": "2024-02-23T13:42:10.434346300Z"
    }
   },
   "execution_count": 34,
   "outputs": [
    {
     "data": {
      "text/plain": "{'LinearHashTable defined': '✅ Passed!'}"
     },
     "execution_count": 34,
     "metadata": {},
     "output_type": "execute_result"
    }
   ]
  },
  {
   "cell_type": "markdown",
   "source": [
    "### Part 2.2: Using `LinearHashTable` to Store Real Data"
   ],
   "metadata": {
    "id": "12meeyFf7eIE"
   }
  },
  {
   "cell_type": "markdown",
   "source": [
    "The following code loads a new dataset (different from the dataset used in Part 1), containing randomly-generated data from Mockaroo on $N = 1000$ products and their prices, into a Pandas `DataFrame` object called `product_df`. You can take a look at the contents, for concrete examples of the data we're going to represent as objects of type `InventoryItem` and add to our `LinearHashTable`."
   ],
   "metadata": {
    "id": "wzK3Cr0W7jmo"
   }
  },
  {
   "cell_type": "code",
   "source": [
    "import pandas as pd\n",
    "product_df = pd.read_csv(\"https://jpj.georgetown.domains/dsan5500-scratch/mockaroo.csv\")\n",
    "product_df.head()"
   ],
   "metadata": {
    "id": "YZxp2Axk7ikM",
    "colab": {
     "base_uri": "https://localhost:8080/",
     "height": 206
    },
    "outputId": "5ea3aa27-af59-4768-8bc1-b7209aa7fd96",
    "ExecuteTime": {
     "end_time": "2024-02-23T13:42:11.235728700Z",
     "start_time": "2024-02-23T13:42:10.439128600Z"
    }
   },
   "execution_count": 35,
   "outputs": [
    {
     "data": {
      "text/plain": "   id                      product_name  price\n0   1   Nescafe - Frothy French Vanilla  26.94\n1   2                 Star Anise, Whole  62.83\n2   3  Wine - White, Riesling, Henry Of  90.10\n3   4                       Crab - Meat  67.26\n4   5     Syrup - Monin - Passion Fruit   6.75",
      "text/html": "<div>\n<style scoped>\n    .dataframe tbody tr th:only-of-type {\n        vertical-align: middle;\n    }\n\n    .dataframe tbody tr th {\n        vertical-align: top;\n    }\n\n    .dataframe thead th {\n        text-align: right;\n    }\n</style>\n<table border=\"1\" class=\"dataframe\">\n  <thead>\n    <tr style=\"text-align: right;\">\n      <th></th>\n      <th>id</th>\n      <th>product_name</th>\n      <th>price</th>\n    </tr>\n  </thead>\n  <tbody>\n    <tr>\n      <th>0</th>\n      <td>1</td>\n      <td>Nescafe - Frothy French Vanilla</td>\n      <td>26.94</td>\n    </tr>\n    <tr>\n      <th>1</th>\n      <td>2</td>\n      <td>Star Anise, Whole</td>\n      <td>62.83</td>\n    </tr>\n    <tr>\n      <th>2</th>\n      <td>3</td>\n      <td>Wine - White, Riesling, Henry Of</td>\n      <td>90.10</td>\n    </tr>\n    <tr>\n      <th>3</th>\n      <td>4</td>\n      <td>Crab - Meat</td>\n      <td>67.26</td>\n    </tr>\n    <tr>\n      <th>4</th>\n      <td>5</td>\n      <td>Syrup - Monin - Passion Fruit</td>\n      <td>6.75</td>\n    </tr>\n  </tbody>\n</table>\n</div>"
     },
     "execution_count": 35,
     "metadata": {},
     "output_type": "execute_result"
    }
   ]
  },
  {
   "cell_type": "markdown",
   "source": [
    "#### Question 2.2.1\n",
    "\n",
    "In the following cell, use the `iterrows()` function available for the `product_df` DataFrame to loop over each row of `product_df`, converting each row into an object of type `InventoryItem` and storing this constructed `InventoryItem` object into the `LinearHashTable` object named `linear_ht` created for you at the beginning of the cell:"
   ],
   "metadata": {
    "id": "QuF4CMTf78tA"
   }
  },
  {
   "cell_type": "code",
   "source": [
    "# @title Q2.2.1-response\n",
    "# linear_ht = LinearHashTable()\n",
    "\n",
    "# # Your code here\n",
    "\n",
    "# # Do not modify the following line or add any code below it, please!\n",
    "# print(linear_ht)\n",
    "\n",
    "# Assuming the necessary classes are already defined and the DataFrame is loaded into product_df\n",
    "import pandas as pd\n",
    "\n",
    "# Assuming LinearHashTable class is already defined and has an add method that accepts strings as keys\n",
    "linear_ht = LinearHashTable()\n",
    "\n",
    "# Load the data into a DataFrame\n",
    "# Make sure to replace 'path/to/your/csvfile.csv' with the actual path to your CSV file\n",
    "product_df = pd.read_csv(\"https://jpj.georgetown.domains/dsan5500-scratch/mockaroo.csv\")\n",
    "\n",
    "# Iterate over the DataFrame rows and add each as an InventoryItem to the LinearHashTable\n",
    "for index, row in product_df.iterrows():\n",
    "    item = InventoryItem(row['product_name'], row['price'])\n",
    "    # Here we assume that the product name is unique and can be used as a key\n",
    "    # If the product name is not unique, you might need to use another unique identifier\n",
    "    linear_ht.add(row['product_name'], item)\n",
    "\n",
    "# Output the LinearHashTable\n",
    "print(linear_ht)\n",
    "\n",
    "# linear_ht = LinearHashTable()\n",
    "\n",
    "# # Your code here\n",
    "# for index, row in product_df.iterrows():\n",
    "#     item = InventoryItem(row['product_name'], row['price'])\n",
    "#     linear_ht.add(row['product_name'], item)\n",
    "\n",
    "# # Do not modify the following line or add any code below it, please!\n",
    "# print(linear_ht)"
   ],
   "metadata": {
    "id": "3l8lKN5e7-Lr",
    "colab": {
     "base_uri": "https://localhost:8080/",
     "height": 332
    },
    "outputId": "3868fa9e-9a77-4ed1-d22e-14620a715505",
    "ExecuteTime": {
     "end_time": "2024-02-23T13:42:12.144543800Z",
     "start_time": "2024-02-23T13:42:11.222446700Z"
    }
   },
   "execution_count": 36,
   "outputs": [
    {
     "ename": "AttributeError",
     "evalue": "'AlphaHasher' object has no attribute 'hash'",
     "output_type": "error",
     "traceback": [
      "\u001B[1;31m---------------------------------------------------------------------------\u001B[0m",
      "\u001B[1;31mAttributeError\u001B[0m                            Traceback (most recent call last)",
      "Cell \u001B[1;32mIn[36], line 24\u001B[0m\n\u001B[0;32m     21\u001B[0m     item \u001B[38;5;241m=\u001B[39m InventoryItem(row[\u001B[38;5;124m'\u001B[39m\u001B[38;5;124mproduct_name\u001B[39m\u001B[38;5;124m'\u001B[39m], row[\u001B[38;5;124m'\u001B[39m\u001B[38;5;124mprice\u001B[39m\u001B[38;5;124m'\u001B[39m])\n\u001B[0;32m     22\u001B[0m     \u001B[38;5;66;03m# Here we assume that the product name is unique and can be used as a key\u001B[39;00m\n\u001B[0;32m     23\u001B[0m     \u001B[38;5;66;03m# If the product name is not unique, you might need to use another unique identifier\u001B[39;00m\n\u001B[1;32m---> 24\u001B[0m     \u001B[43mlinear_ht\u001B[49m\u001B[38;5;241;43m.\u001B[39;49m\u001B[43madd\u001B[49m\u001B[43m(\u001B[49m\u001B[43mrow\u001B[49m\u001B[43m[\u001B[49m\u001B[38;5;124;43m'\u001B[39;49m\u001B[38;5;124;43mproduct_name\u001B[39;49m\u001B[38;5;124;43m'\u001B[39;49m\u001B[43m]\u001B[49m\u001B[43m,\u001B[49m\u001B[43m \u001B[49m\u001B[43mitem\u001B[49m\u001B[43m)\u001B[49m\n\u001B[0;32m     26\u001B[0m \u001B[38;5;66;03m# Output the LinearHashTable\u001B[39;00m\n\u001B[0;32m     27\u001B[0m \u001B[38;5;28mprint\u001B[39m(linear_ht)\n",
      "Cell \u001B[1;32mIn[33], line 334\u001B[0m, in \u001B[0;36mLinearHashTable.add\u001B[1;34m(self, key, value)\u001B[0m\n\u001B[0;32m    331\u001B[0m \u001B[38;5;28;01mif\u001B[39;00m \u001B[38;5;129;01mnot\u001B[39;00m \u001B[38;5;28misinstance\u001B[39m(key, \u001B[38;5;28mstr\u001B[39m):\n\u001B[0;32m    332\u001B[0m     \u001B[38;5;28;01mreturn\u001B[39;00m \u001B[38;5;28;01mFalse\u001B[39;00m\n\u001B[1;32m--> 334\u001B[0m key_hash \u001B[38;5;241m=\u001B[39m \u001B[38;5;28;43mself\u001B[39;49m\u001B[38;5;241;43m.\u001B[39;49m\u001B[43mhasher\u001B[49m\u001B[38;5;241;43m.\u001B[39;49m\u001B[43mhash\u001B[49m(key)\n\u001B[0;32m    335\u001B[0m slot_value \u001B[38;5;241m=\u001B[39m \u001B[38;5;28mself\u001B[39m\u001B[38;5;241m.\u001B[39mfixed_length_array[key_hash]\n\u001B[0;32m    337\u001B[0m \u001B[38;5;28;01mif\u001B[39;00m slot_value \u001B[38;5;129;01mis\u001B[39;00m \u001B[38;5;28;01mNone\u001B[39;00m:  \u001B[38;5;66;03m# Case 1\u001B[39;00m\n",
      "\u001B[1;31mAttributeError\u001B[0m: 'AlphaHasher' object has no attribute 'hash'"
     ]
    }
   ]
  },
  {
   "cell_type": "code",
   "source": [
    "# @title Q2.2.1-public-tests\n",
    "q2_2_1_public_tests = {\n",
    "    'linear_ht defined': '✅ Passed!' if 'linear_ht' in vars() else \"❌ No variabled named 'linear_ht' exists in Python memory\",\n",
    "}\n",
    "q2_2_1_public_tests"
   ],
   "metadata": {
    "id": "rYszASNm8ebG",
    "ExecuteTime": {
     "end_time": "2024-02-23T13:43:11.169499200Z",
     "start_time": "2024-02-23T13:43:11.133263Z"
    }
   },
   "execution_count": 37,
   "outputs": [
    {
     "data": {
      "text/plain": "{'linear_ht defined': '✅ Passed!'}"
     },
     "execution_count": 37,
     "metadata": {},
     "output_type": "execute_result"
    }
   ]
  },
  {
   "cell_type": "markdown",
   "source": [
    "#### Question 2.2.2\n",
    "\n",
    "Now, in the following cell, take the `retrieval_steps` defined for you in the first line, and use the `iterrows()` function again to loop over each element in `product_df`, but this time use your `find_item_steps()` function to compute the number of steps that are required to find each of the items in `product_df`. So, each iteration of your loop should add a new `int` value to the `retrieval_steps` list. The last line of code in the cell (already provided for you) should just take the elements you've now added to `retrieval_steps` and find the **mean number of operations** required to find the price for an inventory item. You should get a value between `37` and `38`!"
   ],
   "metadata": {
    "id": "yK5KGyY78wk5"
   }
  },
  {
   "cell_type": "code",
   "source": [
    "# @title Q2.2.2-response\n",
    "# retrieval_steps_linear = []\n",
    "\n",
    "# # Your code here\n",
    "\n",
    "# # Don't modify the following line or add any code below it, please!\n",
    "# mean_retrieval_steps_linear = -1\n",
    "# if len(retrieval_steps_linear) > 0:\n",
    "#   mean_retrieval_steps_linear = sum(retrieval_steps_linear) / len(retrieval_steps_linear)\n",
    "# print(mean_retrieval_steps_linear)\n",
    "\n",
    "# Placeholder for retrieval_steps_linear list initialization\n",
    "\n",
    "\n",
    "# retrieval_steps_linear = []\n",
    "\n",
    "# # Simulating the iteration over product_df and counting retrieval steps\n",
    "# for index, row in product_df.iterrows():\n",
    "#     product_name = row['product_name']\n",
    "#     # Simulate finding the number of steps to retrieve an item\n",
    "#     # This is where you would call your actual find_item_steps method\n",
    "#     # For the purpose of this example, let's assume each retrieval takes a random number of steps\n",
    "#     # In your actual implementation, replace this with:\n",
    "#     # steps = linear_ht.find_item_steps(product_name)\n",
    "#     steps = np.random.randint(1, 10)  # Placeholder for actual step counting\n",
    "#     retrieval_steps_linear.append(steps)\n",
    "\n",
    "# # Calculate the mean number of operations required to find an item\n",
    "# mean_retrieval_steps_linear = -1\n",
    "# if len(retrieval_steps_linear) > 0:\n",
    "#     mean_retrieval_steps_linear = sum(retrieval_steps_linear) / len(retrieval_steps_linear)\n",
    "\n",
    "# # Output the mean retrieval steps\n",
    "# print(mean_retrieval_steps_linear)\n",
    "# Assuming retrieval_steps is initialized\n",
    "retrieval_steps = []\n",
    "\n",
    "# Assuming product_df is already defined and linear_ht has been populated with InventoryItem objects\n",
    "for index, row in product_df.iterrows():\n",
    "    # Use the product name as the key to find the item\n",
    "    steps = linear_ht.find_item_steps(row['product_name'])\n",
    "    retrieval_steps.append(steps)\n",
    "\n",
    "# Calculate the mean number of steps required to find an item\n",
    "mean_steps = sum(retrieval_steps) / len(retrieval_steps)\n",
    "print(f\"Mean number of operations required to find an item: {mean_steps}\")"
   ],
   "metadata": {
    "colab": {
     "base_uri": "https://localhost:8080/",
     "height": 332
    },
    "id": "Q89ESERM8xvn",
    "outputId": "8fad2b23-e6d7-4a3f-efc1-3c365770e3f0",
    "ExecuteTime": {
     "end_time": "2024-02-23T13:43:12.564950500Z",
     "start_time": "2024-02-23T13:43:12.542102600Z"
    }
   },
   "execution_count": 38,
   "outputs": [
    {
     "ename": "AttributeError",
     "evalue": "'AlphaHasher' object has no attribute 'hash'",
     "output_type": "error",
     "traceback": [
      "\u001B[1;31m---------------------------------------------------------------------------\u001B[0m",
      "\u001B[1;31mAttributeError\u001B[0m                            Traceback (most recent call last)",
      "Cell \u001B[1;32mIn[38], line 41\u001B[0m\n\u001B[0;32m     38\u001B[0m \u001B[38;5;66;03m# Assuming product_df is already defined and linear_ht has been populated with InventoryItem objects\u001B[39;00m\n\u001B[0;32m     39\u001B[0m \u001B[38;5;28;01mfor\u001B[39;00m index, row \u001B[38;5;129;01min\u001B[39;00m product_df\u001B[38;5;241m.\u001B[39miterrows():\n\u001B[0;32m     40\u001B[0m     \u001B[38;5;66;03m# Use the product name as the key to find the item\u001B[39;00m\n\u001B[1;32m---> 41\u001B[0m     steps \u001B[38;5;241m=\u001B[39m \u001B[43mlinear_ht\u001B[49m\u001B[38;5;241;43m.\u001B[39;49m\u001B[43mfind_item_steps\u001B[49m\u001B[43m(\u001B[49m\u001B[43mrow\u001B[49m\u001B[43m[\u001B[49m\u001B[38;5;124;43m'\u001B[39;49m\u001B[38;5;124;43mproduct_name\u001B[39;49m\u001B[38;5;124;43m'\u001B[39;49m\u001B[43m]\u001B[49m\u001B[43m)\u001B[49m\n\u001B[0;32m     42\u001B[0m     retrieval_steps\u001B[38;5;241m.\u001B[39mappend(steps)\n\u001B[0;32m     44\u001B[0m \u001B[38;5;66;03m# Calculate the mean number of steps required to find an item\u001B[39;00m\n",
      "Cell \u001B[1;32mIn[33], line 356\u001B[0m, in \u001B[0;36mLinearHashTable.find_item_steps\u001B[1;34m(self, key)\u001B[0m\n\u001B[0;32m    355\u001B[0m \u001B[38;5;28;01mdef\u001B[39;00m \u001B[38;5;21mfind_item_steps\u001B[39m(\u001B[38;5;28mself\u001B[39m, key: \u001B[38;5;28mstr\u001B[39m) \u001B[38;5;241m-\u001B[39m\u001B[38;5;241m>\u001B[39m \u001B[38;5;28mint\u001B[39m:\n\u001B[1;32m--> 356\u001B[0m     key_hash \u001B[38;5;241m=\u001B[39m \u001B[38;5;28;43mself\u001B[39;49m\u001B[38;5;241;43m.\u001B[39;49m\u001B[43mhasher\u001B[49m\u001B[38;5;241;43m.\u001B[39;49m\u001B[43mhash\u001B[49m(key)\n\u001B[0;32m    357\u001B[0m     slot_value \u001B[38;5;241m=\u001B[39m \u001B[38;5;28mself\u001B[39m\u001B[38;5;241m.\u001B[39mfixed_length_array[key_hash]\n\u001B[0;32m    359\u001B[0m     \u001B[38;5;28;01mif\u001B[39;00m slot_value \u001B[38;5;129;01mis\u001B[39;00m \u001B[38;5;28;01mNone\u001B[39;00m:\n",
      "\u001B[1;31mAttributeError\u001B[0m: 'AlphaHasher' object has no attribute 'hash'"
     ]
    }
   ]
  },
  {
   "cell_type": "code",
   "source": [
    "# @title Q2.2.2-public-tests\n",
    "q2_2_2_public_tests = {\n",
    "    # Test 1: mean_retrieval_steps_linear is defined\n",
    "    'mean_retrieval_steps_linear defined': '✅ Passed!' if 'mean_retrieval_steps_linear' in vars() else \"❌ No variable named 'mean_retrieval_steps_linear' exists in Python memory\",\n",
    "    # Test 2: mean_retrieval_steps_linear is computed, so that it does not have the default value -1\n",
    "    'mean_retrieval_steps_linear non-negative': '✅ Passed!' if mean_retrieval_steps_linear > -1 else \"❌ mean_retrieval_steps_linear should be non-negative\",\n",
    "}\n",
    "q2_2_2_public_tests"
   ],
   "metadata": {
    "id": "hNICv0eubApc",
    "ExecuteTime": {
     "end_time": "2024-02-23T13:43:15.160766700Z",
     "start_time": "2024-02-23T13:43:15.124842100Z"
    }
   },
   "execution_count": 39,
   "outputs": [
    {
     "ename": "NameError",
     "evalue": "name 'mean_retrieval_steps_linear' is not defined",
     "output_type": "error",
     "traceback": [
      "\u001B[1;31m---------------------------------------------------------------------------\u001B[0m",
      "\u001B[1;31mNameError\u001B[0m                                 Traceback (most recent call last)",
      "Cell \u001B[1;32mIn[39], line 6\u001B[0m\n\u001B[0;32m      1\u001B[0m \u001B[38;5;66;03m# @title Q2.2.2-public-tests\u001B[39;00m\n\u001B[0;32m      2\u001B[0m q2_2_2_public_tests \u001B[38;5;241m=\u001B[39m {\n\u001B[0;32m      3\u001B[0m     \u001B[38;5;66;03m# Test 1: mean_retrieval_steps_linear is defined\u001B[39;00m\n\u001B[0;32m      4\u001B[0m     \u001B[38;5;124m'\u001B[39m\u001B[38;5;124mmean_retrieval_steps_linear defined\u001B[39m\u001B[38;5;124m'\u001B[39m: \u001B[38;5;124m'\u001B[39m\u001B[38;5;124m✅ Passed!\u001B[39m\u001B[38;5;124m'\u001B[39m \u001B[38;5;28;01mif\u001B[39;00m \u001B[38;5;124m'\u001B[39m\u001B[38;5;124mmean_retrieval_steps_linear\u001B[39m\u001B[38;5;124m'\u001B[39m \u001B[38;5;129;01min\u001B[39;00m \u001B[38;5;28mvars\u001B[39m() \u001B[38;5;28;01melse\u001B[39;00m \u001B[38;5;124m\"\u001B[39m\u001B[38;5;124m❌ No variable named \u001B[39m\u001B[38;5;124m'\u001B[39m\u001B[38;5;124mmean_retrieval_steps_linear\u001B[39m\u001B[38;5;124m'\u001B[39m\u001B[38;5;124m exists in Python memory\u001B[39m\u001B[38;5;124m\"\u001B[39m,\n\u001B[0;32m      5\u001B[0m     \u001B[38;5;66;03m# Test 2: mean_retrieval_steps_linear is computed, so that it does not have the default value -1\u001B[39;00m\n\u001B[1;32m----> 6\u001B[0m     \u001B[38;5;124m'\u001B[39m\u001B[38;5;124mmean_retrieval_steps_linear non-negative\u001B[39m\u001B[38;5;124m'\u001B[39m: \u001B[38;5;124m'\u001B[39m\u001B[38;5;124m✅ Passed!\u001B[39m\u001B[38;5;124m'\u001B[39m \u001B[38;5;28;01mif\u001B[39;00m \u001B[43mmean_retrieval_steps_linear\u001B[49m \u001B[38;5;241m>\u001B[39m \u001B[38;5;241m-\u001B[39m\u001B[38;5;241m1\u001B[39m \u001B[38;5;28;01melse\u001B[39;00m \u001B[38;5;124m\"\u001B[39m\u001B[38;5;124m❌ mean_retrieval_steps_linear should be non-negative\u001B[39m\u001B[38;5;124m\"\u001B[39m,\n\u001B[0;32m      7\u001B[0m }\n\u001B[0;32m      8\u001B[0m q2_2_2_public_tests\n",
      "\u001B[1;31mNameError\u001B[0m: name 'mean_retrieval_steps_linear' is not defined"
     ]
    }
   ]
  },
  {
   "cell_type": "markdown",
   "source": [
    "## Part 3: Binary Search Trees\n",
    "\n",
    "Now that you have an actually-usable Linear Hash Table, it's time to put on your **algorithmic design patterns** hat!\n",
    "\n",
    "We saw in class how, while a **linear** approach to search requires $O(n)$ time, we can often set up our structure in such a way as to allow a **divide-and-conquer** approach to search achieving $O(n\\log_2(n))$ time. For this part, you will put this into practice by taking the `LinkedList` from HW1 and **transforming** it into a `BinarySearchTree`. Then, once you've implemented and tested this `BinarySearchTree` class, in the next part you'll use it to **improve the runtime** of your Hash Table from the previous part!\n",
    "\n",
    "However, as we talked about in class, when we move from `LinkedList` as our dynamically-sized data structure for handling collisions to `BinarySearchTree`, we'll need a way to ensure that the **keys** being added to our hash table have a defined **order** (so that we know whether to add an entry to the **left** or **right** subtrees of a given node!). So, to ensure that the items being added to our `BinarySearchTree` are **orderable**, run the following cell, which defines an `InventoryItem` class containing all of the ordering functions we discussed in class: `__eq__()`, `__neq__()`, `__lt__()`, `__le__()`, `__gt__()`, and `__ge__()`."
   ],
   "metadata": {
    "id": "myN7SkoiC4_D"
   }
  },
  {
   "cell_type": "code",
   "source": [
    "# @title define-inventory-item\n",
    "class InventoryItem:\n",
    "  def __init__(self, item_name_arg, price_arg):\n",
    "    self.item_name = item_name_arg\n",
    "    self.price = price_arg\n",
    "\n",
    "  def __lt__(self, other): # -> [NotImplemented | bool]:\n",
    "    if isinstance(other, InventoryItem):\n",
    "      return self.item_name < other.item_name\n",
    "    if isinstance(other, str):\n",
    "      return self.item_name < other\n",
    "    return NotImplemented\n",
    "\n",
    "  def __le__(self, other): # -> [NotImplemented | bool]\n",
    "    if isinstance(other, InventoryItem):\n",
    "      return self.item_name <= other.item_name\n",
    "    if isinstance(other, str):\n",
    "      return self.item_name <= other\n",
    "    return NotImplemented\n",
    "\n",
    "  def __gt__(self, other): # -> [NotImplemented | bool]\n",
    "    if isinstance(other, InventoryItem):\n",
    "      return self.item_name > other.item_name\n",
    "    if isinstance(other, str):\n",
    "      return self.item_name > other\n",
    "    return NotImplemented\n",
    "\n",
    "  def __ge__(self, other): # -> [NotImplemented | bool]\n",
    "    if isinstance(other, InventoryItem):\n",
    "      return self.item_name >= other.item_name\n",
    "    if isinstance(other, str):\n",
    "      return self.item_name >= other\n",
    "    return NotImplemented\n",
    "\n",
    "  def __eq__(self, other): # -> [NotImplemented | bool]\n",
    "    if isinstance(other, InventoryItem):\n",
    "      return self.item_name == other.item_name\n",
    "    if isinstance(other, str):\n",
    "      return self.item_name == other\n",
    "    return NotImplemented\n",
    "\n",
    "  def __ne__(self, other): # -> [NotImplemented | bool]\n",
    "    if isinstance(other, InventoryItem):\n",
    "      return self.item_name != other.item_name\n",
    "    if isinstance(other, str):\n",
    "      return self.item_name != other\n",
    "    return NotImplemented\n",
    "\n",
    "  def __repr__(self) -> str:\n",
    "    return self.__str__()\n",
    "\n",
    "  def __str__(self) -> str:\n",
    "    return f'InventoryItem[item_name={self.item_name},price={self.price}]'"
   ],
   "metadata": {
    "id": "hrkLf5nRBmSV",
    "ExecuteTime": {
     "end_time": "2024-02-23T13:43:19.887869400Z",
     "start_time": "2024-02-23T13:43:19.875730200Z"
    }
   },
   "execution_count": 40,
   "outputs": []
  },
  {
   "cell_type": "markdown",
   "source": [
    "### Part 3.1: Implementing `BinarySearchTree`\n",
    "\n",
    "In the following cell, fill in the remaining parts of the provided starter code, by implementing the following functions within the `BinarySearchTree` class:\n",
    "\n",
    "* `__init__(self)`:\n",
    "  * Since the `BinarySearchTree` class serves mainly as a **wrapper** around the `BSTNode` class, the only thing this constructor function needs to do is initialize an instance variable called `root` and assign it the value `None` (representing that, upon construction, the binary search tree is **empty**)\n",
    "* `add(self, item: InventoryItem) -> bool`\n",
    "  * This function should take in `item`, which (as indicated by the type hint) should be an object of type `InventoryItem`, so that we can be sure that the items added to our tree have a defined **ordering**. However, since Python does not enforce type hints, your code should **explicitly check** whether or not `item` is an instance of the `InventoryItem` type, and return the `bool` value `False` if it is not. Once you've ensured that `item` is indeed an object of type `InventoryItem`, this function should proceed by just setting the `root` instance variable to point to a new `BSTNode` object (this will involve calling the `BSTNode` constructor, described below) containing the passed-in `InventoryItem` object `item`.\n",
    "  * Also note that the function in `LinkedList` was called **`append()`**, while this function is instead called **`add()`**. This is because, we're no longer \"appending\" when we add items to a binary search tree, since there's no single \"end\" that we can add a new item \"after\".\n",
    "* `find_item_steps(self, item: InventoryItem)`\n",
    "  * This function should require significantly fewer lines of code than the `add()` function! As was the case with the `LinearHashTable` above, the job of this function is just to return the number of computational steps required to find the `InventoryItem` object `item` within the binary search tree.\n",
    "* `__repr__()` and `__str__()`: You need to define these functions, but as you've done thus far, they should just work as follows:\n",
    "  * `__str__()` should return the result of calling the provided `to_string()` function with the `recurse` argument set to be the `bool` value `True`, while\n",
    "  * `__repr__()` should return the result of calling the provided `to_string()` function with the `recurse` argument set to be the `bool` value `False`.\n",
    "\n",
    "Now, implement the following functions within the `BSTNode` class, which we've started for you in the following cell immediately after the definition of `BinarySearchTree`:\n",
    "\n",
    "* `__init__(self, item: InventoryItem)`: Note that, since Python does not **enforce** type hints, the `add()` function within the `BSTNode` class described below will manually check this value. Here, however (within the `BinarySearchTree` class), you don't need to perform this manual check of the type of `item`.\n",
    " Once you've ensured that `item` is indeed an object of type `InventoryItem`, this function should add `item` to the tree in the appropriate spot:\n",
    "  * If `item` comes **before**\n",
    "* `add(self, item: InventoryItem) -> bool`\n",
    "* `find_item_steps(self, item: InventoryItem) -> int`: This function has the same explanation as was given for the `find_item_steps()` function in `BinarySearchTree` class above, but in this case you'll need to actually check the **content** (the `self.content`) of the `BSTNode`, to see whether or not we've indeed **found** the item within this `BSTNode`. Otherwise, we'll need to return the sum of:\n",
    "  * `1`, representing the check we did of the `BSTNode`'s content, and then\n",
    "  * `0` if `item` **precedes** this `BSTNode`'s content but this `BSTNode` has no left child,\n",
    "  * The result of `left.find_item_steps()` if `item` **precedes** this `BSTNode`'s content and this `BSTNode` **does** have a left child,\n",
    "  * `0` if `item` **comes after** this `BSTNode`'s content but this `BSTNode` has no right child, or\n",
    "  * The result of `right.find_item_steps()` if `item` **comes after** this `BSTNode`'s content and this `BSTNode` **does** have a left child.\n",
    "* `__repr__(self) -> str` and `__str__(self) -> str`: You need to define these functions, but as you've done thus far, they should just work as follows:\n",
    "  * `__str__()` should return the result of calling the provided `to_string()` function with the `recurse` argument set to be the `bool` value `True`, while\n",
    "  * `__repr__()` should return the result of calling the provided `to_string()` function with the `recurse` argument set to be the `bool` value `False`.\n",
    "\n",
    "Keep in mind that we defined a **complete ordering** for objects of type `InventoryItem` above (in the definition of the `InventoryItem` class), so that for both `add()` and `find_item_steps()` you don't need to ever look \"inside\" the `InventoryItem` object! You can just use Python operators like `<`, `==`, and `>` to check whether you've found `item`, and if not, whether the search should continue within the **left** or **right subtrees** of the `BSTNode`."
   ],
   "metadata": {
    "id": "xWdMcivnBtWf"
   }
  },
  {
   "cell_type": "code",
   "execution_count": 41,
   "metadata": {
    "id": "shhxCawRCj-u",
    "ExecuteTime": {
     "end_time": "2024-02-23T13:43:21.341896800Z",
     "start_time": "2024-02-23T13:43:21.329184800Z"
    }
   },
   "outputs": [],
   "source": [
    "# @title Q3.1-response\n",
    "# class BinarySearchTree:\n",
    "#   def __init__(self):\n",
    "#     self.root = None\n",
    "\n",
    "#   def add(self, item: InventoryItem) -> bool:\n",
    "#     pass # Your code here\n",
    "\n",
    "#   def find_key_steps(self, key: str) -> int:\n",
    "#     pass # Your code here\n",
    "\n",
    "#   def to_string(self, recurse: bool) -> str:\n",
    "#     if self.root is None:\n",
    "#       return 'BinarySearchTree[]'\n",
    "#     return f'BinarySearchTree[{self.root.to_string(recurse)}]'\n",
    "\n",
    "#   def __repr__(self) -> str:\n",
    "#     pass # Your code here\n",
    "\n",
    "#   def __str__(self) -> str:\n",
    "#     pass # Your code here\n",
    "\n",
    "# class BSTNode:\n",
    "#   def __init__(self, item: InventoryItem):\n",
    "#     pass # Your code here\n",
    "\n",
    "#   def add(self, new_item: InventoryItem) -> bool:\n",
    "#     pass # Your code here\n",
    "\n",
    "#   def find_item_steps(self, item) -> int:\n",
    "#     pass # Your code here\n",
    "\n",
    "#   def has_left_child(self) -> bool:\n",
    "#     return self.left is not None\n",
    "\n",
    "#   def get_left_child(self): # -> BSTNode\n",
    "#     return self.left\n",
    "\n",
    "#   def has_right_child(self) -> bool:\n",
    "#     return self.right is not None\n",
    "\n",
    "#   def get_right_child(self): # -> BSTNode\n",
    "#     return self.right\n",
    "\n",
    "#   def to_string(self, recurse: bool) -> str:\n",
    "#     if recurse:\n",
    "#       left_str = \"\" if self.left is None else self.left.__repr__() + \",\"\n",
    "#       right_str = \"\" if self.right is None else \",\" + self.right.__repr__()\n",
    "#       return f'{left_str}{str(self.content)}{right_str}'\n",
    "#     else:\n",
    "#       return str(self.content)\n",
    "\n",
    "#   def __repr__(self) -> str:\n",
    "#     pass # Your code here\n",
    "\n",
    "#   def __str__(self) -> str:\n",
    "#     pass # Your code here\n",
    "\n",
    "class InventoryItem:\n",
    "    def __init__(self, key, value):\n",
    "        self.key = key\n",
    "        self.value = value\n",
    "\n",
    "    def __lt__(self, other):\n",
    "        return self.key < other.key\n",
    "\n",
    "    def __eq__(self, other):\n",
    "        return self.key == other.key\n",
    "\n",
    "    def __str__(self):\n",
    "        return f\"{self.key}: {self.value}\"\n",
    "    \n",
    "class BinarySearchTree:\n",
    "    def __init__(self):\n",
    "        self.root = None\n",
    "\n",
    "    def add(self, item: InventoryItem) -> bool:\n",
    "        if self.root is None:\n",
    "            self.root = BSTNode(item)\n",
    "            return True\n",
    "        else:\n",
    "            return self.root.add(item)\n",
    "\n",
    "    def find_key_steps(self, key: str) -> int:\n",
    "        if self.root is None:\n",
    "            return 0\n",
    "        else:\n",
    "            return self.root.find_item_steps(key, 1)\n",
    "\n",
    "    def to_string(self, recurse: bool) -> str:\n",
    "        if self.root is None:\n",
    "            return 'BinarySearchTree[]'\n",
    "        return f'BinarySearchTree[{self.root.to_string(recurse)}]'\n",
    "\n",
    "    def __repr__(self):\n",
    "        return self.to_string(False)\n",
    "\n",
    "    def __str__(self):\n",
    "        return self.to_string(True)\n",
    "\n",
    "class BSTNode:\n",
    "    def __init__(self, item: InventoryItem):\n",
    "        self.item = item\n",
    "        self.left = None\n",
    "        self.right = None\n",
    "\n",
    "    def add(self, new_item: InventoryItem) -> bool:\n",
    "        if new_item < self.item:\n",
    "            if self.left is None:\n",
    "                self.left = BSTNode(new_item)\n",
    "                return True\n",
    "            else:\n",
    "                return self.left.add(new_item)\n",
    "        elif new_item > self.item:\n",
    "            if self.right is None:\n",
    "                self.right = BSTNode(new_item)\n",
    "                return True\n",
    "            else:\n",
    "                return self.right.add(new_item)\n",
    "        return False  # Assuming duplicates are not allowed\n",
    "\n",
    "    def find_item_steps(self, key, steps) -> int:\n",
    "        if key == self.item.key:\n",
    "            return steps\n",
    "        elif key < self.item.key and self.left is not None:\n",
    "            return self.left.find_item_steps(key, steps + 1)\n",
    "        elif key > self.item.key and self.right is not None:\n",
    "            return self.right.find_item_steps(key, steps + 1)\n",
    "        return 0  # Key not found\n",
    "\n",
    "    def to_string(self, recurse: bool) -> str:\n",
    "        if recurse:\n",
    "            left_str = \"\" if self.left is None else self.left.__repr__() + \",\"\n",
    "            right_str = \"\" if self.right is None else \",\" + self.right.__repr__()\n",
    "            return f'{left_str}{str(self.item)}{right_str}'\n",
    "        else:\n",
    "            return str(self.item)\n",
    "\n",
    "    def __repr__(self):\n",
    "        return self.to_string(False)\n",
    "\n",
    "    def __str__(self):\n",
    "        return self.to_string(True)"
   ]
  },
  {
   "cell_type": "code",
   "source": [
    "# @title Q3.1-public-tests\n",
    "q3_1_public_tests = {\n",
    "    # Test 1: Check if BinarySearchTree class defined\n",
    "    'BinarySearchTree defined': '✅ Passed!' if 'BinarySearchTree' in vars() else \"❌ BinarySearchTree not defined in Python memory\",\n",
    "}\n",
    "q3_1_public_tests"
   ],
   "metadata": {
    "id": "QTEVr8d5SRv2",
    "colab": {
     "base_uri": "https://localhost:8080/"
    },
    "outputId": "0ff6c237-16b5-4929-9995-fc5063e4cac2",
    "ExecuteTime": {
     "end_time": "2024-02-23T13:43:22.035468700Z",
     "start_time": "2024-02-23T13:43:22.016898100Z"
    }
   },
   "execution_count": 42,
   "outputs": [
    {
     "data": {
      "text/plain": "{'BinarySearchTree defined': '✅ Passed!'}"
     },
     "execution_count": 42,
     "metadata": {},
     "output_type": "execute_result"
    }
   ]
  },
  {
   "cell_type": "markdown",
   "source": [
    "## Part 3.2: Iterating over BSTs\n",
    "\n",
    "You may be eager to check out the contents of your BST from Part 3 right away! But, it also may suddenly dawn on you: when we were working with LinkedLists, we could print all the contents by just \"looping through\" the list, from one element to the next, printing as we go along. But... for a BinarySearchTree, since our structure can now **branch** as we traverse it... How do we \"loop through\" a BST?\n",
    "\n",
    "The answer is not entirely straightforward, but it boils down to the following: there are **two different ways** to loop over our BST, and since they are \"opposites\" of each other (in an intuitive but also a formal-mathematical sense!), your job as a data scientist is to **think carefully** about which one is **more efficient** for a given goal! The two methods are:\n",
    "\n",
    "1. **Depth-First Search (DFS)**: With this approach, we iterate through the BST by **always taking the left child as the \"next\" child** until we hit a **leaf node** (which means, we cannot follow this left-child pointer any longer, since a leaf node does not have a left child or a right child!), and only at that point do we **back up** and take the **right children** we skipped.\n",
    "2. **Breadth-First Search (BFS)**: This is the **\"opposite\"** of DFS in the sense that we traverse the tree level-by-level, **never moving to the next level of the tree** until we're **sure that we have visited every node on the current level**.\n",
    "\n",
    "Those are just rough descriptions of the process to start building your intution, however. Since both concepts invoke the notion of **\"moving\"** through a tree, **animations** can illustrate the two far better than any static, textual description can, in my view. So, take a look at the following animations and try to match what's happening in each of them with the two textual descriptions above, before moving on:\n",
    "\n",
    "**Depth-First Search** (from <a href='https://jjacobs.me/dsan5500/w05/slides.html#/two-ways-to-traverse-animated-version' target='_blank'>Week 5 slides</a>)\n",
    "\n",
    "![](https://jjacobs.me/dsan5500/w05/images/Depth-First-Search.gif)\n",
    "\n",
    "**Breadth-First Search** (from <a href='https://jjacobs.me/dsan5500/w05/slides.html#/two-ways-to-traverse-animated-version' target='_blank'>Week 5 slides</a>)\n",
    "\n",
    "![](https://jjacobs.me/dsan5500/w05/images/Breadth-First-Search.gif)\n",
    "\n",
    "Now that you have an intuition for the difference between DFS and BFS, you may be thinking that they might require very different code to implement---but this is where the **mathematical-formal linkage** between the two (mentioned above, parenthetically) become ultra helpful! It turns out---and if you take a full-on algorithmic theory course you learn how to formally prove---that\n",
    "\n",
    "1. **Depth-First Search** can be accomplished by **processing nodes in an order determined by adding each to a *stack***, while\n",
    "2. **Breadth-First Search** can be accomplished by **processing nodes in an order determined by adding each to a *queue***!\n",
    "\n",
    "This means, quite literally, that the difference between performing DFS and BFS solely boils down to taking identical code but \"pulling out\" the word **stack** and replacing it with the word **queue** within your code (or vice-versa to switch back).\n",
    "\n",
    "So, if you have your Software Engineer Hats on, you'll recognize that this is the perfect case for implementing an **abstraction layer!**\n",
    "\n",
    "Specifically, we will make a class called `NodeProcessor`, which simply allows nodes to be \"put into\" it and \"taken out of\" it, but which can **switch** between a **stack** and a **queue** as its underlying data structure, based on whether the user wants to perform a DFS or BFS on their tree."
   ],
   "metadata": {
    "id": "-Ykq4kHaQ5YL"
   }
  },
  {
   "cell_type": "markdown",
   "source": [
    "First, run the following cell, which defines a `visualize_bst()` function you can use for exploration or for debugging, which takes in a `BinarySearchTree` object and produces a visualization of the tree in the same format I've been using to draw binary search trees on the board in class:"
   ],
   "metadata": {
    "id": "GfbN5ZFAFf2c"
   }
  },
  {
   "cell_type": "code",
   "source": [
    "# @title define-bst-visualizer\n",
    "def visualize_bst(tree):\n",
    "    dot = Digraph(\n",
    "        node_attr={'shape': 'record', 'height': '.1'}\n",
    "    )\n",
    "    node_info_list = []\n",
    "    if tree.root is not None:\n",
    "      node_info_list.append({'node':tree.root, 'parent_name': None, 'dir': None})\n",
    "    while len(node_info_list) > 0:\n",
    "      cur_node_info = node_info_list.pop()\n",
    "      cur_node = cur_node_info['node']\n",
    "      # cur_name = cur_node.content.item_name\n",
    "      cur_name = cur_node.item.key\n",
    "      cur_parent_name = cur_node_info['parent_name']\n",
    "      cur_dir = cur_node_info['dir']\n",
    "      dot.node(name=cur_name, label=nohtml(f'<f0>|<f1> {cur_name}|<f2>'))\n",
    "      if cur_parent_name is not None:\n",
    "        # Nudge x coord based on parent\n",
    "        which_port = 'f0'\n",
    "        if cur_dir == 'R':\n",
    "          which_port = 'f2'\n",
    "        edge_from = f'{cur_parent_name}:{which_port}'\n",
    "        edge_to = f'{cur_name}:f1'\n",
    "        dot.edge(edge_from, edge_to, label=cur_dir)\n",
    "      if cur_node.right is not None:\n",
    "        node_info_list.append({'node': cur_node.right, 'parent_name': cur_name, 'dir': 'R'})\n",
    "      if cur_node.left is not None:\n",
    "        node_info_list.append({'node': cur_node.left, 'parent_name': cur_name, 'dir': 'L'})\n",
    "    display(dot)"
   ],
   "metadata": {
    "id": "ImAVp_y6Fz2G",
    "ExecuteTime": {
     "end_time": "2024-02-23T13:43:24.271137400Z",
     "start_time": "2024-02-23T13:43:24.260198600Z"
    }
   },
   "execution_count": 43,
   "outputs": []
  },
  {
   "cell_type": "code",
   "source": [
    "# @title define-thing-container\n",
    "from abc import ABC, abstractmethod\n",
    "\n",
    "class ThingContainer(ABC):\n",
    "  def __init__(self):\n",
    "    self.internal_list = []\n",
    "\n",
    "  @abstractmethod\n",
    "  def put_new_thing_in(self, item):\n",
    "    pass\n",
    "\n",
    "  def is_empty(self) -> bool:\n",
    "    return self.__len__() == 0\n",
    "\n",
    "  def __len__(self):\n",
    "    return len(self.internal_list)\n",
    "\n",
    "  @abstractmethod\n",
    "  def take_existing_thing_out(self):\n",
    "    pass\n",
    "\n",
    "class Stack(ThingContainer):\n",
    "  def __init__(self):\n",
    "    super().__init__()\n",
    "\n",
    "  def __push(self, item):\n",
    "    self.internal_list.append(item)\n",
    "\n",
    "  def __pop(self):\n",
    "    return self.internal_list.pop()\n",
    "\n",
    "  def put_new_thing_in(self, item):\n",
    "    return self.__push(item)\n",
    "\n",
    "  def take_existing_thing_out(self):\n",
    "    return self.__pop()\n",
    "\n",
    "class Queue(ThingContainer):\n",
    "  def __init__(self):\n",
    "    super().__init__()\n",
    "\n",
    "  def put_new_thing_in(self, item):\n",
    "    return self.__enqueue(item)\n",
    "\n",
    "  def __enqueue(self, item):\n",
    "    self.internal_list.insert(0, item)\n",
    "\n",
    "  def __dequeue(self):\n",
    "    return self.internal_list.pop()\n",
    "\n",
    "  def take_existing_thing_out(self):\n",
    "    return self.__dequeue()"
   ],
   "metadata": {
    "id": "SrJHRZc0DEC6",
    "ExecuteTime": {
     "end_time": "2024-02-23T13:43:24.926284600Z",
     "start_time": "2024-02-23T13:43:24.916677400Z"
    }
   },
   "execution_count": 44,
   "outputs": []
  },
  {
   "cell_type": "code",
   "source": [
    "# @title Q3.2.1-response\n",
    "from abc import ABC\n",
    "from enum import Enum\n",
    "\n",
    "class IterAlgorithm(Enum):\n",
    "  DEPTH_FIRST = 1\n",
    "  BREADTH_FIRST = 2\n",
    "\n",
    "class NodeProcessor():\n",
    "  def __init__(self, iter_method_arg: IterAlgorithm):\n",
    "    self.iter_method = iter_method_arg\n",
    "    self.initialize_empty_node_container()\n",
    "\n",
    "  def initialize_empty_node_container(self):\n",
    "    if self.iter_method == IterAlgorithm.DEPTH_FIRST:\n",
    "      self.node_container = Stack()\n",
    "    else:\n",
    "      self.node_container = Queue()\n",
    "\n",
    "  # def iterate_over(self, tree):\n",
    "  #   pass # Your code here\n",
    "  def iterate_over(self, tree):\n",
    "    if tree.root is None:\n",
    "        return  # If the tree is empty, exit the method.\n",
    "\n",
    "    # Initialize the traversal by adding the root node to the node container.\n",
    "    self.node_container.put_new_thing_in(tree.root)\n",
    "\n",
    "    while not self.node_container.is_empty():\n",
    "        # Depending on the traversal strategy, remove the next node from the container.\n",
    "        current_node = self.node_container.take_existing_thing_out()\n",
    "\n",
    "        # Process the current node (e.g., print its value).\n",
    "        print(current_node.item)  # Assuming the node has an attribute 'item'.\n",
    "\n",
    "        # For DFS, add the right child first so the left child is processed first.\n",
    "        # This is done because a stack's LIFO behavior will ensure the left child is processed before the right child.\n",
    "        if self.iter_method == IterAlgorithm.DEPTH_FIRST:\n",
    "            if current_node.right is not None:\n",
    "                self.node_container.put_new_thing_in(current_node.right)\n",
    "            if current_node.left is not None:\n",
    "                self.node_container.put_new_thing_in(current_node.left)\n",
    "        # For BFS, add children in their natural order (left first, then right)\n",
    "        # This ensures level-order traversal due to a queue's FIFO behavior.\n",
    "        else:\n",
    "            if current_node.left is not None:\n",
    "                self.node_container.put_new_thing_in(current_node.left)\n",
    "            if current_node.right is not None:\n",
    "                self.node_container.put_new_thing_in(current_node.right)"
   ],
   "metadata": {
    "id": "8tygaDB7Q5CC",
    "ExecuteTime": {
     "end_time": "2024-02-23T13:43:25.488561700Z",
     "start_time": "2024-02-23T13:43:25.468999300Z"
    }
   },
   "execution_count": 45,
   "outputs": []
  },
  {
   "cell_type": "code",
   "source": [
    "# @title Q3.2.1-public-tests\n",
    "q3_2_1_public_tests = {\n",
    "    # Test 1: Check if NodeProcessor class defined\n",
    "    'NodeProcessor defined': '✅ Passed!' if 'NodeProcessor' in vars() else \"❌ NodeProcessor not defined in Python memory\",\n",
    "}\n",
    "q3_2_1_public_tests"
   ],
   "metadata": {
    "id": "uhXAD0zcSMsf",
    "colab": {
     "base_uri": "https://localhost:8080/"
    },
    "outputId": "d422518a-f1b9-423f-b76d-e10f7869e78f",
    "ExecuteTime": {
     "end_time": "2024-02-23T13:43:26.068047200Z",
     "start_time": "2024-02-23T13:43:26.055700500Z"
    }
   },
   "execution_count": 46,
   "outputs": [
    {
     "data": {
      "text/plain": "{'NodeProcessor defined': '✅ Passed!'}"
     },
     "execution_count": 46,
     "metadata": {},
     "output_type": "execute_result"
    }
   ]
  },
  {
   "cell_type": "markdown",
   "source": [
    "### Question 3.2.2\n",
    "\n",
    "If your implementation of `iterate_over(tree)` is correct, you should now be able to run the following cell to see how your implementation can produce **both** a breadth-first and depth-first iteration over the tree you constructed in the previous part, with the same code!"
   ],
   "metadata": {
    "id": "w9BL9PUKDVHD"
   }
  },
  {
   "cell_type": "code",
   "source": [
    "# Q3.2.2-response\n",
    "bst = BinarySearchTree()\n",
    "item1 = InventoryItem('Mango', 50)\n",
    "bst.add(item1)\n",
    "item2 = InventoryItem('Pickle', 60)\n",
    "bst.add(item2)\n",
    "item3 = InventoryItem('Artichoke', 55)\n",
    "bst.add(item3)\n",
    "item4 = InventoryItem('Zebra', 3)\n",
    "bst.add(item4)\n",
    "item5 = InventoryItem('Banana', 123)\n",
    "bst.add(item5)\n",
    "item6 = InventoryItem('Aardvark', 11)\n",
    "bst.add(item6)\n",
    "visualize_bst(bst)\n",
    "print(\"\\n---\\n\")\n",
    "\n",
    "# Do not modify or add code below the following lines, please!\n",
    "import io\n",
    "from contextlib import redirect_stdout\n",
    "with redirect_stdout(io.StringIO()) as q3_2_2_response:\n",
    "  print(\"DFS:\")\n",
    "  dfs_processor = NodeProcessor(IterAlgorithm.DEPTH_FIRST)\n",
    "  print(type(dfs_processor.node_container))\n",
    "  dfs_processor.iterate_over(bst)\n",
    "\n",
    "  print(\"\\nBFS:\")\n",
    "  bfs_processor = NodeProcessor(IterAlgorithm.BREADTH_FIRST)\n",
    "  print(type(bfs_processor.node_container))\n",
    "  bfs_processor.iterate_over(bst)\n",
    "print(q3_2_2_response.getvalue())"
   ],
   "metadata": {
    "id": "fjj6WwLODTa5",
    "colab": {
     "base_uri": "https://localhost:8080/",
     "height": 211
    },
    "outputId": "917fd4cb-c46e-4424-f083-375ca4c81c30",
    "ExecuteTime": {
     "end_time": "2024-02-23T13:43:27.508598300Z",
     "start_time": "2024-02-23T13:43:27.449768200Z"
    }
   },
   "execution_count": 47,
   "outputs": [
    {
     "data": {
      "image/svg+xml": "<?xml version=\"1.0\" encoding=\"UTF-8\" standalone=\"no\"?>\n<!DOCTYPE svg PUBLIC \"-//W3C//DTD SVG 1.1//EN\"\n \"http://www.w3.org/Graphics/SVG/1.1/DTD/svg11.dtd\">\n<!-- Generated by graphviz version 10.0.1 (20240210.2158)\n -->\n<!-- Pages: 1 -->\n<svg width=\"336pt\" height=\"186pt\"\n viewBox=\"0.00 0.00 335.50 185.75\" xmlns=\"http://www.w3.org/2000/svg\" xmlns:xlink=\"http://www.w3.org/1999/xlink\">\n<g id=\"graph0\" class=\"graph\" transform=\"scale(1 1) rotate(0) translate(4 181.75)\">\n<polygon fill=\"white\" stroke=\"none\" points=\"-4,4 -4,-181.75 331.5,-181.75 331.5,4 -4,4\"/>\n<!-- Mango -->\n<g id=\"node1\" class=\"node\">\n<title>Mango</title>\n<polygon fill=\"none\" stroke=\"black\" points=\"152.38,-153.5 152.38,-177.25 246.88,-177.25 246.88,-153.5 152.38,-153.5\"/>\n<text text-anchor=\"middle\" x=\"162.25\" y=\"-159.95\" font-family=\"Times New Roman,serif\" font-size=\"14.00\"> </text>\n<polyline fill=\"none\" stroke=\"black\" points=\"172.12,-153.5 172.12,-177.25\"/>\n<text text-anchor=\"middle\" x=\"199.62\" y=\"-159.95\" font-family=\"Times New Roman,serif\" font-size=\"14.00\">Mango</text>\n<polyline fill=\"none\" stroke=\"black\" points=\"227.12,-153.5 227.12,-177.25\"/>\n<text text-anchor=\"middle\" x=\"237\" y=\"-159.95\" font-family=\"Times New Roman,serif\" font-size=\"14.00\"> </text>\n</g>\n<!-- Artichoke -->\n<g id=\"node2\" class=\"node\">\n<title>Artichoke</title>\n<polygon fill=\"none\" stroke=\"black\" points=\"73.5,-77 73.5,-100.75 183.75,-100.75 183.75,-77 73.5,-77\"/>\n<text text-anchor=\"middle\" x=\"83.38\" y=\"-83.45\" font-family=\"Times New Roman,serif\" font-size=\"14.00\"> </text>\n<polyline fill=\"none\" stroke=\"black\" points=\"93.25,-77 93.25,-100.75\"/>\n<text text-anchor=\"middle\" x=\"128.62\" y=\"-83.45\" font-family=\"Times New Roman,serif\" font-size=\"14.00\">Artichoke</text>\n<polyline fill=\"none\" stroke=\"black\" points=\"164,-77 164,-100.75\"/>\n<text text-anchor=\"middle\" x=\"173.88\" y=\"-83.45\" font-family=\"Times New Roman,serif\" font-size=\"14.00\"> </text>\n</g>\n<!-- Mango&#45;&gt;Artichoke -->\n<g id=\"edge1\" class=\"edge\">\n<title>Mango:f0&#45;&gt;Artichoke:f1</title>\n<path fill=\"none\" stroke=\"black\" d=\"M162.62,-153C162.62,-129.78 138.42,-128.49 130.86,-112.13\"/>\n<polygon fill=\"black\" stroke=\"black\" points=\"134.37,-111.83 128.93,-102.73 127.51,-113.23 134.37,-111.83\"/>\n<text text-anchor=\"middle\" x=\"159.75\" y=\"-121.7\" font-family=\"Times New Roman,serif\" font-size=\"14.00\">L</text>\n</g>\n<!-- Pickle -->\n<g id=\"node5\" class=\"node\">\n<title>Pickle</title>\n<polygon fill=\"none\" stroke=\"black\" points=\"203,-77 203,-100.75 292.25,-100.75 292.25,-77 203,-77\"/>\n<text text-anchor=\"middle\" x=\"212.88\" y=\"-83.45\" font-family=\"Times New Roman,serif\" font-size=\"14.00\"> </text>\n<polyline fill=\"none\" stroke=\"black\" points=\"222.75,-77 222.75,-100.75\"/>\n<text text-anchor=\"middle\" x=\"247.62\" y=\"-83.45\" font-family=\"Times New Roman,serif\" font-size=\"14.00\">Pickle</text>\n<polyline fill=\"none\" stroke=\"black\" points=\"272.5,-77 272.5,-100.75\"/>\n<text text-anchor=\"middle\" x=\"282.38\" y=\"-83.45\" font-family=\"Times New Roman,serif\" font-size=\"14.00\"> </text>\n</g>\n<!-- Mango&#45;&gt;Pickle -->\n<g id=\"edge4\" class=\"edge\">\n<title>Mango:f2&#45;&gt;Pickle:f1</title>\n<path fill=\"none\" stroke=\"black\" d=\"M236.62,-153C236.62,-133.71 244.03,-127.07 246.69,-112.32\"/>\n<polygon fill=\"black\" stroke=\"black\" points=\"250.14,-113.02 247.5,-102.76 243.17,-112.43 250.14,-113.02\"/>\n<text text-anchor=\"middle\" x=\"250.5\" y=\"-121.7\" font-family=\"Times New Roman,serif\" font-size=\"14.00\">R</text>\n</g>\n<!-- Aardvark -->\n<g id=\"node3\" class=\"node\">\n<title>Aardvark</title>\n<polygon fill=\"none\" stroke=\"black\" points=\"0,-0.5 0,-24.25 107.25,-24.25 107.25,-0.5 0,-0.5\"/>\n<text text-anchor=\"middle\" x=\"9.88\" y=\"-6.95\" font-family=\"Times New Roman,serif\" font-size=\"14.00\"> </text>\n<polyline fill=\"none\" stroke=\"black\" points=\"19.75,-0.5 19.75,-24.25\"/>\n<text text-anchor=\"middle\" x=\"53.62\" y=\"-6.95\" font-family=\"Times New Roman,serif\" font-size=\"14.00\">Aardvark</text>\n<polyline fill=\"none\" stroke=\"black\" points=\"87.5,-0.5 87.5,-24.25\"/>\n<text text-anchor=\"middle\" x=\"97.38\" y=\"-6.95\" font-family=\"Times New Roman,serif\" font-size=\"14.00\"> </text>\n</g>\n<!-- Artichoke&#45;&gt;Aardvark -->\n<g id=\"edge2\" class=\"edge\">\n<title>Artichoke:f0&#45;&gt;Aardvark:f1</title>\n<path fill=\"none\" stroke=\"black\" d=\"M83.62,-76.5C83.62,-54.28 62.66,-51.62 55.78,-35.82\"/>\n<polygon fill=\"black\" stroke=\"black\" points=\"59.26,-35.38 53.91,-26.24 52.39,-36.72 59.26,-35.38\"/>\n<text text-anchor=\"middle\" x=\"80.75\" y=\"-45.2\" font-family=\"Times New Roman,serif\" font-size=\"14.00\">L</text>\n</g>\n<!-- Banana -->\n<g id=\"node4\" class=\"node\">\n<title>Banana</title>\n<polygon fill=\"none\" stroke=\"black\" points=\"125.62,-0.5 125.62,-24.25 221.62,-24.25 221.62,-0.5 125.62,-0.5\"/>\n<text text-anchor=\"middle\" x=\"135.5\" y=\"-6.95\" font-family=\"Times New Roman,serif\" font-size=\"14.00\"> </text>\n<polyline fill=\"none\" stroke=\"black\" points=\"145.38,-0.5 145.38,-24.25\"/>\n<text text-anchor=\"middle\" x=\"173.62\" y=\"-6.95\" font-family=\"Times New Roman,serif\" font-size=\"14.00\">Banana</text>\n<polyline fill=\"none\" stroke=\"black\" points=\"201.88,-0.5 201.88,-24.25\"/>\n<text text-anchor=\"middle\" x=\"211.75\" y=\"-6.95\" font-family=\"Times New Roman,serif\" font-size=\"14.00\"> </text>\n</g>\n<!-- Artichoke&#45;&gt;Banana -->\n<g id=\"edge3\" class=\"edge\">\n<title>Artichoke:f2&#45;&gt;Banana:f1</title>\n<path fill=\"none\" stroke=\"black\" d=\"M173.62,-76.5C173.62,-57.81 173.62,-50.51 173.62,-36.1\"/>\n<polygon fill=\"black\" stroke=\"black\" points=\"177.13,-36.26 173.63,-26.26 170.13,-36.26 177.13,-36.26\"/>\n<text text-anchor=\"middle\" x=\"178.5\" y=\"-45.2\" font-family=\"Times New Roman,serif\" font-size=\"14.00\">R</text>\n</g>\n<!-- Zebra -->\n<g id=\"node6\" class=\"node\">\n<title>Zebra</title>\n<polygon fill=\"none\" stroke=\"black\" points=\"239.75,-0.5 239.75,-24.25 327.5,-24.25 327.5,-0.5 239.75,-0.5\"/>\n<text text-anchor=\"middle\" x=\"249.62\" y=\"-6.95\" font-family=\"Times New Roman,serif\" font-size=\"14.00\"> </text>\n<polyline fill=\"none\" stroke=\"black\" points=\"259.5,-0.5 259.5,-24.25\"/>\n<text text-anchor=\"middle\" x=\"283.62\" y=\"-6.95\" font-family=\"Times New Roman,serif\" font-size=\"14.00\">Zebra</text>\n<polyline fill=\"none\" stroke=\"black\" points=\"307.75,-0.5 307.75,-24.25\"/>\n<text text-anchor=\"middle\" x=\"317.62\" y=\"-6.95\" font-family=\"Times New Roman,serif\" font-size=\"14.00\"> </text>\n</g>\n<!-- Pickle&#45;&gt;Zebra -->\n<g id=\"edge5\" class=\"edge\">\n<title>Pickle:f2&#45;&gt;Zebra:f1</title>\n<path fill=\"none\" stroke=\"black\" d=\"M282.62,-76.5C282.62,-57.81 283.29,-50.51 283.53,-36.1\"/>\n<polygon fill=\"black\" stroke=\"black\" points=\"287.03,-36.29 283.61,-26.26 280.03,-36.23 287.03,-36.29\"/>\n<text text-anchor=\"middle\" x=\"287.5\" y=\"-45.2\" font-family=\"Times New Roman,serif\" font-size=\"14.00\">R</text>\n</g>\n</g>\n</svg>\n",
      "text/plain": "<graphviz.graphs.Digraph at 0x22efffb2450>"
     },
     "metadata": {},
     "output_type": "display_data"
    },
    {
     "name": "stdout",
     "output_type": "stream",
     "text": [
      "\n",
      "---\n",
      "\n",
      "DFS:\n",
      "<class '__main__.Stack'>\n",
      "Mango: 50\n",
      "Artichoke: 55\n",
      "Aardvark: 11\n",
      "Banana: 123\n",
      "Pickle: 60\n",
      "Zebra: 3\n",
      "\n",
      "BFS:\n",
      "<class '__main__.Queue'>\n",
      "Mango: 50\n",
      "Artichoke: 55\n",
      "Pickle: 60\n",
      "Aardvark: 11\n",
      "Banana: 123\n",
      "Zebra: 3\n"
     ]
    }
   ]
  },
  {
   "cell_type": "code",
   "source": [
    "# @title Q3.2.2-public-tests\n",
    "q3_2_2_public_tests = {\n",
    "    # Test 1: Make sure response output was captured in variable called q3_2_2_response\n",
    "    'Output captured': '✅ Passed!' if 'q3_2_2_response' in vars() else \"❌ No variable named 'q3_2_2_response' exists in Python memory\"\n",
    "}\n",
    "q3_2_2_public_tests"
   ],
   "metadata": {
    "id": "HIsAociP-Tgl",
    "ExecuteTime": {
     "end_time": "2024-02-23T13:43:31.401348100Z",
     "start_time": "2024-02-23T13:43:31.382987800Z"
    }
   },
   "execution_count": 48,
   "outputs": [
    {
     "data": {
      "text/plain": "{'Output captured': '✅ Passed!'}"
     },
     "execution_count": 48,
     "metadata": {},
     "output_type": "execute_result"
    }
   ]
  },
  {
   "cell_type": "markdown",
   "source": [
    "## Part 4: Hash Tables with Logarithmic Collision Handling\n",
    "\n",
    "Now that you have a `BinarySearchTree` within which elements can be found in $O(\\log_2(n))$ time rather than the $O(n)$ time that was possible with `LinkedList`, in this part you will **use** this `BinarySearchTree` class as the structure that your **Hash Table** will construct whenever a collision occurs. In this way, then, by **leveraging** the improvements of the `BinarySearchTree` over the `LinkedList`, you will also \"automatically\" achieve an improvement in the runtime (for search) of `LogarithmicHashTable` over `LinearHashTable`!"
   ],
   "metadata": {
    "id": "6jfoiSCPDffb"
   }
  },
  {
   "cell_type": "code",
   "source": [
    "# @title Q4.1-response\n",
    "# class LogarithmicHashTable:\n",
    "#   def __init__(self):\n",
    "#     self.hasher = AlphaHasher()\n",
    "#     self.fixed_array_size = self.hasher.get_alphabet_size()\n",
    "#     self.fixed_length_array = np.empty(self.fixed_array_size, dtype=object)\n",
    "#     self.num_added = 0\n",
    "#     self.num_collisions = 0\n",
    "\n",
    "#   def add(self, key: str, value: object) -> bool:\n",
    "#     pass # Your code here\n",
    "\n",
    "#   def find_item_steps(self, key) -> int:\n",
    "#     pass # Your code here\n",
    "\n",
    "#   def entry_to_string(self, index: int, recurse: bool) -> object:\n",
    "#     pass # Your code here\n",
    "\n",
    "#   def get_num_added(self):\n",
    "#     return self.num_added\n",
    "\n",
    "#   def increment_num_added(self):\n",
    "#     self.num_added = self.num_added + 1\n",
    "\n",
    "#   def get_num_collisions(self):\n",
    "#     return self.num_collisions\n",
    "\n",
    "#   def increment_num_collisions(self):\n",
    "#     self.num_collisions = self.num_collisions + 1\n",
    "\n",
    "#   def __len__(self):\n",
    "#     pass # Your code here\n",
    "\n",
    "#   def to_string(self, recurse):\n",
    "#     entry_list = [f'{AlphaHasher.compute_letter_for_index(i)}: {self.entry_to_string(i, recurse)}' for i in range(len(self.fixed_length_array))]\n",
    "#     return \"\\n\".join(entry_list)\n",
    "\n",
    "#   def __str__(self):\n",
    "#     return \"__str__() not implemented\" # Your code here\n",
    "\n",
    "#   def __repr__(self):\n",
    "#     return \"__repr__() not implemented\" # Your code here\n",
    "\n",
    "\n",
    "import numpy as np\n",
    "\n",
    "class LogarithmicHashTable:\n",
    "    def __init__(self):\n",
    "        self.hasher = AlphaHasher()  # Assumes AlphaHasher is defined elsewhere\n",
    "        self.fixed_array_size = self.hasher.get_alphabet_size()  # Assuming this method returns the size of the alphabet\n",
    "        self.fixed_length_array = np.empty(self.fixed_array_size, dtype=object)\n",
    "        self.num_added = 0\n",
    "        self.num_collisions = 0\n",
    "\n",
    "    def add(self, key: str, value: object) -> bool:\n",
    "        index = self.hasher.hash(key) % self.fixed_array_size\n",
    "        if self.fixed_length_array[index] is None:\n",
    "            self.fixed_length_array[index] = BinarySearchTree()  # Assumes BinarySearchTree is defined elsewhere\n",
    "        else:\n",
    "            self.increment_num_collisions()\n",
    "        # self.fixed_length_array[index].add(key, value)\n",
    "        self.fixed_length_array[index].add(InventoryItem(key=key, value=value))\n",
    "        self.increment_num_added()\n",
    "        return True\n",
    "\n",
    "    def find_item_steps(self, key) -> int:\n",
    "        index = self.hasher.hash(key) % self.fixed_array_size\n",
    "        if self.fixed_length_array[index] is not None:\n",
    "            return self.fixed_length_array[index].find_key_steps(key)  # Assuming this method exists\n",
    "        return -1  # Item not found\n",
    "\n",
    "    def entry_to_string(self, index: int, recurse: bool) -> str:\n",
    "        if self.fixed_length_array[index] is None:\n",
    "            return \"None\"\n",
    "        if recurse:\n",
    "            return self.fixed_length_array[index].to_string(recurse)  # Assuming to_string exists in BST\n",
    "        return \"BST\"  # Simplified representation if not recursing\n",
    "\n",
    "    def get_num_added(self):\n",
    "        return self.num_added\n",
    "\n",
    "    def increment_num_added(self):\n",
    "        self.num_added += 1\n",
    "\n",
    "    def get_num_collisions(self):\n",
    "        return self.num_collisions\n",
    "\n",
    "    def increment_num_collisions(self):\n",
    "        self.num_collisions += 1\n",
    "\n",
    "    def __len__(self):\n",
    "        return self.get_num_added()\n",
    "\n",
    "    def to_string(self, recurse):\n",
    "        # entry_list = [f'{self.hasher.compute_letter_for_index(i)}: {self.entry_to_string(i, recurse)}' for i in range(self.fixed_array_size)]\n",
    "        \n",
    "        entry_list = [f'{self.hasher.compute_key_for_index(i)}: {self.entry_to_string(i, recurse)}' for i in range(self.fixed_array_size)]\n",
    "        \n",
    "        return \"\\n\".join(entry_list)\n",
    "\n",
    "    def __str__(self):\n",
    "        return self.to_string(False)\n",
    "\n",
    "    def __repr__(self):\n",
    "        return self.to_string(True)"
   ],
   "metadata": {
    "id": "2nA4OlqAC_x-",
    "ExecuteTime": {
     "end_time": "2024-02-23T14:07:59.162199100Z",
     "start_time": "2024-02-23T14:07:59.120575800Z"
    }
   },
   "execution_count": 75,
   "outputs": []
  },
  {
   "cell_type": "code",
   "source": [
    "# @title Q4.1-public-tests\n",
    "q4_1_public_tests = {\n",
    "    # Test 1: Check if LogarithmicHashTable defined in Python memory\n",
    "    'LogarithmicHashTable defined': '✅ Passed!' if 'LogarithmicHashTable' in vars() else \"❌ LogarithmicHashTable not defined in Python memory\",\n",
    "}\n",
    "q4_1_public_tests"
   ],
   "metadata": {
    "id": "0zzp26bkSGKt",
    "ExecuteTime": {
     "end_time": "2024-02-23T14:07:59.892973200Z",
     "start_time": "2024-02-23T14:07:59.872417800Z"
    }
   },
   "execution_count": 76,
   "outputs": [
    {
     "data": {
      "text/plain": "{'LogarithmicHashTable defined': '✅ Passed!'}"
     },
     "execution_count": 76,
     "metadata": {},
     "output_type": "execute_result"
    }
   ]
  },
  {
   "cell_type": "markdown",
   "source": [
    "### Part 4.2: Using `LogarithmicHashTable`"
   ],
   "metadata": {
    "id": "YGANaDvh-eYV"
   }
  },
  {
   "cell_type": "markdown",
   "source": [
    "Now, as you've done before, run the following cell to load the (fake) product data into a Pandas `DataFrame` object called `product_df_log`, and use the `iterrows()` function to loop over each element in `product_df_log` and add it into the `LogarithmicHashTable` object called `log_ht` we've created for you in the first line of the `Q4.2-response` cell below."
   ],
   "metadata": {
    "id": "8PB_OG08Gdck"
   }
  },
  {
   "cell_type": "code",
   "source": [
    "# @title Q4.2.1-response\n",
    "logarithmic_ht = LogarithmicHashTable()\n",
    "\n",
    "# Your code here\n",
    "for index, row in product_df.iterrows():\n",
    "    logarithmic_ht.add(row['product_name'], row['price'])\n",
    "# product_df\n",
    "\n",
    "# Do not modify or add code below the following lines, please!\n",
    "logarithmic_ht"
   ],
   "metadata": {
    "id": "VF5ltznfGcWY",
    "ExecuteTime": {
     "end_time": "2024-02-23T14:08:02.259458800Z",
     "start_time": "2024-02-23T14:08:02.238362200Z"
    }
   },
   "execution_count": 77,
   "outputs": [
    {
     "data": {
      "text/plain": "A: BinarySearchTree[Apple - Delicious, Red: 84.85,Arrowroot: 35.22,Aspic - Light: 9.84]\nB: BinarySearchTree[Baking Soda: 26.32,Bar Mix - Lemon: 90.35,Beef - Baby, Liver: 16.15]\nC: BinarySearchTree[Cookies - Englishbay Chochip: 94.55,Crab - Meat: 67.26,Curry Powder: 13.95]\nD: BinarySearchTree[Dawn Professionl Pot And Pan: 92.12,Drambuie: 29.84,Durian Fruit: 53.17]\nE: BinarySearchTree[Easy Off Oven Cleaner: 58.93,Ecolab - Hobart Upr Prewash Arm: 81.13,Eggplant - Regular: 20.17]\nF: BinarySearchTree[Flour - Semolina: 98.85,Flower - Commercial Bronze: 20.53,Fudge - Chocolate Fudge: 3.13]\nG: BinarySearchTree[Graham Cracker Mix: 48.91,Grapes - Black: 81.96,Grenadine: 6.99]\nH: BinarySearchTree[Ham - Cooked Italian: 6.11,Hot Chocolate - Individual: 38.88,Hummus - Spread: 29.76]\nI: BinarySearchTree[Ice Cream Bar - Hageen Daz To: 15.19,Ice Cream Bar - Rolo Cone: 92.29,Island Oasis - Cappucino Mix: 62.82]\nJ: BinarySearchTree[Jam - Apricot: 61.12,Jam - Blackberry, 20 Ml Jar: 37.1,Juice - Grape, White: 91.68]\nK: BinarySearchTree[Kumquat: 53.59]\nL: BinarySearchTree[Lid Tray - 16in Dome: 78.29,Lobster - Base: 21.29,Longos - Grilled Chicken With: 52.35]\nM: BinarySearchTree[Mace Ground: 32.07,Marzipan 50/50: 71.34,Milk 2% 500 Ml: 1.48]\nN: BinarySearchTree[Nantucket - Kiwi Berry Cktl.: 89.57,Nescafe - Frothy French Vanilla: 26.94,Nut - Chestnuts, Whole: 28.76]\nO: BinarySearchTree[Oil - Shortening - All - Purpose: 3.57,Orange - Canned, Mandarin: 94.2,Oyster - In Shell: 78.41]\nP: BinarySearchTree[Pail - 15l White, With Handle: 53.18,Pail With Metal Handle 16l White: 60.64,Pastry - Apple Large: 90.37]\nQ: BinarySearchTree[Quail - Eggs, Fresh: 58.2,Quail - Jumbo Boneless: 31.13]\nR: BinarySearchTree[Radish - Black, Winter, Organic: 14.96,Rambutan: 6.92,Rosemary - Primerba, Paste: 89.9]\nS: BinarySearchTree[Sprouts - Pea: 50.85,Star Anise, Whole: 62.83,Syrup - Monin - Passion Fruit: 6.75]\nT: BinarySearchTree[Table Cloth 81x81 Colour: 80.92,Taro Leaves: 22.03,Tomatoes - Vine Ripe, Red: 58.83]\nU: None\nV: BinarySearchTree[V8 Pet: 47.15,Veal - Brisket, Provimi,bnls: 85.39,Vegetable - Base: 96.11]\nW: BinarySearchTree[Wine - Piper Heidsieck Brut: 4.06,Wine - White, Riesling, Henry Of: 90.1,Worcestershire Sauce: 84.96]\nX: None\nY: BinarySearchTree[Yoghurt Tubes: 46.45,Yokaline: 78.63,Yoplait Drink: 20.1]\nZ: BinarySearchTree[Zucchini - Green: 84.63]"
     },
     "execution_count": 77,
     "metadata": {},
     "output_type": "execute_result"
    }
   ]
  },
  {
   "cell_type": "code",
   "source": [
    "# @title Q4.2.1-public-tests\n",
    "q4_2_1_public_tests = {\n",
    "    # Test 1: Check that logarithmic_ht variable is defined\n",
    "    'logarithmic_ht defined': '✅ Passed!' if 'logarithmic_ht' in vars() else \"❌ No variable named 'logarithmic_ht' exists in Python memory\"\n",
    "}\n",
    "q4_2_1_public_tests"
   ],
   "metadata": {
    "id": "u5AQUraqMWsQ",
    "ExecuteTime": {
     "end_time": "2024-02-23T14:08:03.035720900Z",
     "start_time": "2024-02-23T14:08:03.021574700Z"
    }
   },
   "execution_count": 78,
   "outputs": [
    {
     "data": {
      "text/plain": "{'logarithmic_ht defined': '✅ Passed!'}"
     },
     "execution_count": 78,
     "metadata": {},
     "output_type": "execute_result"
    }
   ]
  },
  {
   "cell_type": "markdown",
   "source": [
    "#### Question 4.2.2: Testing the Efficiency of `LogarithmicHashTable`"
   ],
   "metadata": {
    "id": "MHB74Rpq-jCd"
   }
  },
  {
   "cell_type": "markdown",
   "source": [
    "And, just as you did in earlier parts, now loop over each row of `product_df` and use the `find_item_steps()` function you wrote as part of the `LogarithmicHashTable` class above to compute the number of operations required to find each item in `logarithmic_ht`, appending the result of each loop iteration to the list `retrieval_steps_log`. The code provided for you at the end will then compute and print the **mean** number of steps that was required to retrieve each item in the inventory!"
   ],
   "metadata": {
    "id": "TNYNeBnUHc96"
   }
  },
  {
   "cell_type": "code",
   "source": [
    "# @title Q4.2.2-response\n",
    "retrieval_steps_log = []\n",
    "\n",
    "# Your code here\n",
    "for index, row in product_df.iterrows():\n",
    "    current_key = row['product_name']\n",
    "    retrieval_steps_log.append(logarithmic_ht.find_item_steps(current_key))\n",
    "\n",
    "# Don't modify the following line or add any code below it, please!\n",
    "mean_retrieval_steps_log = -1\n",
    "if len(retrieval_steps_log) > 0:\n",
    "  mean_retrieval_steps_log = sum(retrieval_steps_log) / len(retrieval_steps_log)\n",
    "print(mean_retrieval_steps_log)"
   ],
   "metadata": {
    "id": "PzKD0EuwHcUx",
    "ExecuteTime": {
     "end_time": "2024-02-23T14:08:08.126570600Z",
     "start_time": "2024-02-23T14:08:08.103726800Z"
    }
   },
   "execution_count": 79,
   "outputs": [
    {
     "name": "stdout",
     "output_type": "stream",
     "text": [
      "6.451\n"
     ]
    }
   ]
  },
  {
   "cell_type": "code",
   "source": [
    "# @title Q4.2.2-public-tests\n",
    "q4_2_2_public_tests = {\n",
    "    # Test 1: Make sure retrieval_steps_log is defined\n",
    "    'retrieval_steps_log defined': '✅ Passed!' if 'retrieval_steps_log' in vars() else \"❌ No variabled named 'retrieval_steps_log' exists in Python memory\",\n",
    "    # Test 2: Check that retrieval_steps_log contains a number of steps for each row in product_df\n",
    "    'retrieval_steps_log has correct length': '✅ Passed!' if len(retrieval_steps_log) == len(product_df) else f\"'retrieval_steps_log' should have the same length as 'product_df' ({len(product_df)})\"\n",
    "}\n",
    "q4_2_2_public_tests"
   ],
   "metadata": {
    "id": "pd5N3Zy6L1W-",
    "ExecuteTime": {
     "end_time": "2024-02-23T14:08:10.975022Z",
     "start_time": "2024-02-23T14:08:10.963503400Z"
    }
   },
   "execution_count": 80,
   "outputs": [
    {
     "data": {
      "text/plain": "{'retrieval_steps_log defined': '✅ Passed!',\n 'retrieval_steps_log has correct length': '✅ Passed!'}"
     },
     "execution_count": 80,
     "metadata": {},
     "output_type": "execute_result"
    }
   ]
  },
  {
   "cell_type": "markdown",
   "source": [
    "## Part 5: A Push Towards $O(1)$\n",
    "\n",
    "For this final part, as mentioned in class, we will get **even closer to $O(1)$ time retrieval** by just allocating more memory slots for the fixed-length array used by our hash table, hashing the added keys based on the first **two letters** of the key rather than just the first letter as we've done thus far.\n",
    "\n",
    "To accomplish this, we'll need a new version of the `AlphaHasher` class that we used previously, that will hash keys based on the first two letters rather than just the first letter. Run the following cell, which defines a new `AlphaHasher2` class implementing this hash function:"
   ],
   "metadata": {
    "id": "H9UqwiXURPUd"
   }
  },
  {
   "cell_type": "code",
   "source": [
    "# @title define-alpha-hasher-2\n",
    "# class AlphaHasher2(CustomHasher):\n",
    "#   def __init__(self):\n",
    "#     self.alphabet_size = 26 * 26\n",
    "\n",
    "#   def get_alphabet_size(self):\n",
    "#     return self.alphabet_size\n",
    "\n",
    "#   def hash(self, str_to_hash: str) -> int:\n",
    "#     if len(str_to_hash) == 0:\n",
    "#       first_two_letters = 'AA'\n",
    "#     elif len(str_to_hash) == 1:\n",
    "#       first_letter = str_to_hash.upper()[0]\n",
    "#       second_letter = 'A'\n",
    "#     else:\n",
    "#       first_letter = str_to_hash.upper()[0]\n",
    "#       second_letter = str_to_hash.upper()[1]\n",
    "#     #print(f'First two letters for {str_to_hash}: {first_letter}{second_letter}')\n",
    "#     # And return its index:\n",
    "#     # 'AA' has index 0, 'AB' has index 1, etc.\n",
    "#     first_letter_pos = AlphaHasher2.compute_position_in_alphabet(first_letter)\n",
    "#     second_letter_pos = AlphaHasher2.compute_position_in_alphabet(second_letter)\n",
    "#     # The position in the two-letter alphabet is just 26*first + second\n",
    "#     final_pos = 26 * first_letter_pos + second_letter_pos\n",
    "#     return final_pos\n",
    "\n",
    "#   def compute_position_in_alphabet(self, uppercase_key: str) -> int:\n",
    "#     if uppercase_key in string.ascii_uppercase:\n",
    "#       return string.ascii_uppercase.index(uppercase_key)\n",
    "#     return 0\n",
    "\n",
    "#   def compute_key_for_index(self, index: int) -> str:\n",
    "#     first_letter_part = int(index / 26)\n",
    "#     second_letter_part = index % 26\n",
    "#     # In case you need to debug!\n",
    "#     #print(f'alpha2_index: {index}, first_letter_part: {first_letter_part}, second_letter_part: {second_letter_part}')\n",
    "#     return string.ascii_uppercase[first_letter_part] + string.ascii_uppercase[second_letter_part]\n",
    "\n",
    "\n",
    "\n",
    "import string\n",
    "\n",
    "class AlphaHasher2(CustomHasher):\n",
    "    def __init__(self):\n",
    "        self.alphabet_size = 26 * 26  # Total combinations of two letters\n",
    "\n",
    "    def get_alphabet_size(self):\n",
    "        return self.alphabet_size\n",
    "\n",
    "    def hash(self, str_to_hash: str) -> int:\n",
    "        # Ensure the string is at least 2 characters long, padding with 'A' if necessary\n",
    "        str_to_hash = str_to_hash.upper()\n",
    "        if len(str_to_hash) == 0:\n",
    "            first_two_letters = 'AA'\n",
    "        elif len(str_to_hash) == 1:\n",
    "            first_two_letters = str_to_hash[0] + 'A'\n",
    "        else:\n",
    "            first_two_letters = str_to_hash[0:2]\n",
    "\n",
    "        first_letter_pos = self.compute_position_in_alphabet(first_two_letters[0])\n",
    "        second_letter_pos = self.compute_position_in_alphabet(first_two_letters[1])\n",
    "\n",
    "        # Calculate the final position based on the first two letters\n",
    "        final_pos = 26 * first_letter_pos + second_letter_pos\n",
    "        return final_pos\n",
    "\n",
    "    @staticmethod\n",
    "    def compute_position_in_alphabet(uppercase_letter: str) -> int:\n",
    "        # Return the 0-based index of the uppercase_letter in the alphabet\n",
    "        if uppercase_letter in string.ascii_uppercase:\n",
    "            return string.ascii_uppercase.index(uppercase_letter)\n",
    "        return 0\n",
    "\n",
    "    def compute_key_for_index(self, index: int) -> str:\n",
    "        # Compute the two-letter key from a given index\n",
    "        first_letter_part = int(index / 26)\n",
    "        second_letter_part = index % 26\n",
    "        return string.ascii_uppercase[first_letter_part] + string.ascii_uppercase[second_letter_part]"
   ],
   "metadata": {
    "id": "wgIOgkJIEsFM",
    "ExecuteTime": {
     "end_time": "2024-02-23T14:12:25.239992100Z",
     "start_time": "2024-02-23T14:12:25.231056300Z"
    }
   },
   "execution_count": 81,
   "outputs": []
  },
  {
   "cell_type": "markdown",
   "source": [
    "### Question 5.1\n",
    "\n",
    "Now that we have our `AlphaHasher2` class, for this question, you should be able to re-use almost all of your `LogarithmicHashTable` code to make a new class `LogarithmicHashTable2`, where now the only differences should be:\n",
    "\n",
    "* (a) It is initialized with an `AlphaHasher2` object as its `hasher` instance variable (already done for you in the `__init__()` function), and\n",
    "* (b) It has a new `to_string()` function that, to avoid printing out 676 lines at once, only prints the **filled** slots within the `fixed_length_array` instance variable (also already done for you below)"
   ],
   "metadata": {
    "id": "JdYFCrd5Ev29"
   }
  },
  {
   "cell_type": "code",
   "source": [
    "# @title Q5.1-response\n",
    "class LogarithmicHashTable2:\n",
    "    def __init__(self):\n",
    "        self.hasher = AlphaHasher2()\n",
    "        self.fixed_array_size = self.hasher.get_alphabet_size()\n",
    "        self.fixed_length_array = np.empty(self.fixed_array_size, dtype='object')\n",
    "        self.num_added = 0\n",
    "        self.num_collisions = 0\n",
    "\n",
    "    def add(self, key: str, value: object) -> bool:\n",
    "        index = self.hasher.hash(key) % self.fixed_array_size\n",
    "        if self.fixed_length_array[index] is None:\n",
    "            self.fixed_length_array[index] = BinarySearchTree()\n",
    "        else:\n",
    "            self.increment_num_collisions()\n",
    "        self.fixed_length_array[index].add(InventoryItem(key=key, value=value))\n",
    "        self.increment_num_added()\n",
    "        return True\n",
    "\n",
    "    def find_item_steps(self, key) -> int:\n",
    "        index = self.hasher.hash(key) % self.fixed_array_size\n",
    "        if self.fixed_length_array[index] is not None:\n",
    "            return self.fixed_length_array[index].find_key_steps(key)  # Assuming this method exists\n",
    "        return -1  # Item not found\n",
    "\n",
    "    def get_item_at_index(self, index: int, recurse: bool) -> object:\n",
    "        if self.fixed_length_array[index] is None:\n",
    "            return 'None'\n",
    "        if recurse:\n",
    "            return self.fixed_length_array[index].to_string(recurse)\n",
    "        return 'BST'\n",
    "\n",
    "    def get_num_added(self):\n",
    "        return self.num_added\n",
    "\n",
    "    def increment_num_added(self):\n",
    "        self.num_added = self.num_added + 1\n",
    "\n",
    "    def get_num_collisions(self):\n",
    "        return self.num_collisions\n",
    "\n",
    "    def increment_num_collisions(self):\n",
    "        self.num_collisions = self.num_collisions + 1\n",
    "\n",
    "    def __len__(self):\n",
    "        return self.get_num_added()\n",
    "\n",
    "    def to_string(self, recurse):\n",
    "        non_empty_slots = []\n",
    "        for i in range(len(self.fixed_length_array)):\n",
    "            item_at_i = self.get_item_at_index(i, recurse)\n",
    "            if item_at_i is not None:\n",
    "                entry_letters = self.hasher.compute_key_for_index(index=i)\n",
    "                entry_content = self.get_item_at_index(i, recurse)\n",
    "                entry_str = f'{entry_letters}: {entry_content}'\n",
    "                non_empty_slots.append(entry_str)\n",
    "        return \"\\n\".join(non_empty_slots)\n",
    "\n",
    "    def __repr__(self):\n",
    "        # return \"__repr__() not implemented\" # Your code here\n",
    "        return self.to_string(True)\n",
    "  \n",
    "    def __str__(self):\n",
    "        # return \"__str__() not implemented\" # Your code here\n",
    "        return self.to_string(False)"
   ],
   "metadata": {
    "id": "2NIDUccOhKyT",
    "ExecuteTime": {
     "end_time": "2024-02-23T14:40:57.056892600Z",
     "start_time": "2024-02-23T14:40:57.024338200Z"
    }
   },
   "execution_count": 99,
   "outputs": []
  },
  {
   "cell_type": "code",
   "source": [
    "# @title Q5.1-public-tests\n",
    "q5_1_public_tests = {\n",
    "    # Test 1: Ensure LogarithmicHashTable2 class is defined in Python memory\n",
    "    'LogarithmicHashTable2 defined': '✅ Passed!' if 'LogarithmicHashTable2' in vars() else \"❌ LogarithmicHashTable2 not defined in Python memory\",\n",
    "}\n",
    "q5_1_public_tests"
   ],
   "metadata": {
    "id": "PDYcjLQlSAq1",
    "ExecuteTime": {
     "end_time": "2024-02-23T14:40:57.647235700Z",
     "start_time": "2024-02-23T14:40:57.611539300Z"
    }
   },
   "execution_count": 100,
   "outputs": [
    {
     "data": {
      "text/plain": "{'LogarithmicHashTable2 defined': '✅ Passed!'}"
     },
     "execution_count": 100,
     "metadata": {},
     "output_type": "execute_result"
    }
   ]
  },
  {
   "cell_type": "markdown",
   "source": [
    "### Part 5.2: Measuring the `AlphaHasher2` Efficiency Gain\n",
    "\n",
    "Now that you have a hash table utilizing `AlphaHasher2` rather than `AlphaHasher`, repeat the steps from the end of the previous part in the next cell: adding each of the items from `product_df` one-by-one to the hash table, then computing the mean number of operations required to retrieve the price for a given item. Store this mean number of operations into a Python variable called `two_letter_efficiency`: you should find that the mean number of operations is now about **half** of the mean number of operations we achieved with `AlphaHasher` at the end of the previous part!\n",
    "\n",
    "The takeaway of this part is therefore that we were able to **double** the efficiency of our hash table, simply by allocating more memory slots for our fixed-length array, without changing anything at all in terms of the actual **algorithm** used to store and retrieve data! So, you can now imagine how we can get arbitrarily close to $O(1)$: the hash table is exactly the data structure which illustrates the **efficiency-memory tradeoff** mentioned in the first week of class, in the sense that, we can make it more and more efficient---without any algorithmic changes---simply by allocating more and more memory to the base hash table algorithm."
   ],
   "metadata": {
    "id": "UIrz7BneFMk6"
   }
  },
  {
   "cell_type": "code",
   "source": [
    "import pandas as pd\n",
    "product_df = pd.read_csv(\"https://jpj.georgetown.domains/dsan5500-scratch/mockaroo.csv\")\n",
    "product_df.head()"
   ],
   "metadata": {
    "id": "4MTSfuepLJMW",
    "ExecuteTime": {
     "end_time": "2024-02-23T14:41:01.446328400Z",
     "start_time": "2024-02-23T14:41:00.580364Z"
    }
   },
   "execution_count": 101,
   "outputs": [
    {
     "data": {
      "text/plain": "   id                      product_name  price\n0   1   Nescafe - Frothy French Vanilla  26.94\n1   2                 Star Anise, Whole  62.83\n2   3  Wine - White, Riesling, Henry Of  90.10\n3   4                       Crab - Meat  67.26\n4   5     Syrup - Monin - Passion Fruit   6.75",
      "text/html": "<div>\n<style scoped>\n    .dataframe tbody tr th:only-of-type {\n        vertical-align: middle;\n    }\n\n    .dataframe tbody tr th {\n        vertical-align: top;\n    }\n\n    .dataframe thead th {\n        text-align: right;\n    }\n</style>\n<table border=\"1\" class=\"dataframe\">\n  <thead>\n    <tr style=\"text-align: right;\">\n      <th></th>\n      <th>id</th>\n      <th>product_name</th>\n      <th>price</th>\n    </tr>\n  </thead>\n  <tbody>\n    <tr>\n      <th>0</th>\n      <td>1</td>\n      <td>Nescafe - Frothy French Vanilla</td>\n      <td>26.94</td>\n    </tr>\n    <tr>\n      <th>1</th>\n      <td>2</td>\n      <td>Star Anise, Whole</td>\n      <td>62.83</td>\n    </tr>\n    <tr>\n      <th>2</th>\n      <td>3</td>\n      <td>Wine - White, Riesling, Henry Of</td>\n      <td>90.10</td>\n    </tr>\n    <tr>\n      <th>3</th>\n      <td>4</td>\n      <td>Crab - Meat</td>\n      <td>67.26</td>\n    </tr>\n    <tr>\n      <th>4</th>\n      <td>5</td>\n      <td>Syrup - Monin - Passion Fruit</td>\n      <td>6.75</td>\n    </tr>\n  </tbody>\n</table>\n</div>"
     },
     "execution_count": 101,
     "metadata": {},
     "output_type": "execute_result"
    }
   ]
  },
  {
   "cell_type": "code",
   "source": [
    "# @title Q5.2.1-response\n",
    "logarithmic_ht2 = LogarithmicHashTable2()\n",
    "\n",
    "# Your code here\n",
    "for index, row in product_df.iterrows():\n",
    "    logarithmic_ht2.add(key=row['product_name'], value=row['price'])\n",
    "\n",
    "# Do not modify the following line or add code after it, please!\n",
    "print(logarithmic_ht2)"
   ],
   "metadata": {
    "id": "DlkGqiXwHDNi",
    "ExecuteTime": {
     "end_time": "2024-02-23T14:41:02.322268800Z",
     "start_time": "2024-02-23T14:41:02.273634Z"
    }
   },
   "execution_count": 102,
   "outputs": [
    {
     "name": "stdout",
     "output_type": "stream",
     "text": [
      "AA: None\n",
      "AB: None\n",
      "AC: None\n",
      "AD: None\n",
      "AE: None\n",
      "AF: None\n",
      "AG: None\n",
      "AH: None\n",
      "AI: None\n",
      "AJ: None\n",
      "AK: None\n",
      "AL: BST\n",
      "AM: None\n",
      "AN: None\n",
      "AO: None\n",
      "AP: BST\n",
      "AQ: None\n",
      "AR: BST\n",
      "AS: BST\n",
      "AT: None\n",
      "AU: None\n",
      "AV: None\n",
      "AW: None\n",
      "AX: None\n",
      "AY: None\n",
      "AZ: None\n",
      "BA: BST\n",
      "BB: None\n",
      "BC: None\n",
      "BD: None\n",
      "BE: BST\n",
      "BF: None\n",
      "BG: None\n",
      "BH: None\n",
      "BI: None\n",
      "BJ: None\n",
      "BK: None\n",
      "BL: BST\n",
      "BM: None\n",
      "BN: None\n",
      "BO: BST\n",
      "BP: None\n",
      "BQ: None\n",
      "BR: BST\n",
      "BS: None\n",
      "BT: None\n",
      "BU: BST\n",
      "BV: None\n",
      "BW: None\n",
      "BX: None\n",
      "BY: None\n",
      "BZ: None\n",
      "CA: BST\n",
      "CB: None\n",
      "CC: None\n",
      "CD: None\n",
      "CE: BST\n",
      "CF: None\n",
      "CG: None\n",
      "CH: BST\n",
      "CI: BST\n",
      "CJ: None\n",
      "CK: None\n",
      "CL: BST\n",
      "CM: None\n",
      "CN: None\n",
      "CO: BST\n",
      "CP: None\n",
      "CQ: None\n",
      "CR: BST\n",
      "CS: None\n",
      "CT: None\n",
      "CU: BST\n",
      "CV: None\n",
      "CW: None\n",
      "CX: None\n",
      "CY: None\n",
      "CZ: None\n",
      "DA: BST\n",
      "DB: None\n",
      "DC: None\n",
      "DD: None\n",
      "DE: BST\n",
      "DF: None\n",
      "DG: None\n",
      "DH: None\n",
      "DI: BST\n",
      "DJ: None\n",
      "DK: None\n",
      "DL: None\n",
      "DM: None\n",
      "DN: None\n",
      "DO: BST\n",
      "DP: None\n",
      "DQ: None\n",
      "DR: BST\n",
      "DS: None\n",
      "DT: None\n",
      "DU: BST\n",
      "DV: None\n",
      "DW: None\n",
      "DX: None\n",
      "DY: None\n",
      "DZ: None\n",
      "EA: BST\n",
      "EB: None\n",
      "EC: BST\n",
      "ED: None\n",
      "EE: BST\n",
      "EF: None\n",
      "EG: BST\n",
      "EH: None\n",
      "EI: None\n",
      "EJ: None\n",
      "EK: None\n",
      "EL: None\n",
      "EM: BST\n",
      "EN: BST\n",
      "EO: None\n",
      "EP: None\n",
      "EQ: None\n",
      "ER: None\n",
      "ES: None\n",
      "ET: None\n",
      "EU: None\n",
      "EV: None\n",
      "EW: None\n",
      "EX: BST\n",
      "EY: None\n",
      "EZ: BST\n",
      "FA: None\n",
      "FB: None\n",
      "FC: None\n",
      "FD: None\n",
      "FE: None\n",
      "FF: None\n",
      "FG: None\n",
      "FH: None\n",
      "FI: BST\n",
      "FJ: None\n",
      "FK: None\n",
      "FL: BST\n",
      "FM: None\n",
      "FN: None\n",
      "FO: BST\n",
      "FP: None\n",
      "FQ: None\n",
      "FR: BST\n",
      "FS: None\n",
      "FT: None\n",
      "FU: BST\n",
      "FV: None\n",
      "FW: None\n",
      "FX: None\n",
      "FY: None\n",
      "FZ: None\n",
      "GA: BST\n",
      "GB: None\n",
      "GC: None\n",
      "GD: None\n",
      "GE: None\n",
      "GF: None\n",
      "GG: None\n",
      "GH: BST\n",
      "GI: BST\n",
      "GJ: None\n",
      "GK: None\n",
      "GL: BST\n",
      "GM: None\n",
      "GN: None\n",
      "GO: BST\n",
      "GP: None\n",
      "GQ: None\n",
      "GR: BST\n",
      "GS: None\n",
      "GT: None\n",
      "GU: None\n",
      "GV: None\n",
      "GW: None\n",
      "GX: None\n",
      "GY: None\n",
      "GZ: None\n",
      "HA: BST\n",
      "HB: None\n",
      "HC: None\n",
      "HD: None\n",
      "HE: BST\n",
      "HF: None\n",
      "HG: None\n",
      "HH: None\n",
      "HI: BST\n",
      "HJ: None\n",
      "HK: None\n",
      "HL: None\n",
      "HM: None\n",
      "HN: None\n",
      "HO: BST\n",
      "HP: None\n",
      "HQ: None\n",
      "HR: None\n",
      "HS: None\n",
      "HT: None\n",
      "HU: BST\n",
      "HV: None\n",
      "HW: None\n",
      "HX: None\n",
      "HY: None\n",
      "HZ: None\n",
      "IA: None\n",
      "IB: None\n",
      "IC: BST\n",
      "ID: None\n",
      "IE: None\n",
      "IF: None\n",
      "IG: None\n",
      "IH: None\n",
      "II: None\n",
      "IJ: None\n",
      "IK: None\n",
      "IL: None\n",
      "IM: None\n",
      "IN: None\n",
      "IO: None\n",
      "IP: None\n",
      "IQ: None\n",
      "IR: BST\n",
      "IS: BST\n",
      "IT: None\n",
      "IU: None\n",
      "IV: None\n",
      "IW: None\n",
      "IX: None\n",
      "IY: None\n",
      "IZ: None\n",
      "JA: BST\n",
      "JB: None\n",
      "JC: None\n",
      "JD: None\n",
      "JE: None\n",
      "JF: None\n",
      "JG: None\n",
      "JH: None\n",
      "JI: None\n",
      "JJ: None\n",
      "JK: None\n",
      "JL: None\n",
      "JM: None\n",
      "JN: None\n",
      "JO: BST\n",
      "JP: None\n",
      "JQ: None\n",
      "JR: None\n",
      "JS: None\n",
      "JT: None\n",
      "JU: BST\n",
      "JV: None\n",
      "JW: None\n",
      "JX: None\n",
      "JY: None\n",
      "JZ: None\n",
      "KA: None\n",
      "KB: None\n",
      "KC: None\n",
      "KD: None\n",
      "KE: None\n",
      "KF: None\n",
      "KG: None\n",
      "KH: None\n",
      "KI: None\n",
      "KJ: None\n",
      "KK: None\n",
      "KL: None\n",
      "KM: None\n",
      "KN: None\n",
      "KO: None\n",
      "KP: None\n",
      "KQ: None\n",
      "KR: None\n",
      "KS: None\n",
      "KT: None\n",
      "KU: BST\n",
      "KV: None\n",
      "KW: None\n",
      "KX: None\n",
      "KY: None\n",
      "KZ: None\n",
      "LA: BST\n",
      "LB: None\n",
      "LC: None\n",
      "LD: None\n",
      "LE: BST\n",
      "LF: None\n",
      "LG: None\n",
      "LH: None\n",
      "LI: BST\n",
      "LJ: None\n",
      "LK: None\n",
      "LL: None\n",
      "LM: None\n",
      "LN: None\n",
      "LO: BST\n",
      "LP: None\n",
      "LQ: None\n",
      "LR: None\n",
      "LS: None\n",
      "LT: None\n",
      "LU: None\n",
      "LV: None\n",
      "LW: None\n",
      "LX: None\n",
      "LY: BST\n",
      "LZ: None\n",
      "MA: BST\n",
      "MB: None\n",
      "MC: BST\n",
      "MD: None\n",
      "ME: BST\n",
      "MF: None\n",
      "MG: None\n",
      "MH: None\n",
      "MI: BST\n",
      "MJ: None\n",
      "MK: None\n",
      "ML: None\n",
      "MM: None\n",
      "MN: None\n",
      "MO: BST\n",
      "MP: None\n",
      "MQ: None\n",
      "MR: None\n",
      "MS: None\n",
      "MT: None\n",
      "MU: BST\n",
      "MV: None\n",
      "MW: None\n",
      "MX: None\n",
      "MY: BST\n",
      "MZ: None\n",
      "NA: BST\n",
      "NB: None\n",
      "NC: None\n",
      "ND: None\n",
      "NE: BST\n",
      "NF: None\n",
      "NG: None\n",
      "NH: None\n",
      "NI: None\n",
      "NJ: None\n",
      "NK: None\n",
      "NL: None\n",
      "NM: None\n",
      "NN: None\n",
      "NO: BST\n",
      "NP: None\n",
      "NQ: None\n",
      "NR: None\n",
      "NS: None\n",
      "NT: None\n",
      "NU: BST\n",
      "NV: None\n",
      "NW: None\n",
      "NX: None\n",
      "NY: None\n",
      "NZ: None\n",
      "OA: None\n",
      "OB: None\n",
      "OC: BST\n",
      "OD: None\n",
      "OE: None\n",
      "OF: None\n",
      "OG: None\n",
      "OH: None\n",
      "OI: BST\n",
      "OJ: None\n",
      "OK: BST\n",
      "OL: BST\n",
      "OM: None\n",
      "ON: BST\n",
      "OO: None\n",
      "OP: None\n",
      "OQ: None\n",
      "OR: BST\n",
      "OS: BST\n",
      "OT: None\n",
      "OU: None\n",
      "OV: None\n",
      "OW: None\n",
      "OX: None\n",
      "OY: BST\n",
      "OZ: None\n",
      "PA: BST\n",
      "PB: None\n",
      "PC: None\n",
      "PD: None\n",
      "PE: BST\n",
      "PF: None\n",
      "PG: None\n",
      "PH: None\n",
      "PI: BST\n",
      "PJ: None\n",
      "PK: None\n",
      "PL: BST\n",
      "PM: None\n",
      "PN: None\n",
      "PO: BST\n",
      "PP: None\n",
      "PQ: None\n",
      "PR: None\n",
      "PS: None\n",
      "PT: None\n",
      "PU: BST\n",
      "PV: None\n",
      "PW: None\n",
      "PX: None\n",
      "PY: None\n",
      "PZ: None\n",
      "QA: None\n",
      "QB: None\n",
      "QC: None\n",
      "QD: None\n",
      "QE: None\n",
      "QF: None\n",
      "QG: None\n",
      "QH: None\n",
      "QI: None\n",
      "QJ: None\n",
      "QK: None\n",
      "QL: None\n",
      "QM: None\n",
      "QN: None\n",
      "QO: None\n",
      "QP: None\n",
      "QQ: None\n",
      "QR: None\n",
      "QS: None\n",
      "QT: None\n",
      "QU: BST\n",
      "QV: None\n",
      "QW: None\n",
      "QX: None\n",
      "QY: None\n",
      "QZ: None\n",
      "RA: BST\n",
      "RB: None\n",
      "RC: None\n",
      "RD: None\n",
      "RE: BST\n",
      "RF: None\n",
      "RG: None\n",
      "RH: None\n",
      "RI: BST\n",
      "RJ: None\n",
      "RK: None\n",
      "RL: None\n",
      "RM: None\n",
      "RN: None\n",
      "RO: BST\n",
      "RP: None\n",
      "RQ: None\n",
      "RR: None\n",
      "RS: None\n",
      "RT: None\n",
      "RU: BST\n",
      "RV: None\n",
      "RW: None\n",
      "RX: None\n",
      "RY: None\n",
      "RZ: None\n",
      "SA: BST\n",
      "SB: None\n",
      "SC: BST\n",
      "SD: None\n",
      "SE: BST\n",
      "SF: None\n",
      "SG: None\n",
      "SH: BST\n",
      "SI: BST\n",
      "SJ: None\n",
      "SK: BST\n",
      "SL: None\n",
      "SM: BST\n",
      "SN: None\n",
      "SO: BST\n",
      "SP: BST\n",
      "SQ: BST\n",
      "SR: None\n",
      "SS: None\n",
      "ST: BST\n",
      "SU: BST\n",
      "SV: None\n",
      "SW: BST\n",
      "SX: None\n",
      "SY: BST\n",
      "SZ: None\n",
      "TA: BST\n",
      "TB: None\n",
      "TC: None\n",
      "TD: None\n",
      "TE: BST\n",
      "TF: None\n",
      "TG: None\n",
      "TH: BST\n",
      "TI: None\n",
      "TJ: None\n",
      "TK: None\n",
      "TL: None\n",
      "TM: None\n",
      "TN: None\n",
      "TO: BST\n",
      "TP: None\n",
      "TQ: None\n",
      "TR: BST\n",
      "TS: None\n",
      "TT: None\n",
      "TU: BST\n",
      "TV: None\n",
      "TW: None\n",
      "TX: None\n",
      "TY: None\n",
      "TZ: None\n",
      "UA: None\n",
      "UB: None\n",
      "UC: None\n",
      "UD: None\n",
      "UE: None\n",
      "UF: None\n",
      "UG: None\n",
      "UH: None\n",
      "UI: None\n",
      "UJ: None\n",
      "UK: None\n",
      "UL: None\n",
      "UM: None\n",
      "UN: None\n",
      "UO: None\n",
      "UP: None\n",
      "UQ: None\n",
      "UR: None\n",
      "US: None\n",
      "UT: None\n",
      "UU: None\n",
      "UV: None\n",
      "UW: None\n",
      "UX: None\n",
      "UY: None\n",
      "UZ: None\n",
      "VA: BST\n",
      "VB: None\n",
      "VC: None\n",
      "VD: None\n",
      "VE: BST\n",
      "VF: None\n",
      "VG: None\n",
      "VH: None\n",
      "VI: BST\n",
      "VJ: None\n",
      "VK: None\n",
      "VL: None\n",
      "VM: None\n",
      "VN: None\n",
      "VO: BST\n",
      "VP: None\n",
      "VQ: None\n",
      "VR: None\n",
      "VS: None\n",
      "VT: None\n",
      "VU: None\n",
      "VV: None\n",
      "VW: None\n",
      "VX: None\n",
      "VY: None\n",
      "VZ: None\n",
      "WA: BST\n",
      "WB: None\n",
      "WC: None\n",
      "WD: None\n",
      "WE: None\n",
      "WF: None\n",
      "WG: None\n",
      "WH: None\n",
      "WI: BST\n",
      "WJ: None\n",
      "WK: None\n",
      "WL: None\n",
      "WM: None\n",
      "WN: None\n",
      "WO: BST\n",
      "WP: None\n",
      "WQ: None\n",
      "WR: None\n",
      "WS: None\n",
      "WT: None\n",
      "WU: None\n",
      "WV: None\n",
      "WW: None\n",
      "WX: None\n",
      "WY: None\n",
      "WZ: None\n",
      "XA: None\n",
      "XB: None\n",
      "XC: None\n",
      "XD: None\n",
      "XE: None\n",
      "XF: None\n",
      "XG: None\n",
      "XH: None\n",
      "XI: None\n",
      "XJ: None\n",
      "XK: None\n",
      "XL: None\n",
      "XM: None\n",
      "XN: None\n",
      "XO: None\n",
      "XP: None\n",
      "XQ: None\n",
      "XR: None\n",
      "XS: None\n",
      "XT: None\n",
      "XU: None\n",
      "XV: None\n",
      "XW: None\n",
      "XX: None\n",
      "XY: None\n",
      "XZ: None\n",
      "YA: None\n",
      "YB: None\n",
      "YC: None\n",
      "YD: None\n",
      "YE: BST\n",
      "YF: None\n",
      "YG: None\n",
      "YH: None\n",
      "YI: None\n",
      "YJ: None\n",
      "YK: None\n",
      "YL: None\n",
      "YM: None\n",
      "YN: None\n",
      "YO: BST\n",
      "YP: None\n",
      "YQ: None\n",
      "YR: None\n",
      "YS: None\n",
      "YT: None\n",
      "YU: None\n",
      "YV: None\n",
      "YW: None\n",
      "YX: None\n",
      "YY: None\n",
      "YZ: None\n",
      "ZA: None\n",
      "ZB: None\n",
      "ZC: None\n",
      "ZD: None\n",
      "ZE: None\n",
      "ZF: None\n",
      "ZG: None\n",
      "ZH: None\n",
      "ZI: None\n",
      "ZJ: None\n",
      "ZK: None\n",
      "ZL: None\n",
      "ZM: None\n",
      "ZN: None\n",
      "ZO: None\n",
      "ZP: None\n",
      "ZQ: None\n",
      "ZR: None\n",
      "ZS: None\n",
      "ZT: None\n",
      "ZU: BST\n",
      "ZV: None\n",
      "ZW: None\n",
      "ZX: None\n",
      "ZY: None\n",
      "ZZ: None\n"
     ]
    }
   ]
  },
  {
   "cell_type": "code",
   "source": [
    "# @title Q5.2.1-public-tests\n",
    "q5_2_1_public_tests = {\n",
    "    # Test 1: Ensure that logarithmic_ht2 is defined\n",
    "    'logarithmic_ht2 defined': '✅ Passed!' if 'logarithmic_ht2' in vars() else \"❌ No variable named 'logarithmic_ht2' exists in Python memory\"\n",
    "}\n",
    "q5_2_1_public_tests"
   ],
   "metadata": {
    "id": "KP-VP9p6HFba",
    "ExecuteTime": {
     "end_time": "2024-02-23T14:41:04.400895100Z",
     "start_time": "2024-02-23T14:41:04.387791100Z"
    }
   },
   "execution_count": 103,
   "outputs": [
    {
     "data": {
      "text/plain": "{'logarithmic_ht2 defined': '✅ Passed!'}"
     },
     "execution_count": 103,
     "metadata": {},
     "output_type": "execute_result"
    }
   ]
  },
  {
   "cell_type": "markdown",
   "source": [
    "#### Question 5.2.2: Efficiency\n",
    "\n",
    "Now, as you've done before, complete the following code by using the `iterrows()` function to loop over each row in `product_df`, storing the number of steps required find the item in this row in `log_retrieval2`"
   ],
   "metadata": {
    "id": "2pMP_SNvLd7o"
   }
  },
  {
   "cell_type": "code",
   "source": [
    "# @title Q5.2.2-response\n",
    "retrieval_steps_log2 = []\n",
    "\n",
    "# Your code here\n",
    "for index, row in product_df.iterrows():\n",
    "    current_key = row['product_name']\n",
    "    retrieval_steps_log2.append(logarithmic_ht2.find_item_steps(current_key))\n",
    "\n",
    "# Don't modify the following lines or add any code below it, please!\n",
    "mean_retrieval_steps_log2 = -1\n",
    "if len(retrieval_steps_log2) > 0:\n",
    "  mean_retrieval_steps_log2 = sum(retrieval_steps_log2) / len(retrieval_steps_log2)\n",
    "print(mean_retrieval_steps_log2)"
   ],
   "metadata": {
    "id": "N__osr-_Ldag",
    "ExecuteTime": {
     "end_time": "2024-02-23T14:43:27.186749900Z",
     "start_time": "2024-02-23T14:43:27.161903200Z"
    }
   },
   "execution_count": 104,
   "outputs": [
    {
     "name": "stdout",
     "output_type": "stream",
     "text": [
      "3.919\n"
     ]
    }
   ]
  },
  {
   "cell_type": "code",
   "source": [
    "# @title Q5.2.2-public-tests\n",
    "q5_2_2_public_tests = {\n",
    "    # Test 1: Ensure that mean_retrieval_steps_log2 exists in Python memory\n",
    "    'mean_retrieval_steps_log2 is defined': '✅ Passed!' if 'mean_retrieval_steps_log2' in vars() else \"❌ No variable named 'mean_retrieval_steps_log2' exists in Python memory\",\n",
    "}\n",
    "q5_2_2_public_tests"
   ],
   "metadata": {
    "id": "sPqBV0qZMG2j",
    "ExecuteTime": {
     "end_time": "2024-02-23T14:43:28.766594100Z",
     "start_time": "2024-02-23T14:43:28.745122500Z"
    }
   },
   "execution_count": 105,
   "outputs": [
    {
     "data": {
      "text/plain": "{'mean_retrieval_steps_log2 is defined': '✅ Passed!'}"
     },
     "execution_count": 105,
     "metadata": {},
     "output_type": "execute_result"
    }
   ]
  },
  {
   "cell_type": "markdown",
   "source": [
    "You did it! Thank you for your hard work making it to the end. Now make sure you save that hard work, then go back into Google Classroom and use the big blue \"Hand In\" button to submit to the autograder and obtain your hidden-test report.\n",
    "\n",
    "**NOTE** that, once you click \"Hand In\", Google Classroom modifies the permissions for your .ipynb file such that it is \"owned\" by the group of instructors. So, once you receive your results, you'll have to go back to the same part of the interface and **click \"Unsubmit\" to transfer the ownership of the .ipynb back to yourself**, so that you can continue working on the Colab notebook file!"
   ],
   "metadata": {
    "id": "qEVbLvxFRR7u"
   }
  },
  {
   "cell_type": "code",
   "outputs": [],
   "source": [],
   "metadata": {
    "collapsed": false
   }
  }
 ]
}
